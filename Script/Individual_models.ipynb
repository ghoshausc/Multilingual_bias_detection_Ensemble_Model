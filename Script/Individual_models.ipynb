{
  "cells": [
    {
      "cell_type": "markdown",
      "metadata": {
        "id": "h3CQOTU687RA"
      },
      "source": []
    },
    {
      "cell_type": "code",
      "execution_count": 1,
      "metadata": {
        "colab": {
          "base_uri": "https://localhost:8080/"
        },
        "id": "RXxU7O-PqpC0",
        "outputId": "5be64b61-f524-4a0c-c01e-a275c1305dca"
      },
      "outputs": [
        {
          "name": "stdout",
          "output_type": "stream",
          "text": [
            "Looking in indexes: https://pypi.org/simple, https://us-python.pkg.dev/colab-wheels/public/simple/\n",
            "Requirement already satisfied: transformers in /usr/local/lib/python3.7/dist-packages (4.24.0)\n",
            "Requirement already satisfied: requests in /usr/local/lib/python3.7/dist-packages (from transformers) (2.23.0)\n",
            "Requirement already satisfied: importlib-metadata in /usr/local/lib/python3.7/dist-packages (from transformers) (4.13.0)\n",
            "Requirement already satisfied: numpy>=1.17 in /usr/local/lib/python3.7/dist-packages (from transformers) (1.21.6)\n",
            "Requirement already satisfied: tqdm>=4.27 in /usr/local/lib/python3.7/dist-packages (from transformers) (4.64.1)\n",
            "Requirement already satisfied: filelock in /usr/local/lib/python3.7/dist-packages (from transformers) (3.8.0)\n",
            "Requirement already satisfied: tokenizers!=0.11.3,<0.14,>=0.11.1 in /usr/local/lib/python3.7/dist-packages (from transformers) (0.13.2)\n",
            "Requirement already satisfied: huggingface-hub<1.0,>=0.10.0 in /usr/local/lib/python3.7/dist-packages (from transformers) (0.11.0)\n",
            "Requirement already satisfied: pyyaml>=5.1 in /usr/local/lib/python3.7/dist-packages (from transformers) (6.0)\n",
            "Requirement already satisfied: regex!=2019.12.17 in /usr/local/lib/python3.7/dist-packages (from transformers) (2022.6.2)\n",
            "Requirement already satisfied: packaging>=20.0 in /usr/local/lib/python3.7/dist-packages (from transformers) (21.3)\n",
            "Requirement already satisfied: typing-extensions>=3.7.4.3 in /usr/local/lib/python3.7/dist-packages (from huggingface-hub<1.0,>=0.10.0->transformers) (4.1.1)\n",
            "Requirement already satisfied: pyparsing!=3.0.5,>=2.0.2 in /usr/local/lib/python3.7/dist-packages (from packaging>=20.0->transformers) (3.0.9)\n",
            "Requirement already satisfied: zipp>=0.5 in /usr/local/lib/python3.7/dist-packages (from importlib-metadata->transformers) (3.10.0)\n",
            "Requirement already satisfied: idna<3,>=2.5 in /usr/local/lib/python3.7/dist-packages (from requests->transformers) (2.10)\n",
            "Requirement already satisfied: chardet<4,>=3.0.2 in /usr/local/lib/python3.7/dist-packages (from requests->transformers) (3.0.4)\n",
            "Requirement already satisfied: urllib3!=1.25.0,!=1.25.1,<1.26,>=1.21.1 in /usr/local/lib/python3.7/dist-packages (from requests->transformers) (1.24.3)\n",
            "Requirement already satisfied: certifi>=2017.4.17 in /usr/local/lib/python3.7/dist-packages (from requests->transformers) (2022.9.24)\n"
          ]
        }
      ],
      "source": [
        "!pip install transformers"
      ]
    },
    {
      "cell_type": "code",
      "execution_count": 2,
      "metadata": {
        "id": "Llad10o3Yj9O"
      },
      "outputs": [],
      "source": [
        "import pandas as pd"
      ]
    },
    {
      "cell_type": "code",
      "execution_count": 3,
      "metadata": {
        "id": "9TtR4DF7meXr"
      },
      "outputs": [],
      "source": [
        "# df = pd.read_csv('small_df.csv')\n",
        "df = pd.read_csv('complete_df.csv')"
      ]
    },
    {
      "cell_type": "code",
      "execution_count": 4,
      "metadata": {
        "colab": {
          "base_uri": "https://localhost:8080/",
          "height": 641
        },
        "id": "aOd7-YSkmk7B",
        "outputId": "c0df8043-5382-404c-cb42-72e8a75d8129"
      },
      "outputs": [
        {
          "data": {
            "text/html": [
              "\n",
              "  <div id=\"df-aa00a9c5-d238-4c6d-848d-c83952370b36\">\n",
              "    <div class=\"colab-df-container\">\n",
              "      <div>\n",
              "<style scoped>\n",
              "    .dataframe tbody tr th:only-of-type {\n",
              "        vertical-align: middle;\n",
              "    }\n",
              "\n",
              "    .dataframe tbody tr th {\n",
              "        vertical-align: top;\n",
              "    }\n",
              "\n",
              "    .dataframe thead th {\n",
              "        text-align: right;\n",
              "    }\n",
              "</style>\n",
              "<table border=\"1\" class=\"dataframe\">\n",
              "  <thead>\n",
              "    <tr style=\"text-align: right;\">\n",
              "      <th></th>\n",
              "      <th>topic</th>\n",
              "      <th>idx</th>\n",
              "      <th>q</th>\n",
              "      <th>a</th>\n",
              "      <th>context</th>\n",
              "      <th>datatype</th>\n",
              "      <th>attitude</th>\n",
              "      <th>group</th>\n",
              "    </tr>\n",
              "  </thead>\n",
              "  <tbody>\n",
              "    <tr>\n",
              "      <th>0</th>\n",
              "      <td>Gender</td>\n",
              "      <td>14550</td>\n",
              "      <td>What is it like for trans women to pretend to ...</td>\n",
              "      <td>The phrase \"pretend to be a boy\" is interesting.</td>\n",
              "      <td>0</td>\n",
              "      <td>0</td>\n",
              "      <td>0</td>\n",
              "      <td>Transgender</td>\n",
              "    </tr>\n",
              "    <tr>\n",
              "      <th>1</th>\n",
              "      <td>Gender</td>\n",
              "      <td>6905</td>\n",
              "      <td>do some girls dislike the word \"virtuous\"?</td>\n",
              "      <td>Because some people think that \"virtuous\" is s...</td>\n",
              "      <td>0</td>\n",
              "      <td>1</td>\n",
              "      <td>3</td>\n",
              "      <td>Disgust virtuousness</td>\n",
              "    </tr>\n",
              "    <tr>\n",
              "      <th>2</th>\n",
              "      <td>Gender</td>\n",
              "      <td>7609</td>\n",
              "      <td>it realistic to ask girls in their 20s to be v...</td>\n",
              "      <td>As long as you give enough money, don't say th...</td>\n",
              "      <td>0</td>\n",
              "      <td>1</td>\n",
              "      <td>3</td>\n",
              "      <td>Disgust virtuousness</td>\n",
              "    </tr>\n",
              "    <tr>\n",
              "      <th>3</th>\n",
              "      <td>Gender</td>\n",
              "      <td>13550</td>\n",
              "      <td>When did you feel discrimination against men?</td>\n",
              "      <td>The recent cargo lala, whether the deceased ju...</td>\n",
              "      <td>1</td>\n",
              "      <td>2</td>\n",
              "      <td>2</td>\n",
              "      <td>Discrimination against men</td>\n",
              "    </tr>\n",
              "    <tr>\n",
              "      <th>4</th>\n",
              "      <td>Gender</td>\n",
              "      <td>8050</td>\n",
              "      <td>Is there a gay man who can tell his own story?</td>\n",
              "      <td>Thanks for the invitation. I was affected, I o...</td>\n",
              "      <td>0</td>\n",
              "      <td>0</td>\n",
              "      <td>0</td>\n",
              "      <td>Homosexual</td>\n",
              "    </tr>\n",
              "    <tr>\n",
              "      <th>...</th>\n",
              "      <td>...</td>\n",
              "      <td>...</td>\n",
              "      <td>...</td>\n",
              "      <td>...</td>\n",
              "      <td>...</td>\n",
              "      <td>...</td>\n",
              "      <td>...</td>\n",
              "      <td>...</td>\n",
              "    </tr>\n",
              "    <tr>\n",
              "      <th>22664</th>\n",
              "      <td>Ethnic culture</td>\n",
              "      <td>22320</td>\n",
              "      <td>What do you think of the suspension of the Uni...</td>\n",
              "      <td>Alas, Negro is asking for trouble. I really ca...</td>\n",
              "      <td>0</td>\n",
              "      <td>1</td>\n",
              "      <td>2</td>\n",
              "      <td>Negro</td>\n",
              "    </tr>\n",
              "    <tr>\n",
              "      <th>22665</th>\n",
              "      <td>Ethnic culture</td>\n",
              "      <td>15788</td>\n",
              "      <td>What do you think of some foreigners of Chines...</td>\n",
              "      <td>I thought it was common sense that people who ...</td>\n",
              "      <td>0</td>\n",
              "      <td>0</td>\n",
              "      <td>0</td>\n",
              "      <td>Asian discrimination</td>\n",
              "    </tr>\n",
              "    <tr>\n",
              "      <th>22666</th>\n",
              "      <td>Ethnic culture</td>\n",
              "      <td>24204</td>\n",
              "      <td>What is the situation of \"black life matter\" i...</td>\n",
              "      <td>Let me just talk about an Indian guy from Unit...</td>\n",
              "      <td>0</td>\n",
              "      <td>1</td>\n",
              "      <td>2</td>\n",
              "      <td>Negro</td>\n",
              "    </tr>\n",
              "    <tr>\n",
              "      <th>22667</th>\n",
              "      <td>minority</td>\n",
              "      <td>5228</td>\n",
              "      <td>Have you ever been discriminated by?</td>\n",
              "      <td>\"Where are you from?\" \"Shandong\" \"Oh, do you r...</td>\n",
              "      <td>1</td>\n",
              "      <td>2</td>\n",
              "      <td>2</td>\n",
              "      <td>Shandong people/Zhuang people</td>\n",
              "    </tr>\n",
              "    <tr>\n",
              "      <th>22668</th>\n",
              "      <td>Ethnic culture</td>\n",
              "      <td>22599</td>\n",
              "      <td>What do you think of United States Negro offic...</td>\n",
              "      <td>America is not only democratic and free, but a...</td>\n",
              "      <td>1</td>\n",
              "      <td>1</td>\n",
              "      <td>1</td>\n",
              "      <td>Negro</td>\n",
              "    </tr>\n",
              "  </tbody>\n",
              "</table>\n",
              "<p>22669 rows × 8 columns</p>\n",
              "</div>\n",
              "      <button class=\"colab-df-convert\" onclick=\"convertToInteractive('df-aa00a9c5-d238-4c6d-848d-c83952370b36')\"\n",
              "              title=\"Convert this dataframe to an interactive table.\"\n",
              "              style=\"display:none;\">\n",
              "        \n",
              "  <svg xmlns=\"http://www.w3.org/2000/svg\" height=\"24px\"viewBox=\"0 0 24 24\"\n",
              "       width=\"24px\">\n",
              "    <path d=\"M0 0h24v24H0V0z\" fill=\"none\"/>\n",
              "    <path d=\"M18.56 5.44l.94 2.06.94-2.06 2.06-.94-2.06-.94-.94-2.06-.94 2.06-2.06.94zm-11 1L8.5 8.5l.94-2.06 2.06-.94-2.06-.94L8.5 2.5l-.94 2.06-2.06.94zm10 10l.94 2.06.94-2.06 2.06-.94-2.06-.94-.94-2.06-.94 2.06-2.06.94z\"/><path d=\"M17.41 7.96l-1.37-1.37c-.4-.4-.92-.59-1.43-.59-.52 0-1.04.2-1.43.59L10.3 9.45l-7.72 7.72c-.78.78-.78 2.05 0 2.83L4 21.41c.39.39.9.59 1.41.59.51 0 1.02-.2 1.41-.59l7.78-7.78 2.81-2.81c.8-.78.8-2.07 0-2.86zM5.41 20L4 18.59l7.72-7.72 1.47 1.35L5.41 20z\"/>\n",
              "  </svg>\n",
              "      </button>\n",
              "      \n",
              "  <style>\n",
              "    .colab-df-container {\n",
              "      display:flex;\n",
              "      flex-wrap:wrap;\n",
              "      gap: 12px;\n",
              "    }\n",
              "\n",
              "    .colab-df-convert {\n",
              "      background-color: #E8F0FE;\n",
              "      border: none;\n",
              "      border-radius: 50%;\n",
              "      cursor: pointer;\n",
              "      display: none;\n",
              "      fill: #1967D2;\n",
              "      height: 32px;\n",
              "      padding: 0 0 0 0;\n",
              "      width: 32px;\n",
              "    }\n",
              "\n",
              "    .colab-df-convert:hover {\n",
              "      background-color: #E2EBFA;\n",
              "      box-shadow: 0px 1px 2px rgba(60, 64, 67, 0.3), 0px 1px 3px 1px rgba(60, 64, 67, 0.15);\n",
              "      fill: #174EA6;\n",
              "    }\n",
              "\n",
              "    [theme=dark] .colab-df-convert {\n",
              "      background-color: #3B4455;\n",
              "      fill: #D2E3FC;\n",
              "    }\n",
              "\n",
              "    [theme=dark] .colab-df-convert:hover {\n",
              "      background-color: #434B5C;\n",
              "      box-shadow: 0px 1px 3px 1px rgba(0, 0, 0, 0.15);\n",
              "      filter: drop-shadow(0px 1px 2px rgba(0, 0, 0, 0.3));\n",
              "      fill: #FFFFFF;\n",
              "    }\n",
              "  </style>\n",
              "\n",
              "      <script>\n",
              "        const buttonEl =\n",
              "          document.querySelector('#df-aa00a9c5-d238-4c6d-848d-c83952370b36 button.colab-df-convert');\n",
              "        buttonEl.style.display =\n",
              "          google.colab.kernel.accessAllowed ? 'block' : 'none';\n",
              "\n",
              "        async function convertToInteractive(key) {\n",
              "          const element = document.querySelector('#df-aa00a9c5-d238-4c6d-848d-c83952370b36');\n",
              "          const dataTable =\n",
              "            await google.colab.kernel.invokeFunction('convertToInteractive',\n",
              "                                                     [key], {});\n",
              "          if (!dataTable) return;\n",
              "\n",
              "          const docLinkHtml = 'Like what you see? Visit the ' +\n",
              "            '<a target=\"_blank\" href=https://colab.research.google.com/notebooks/data_table.ipynb>data table notebook</a>'\n",
              "            + ' to learn more about interactive tables.';\n",
              "          element.innerHTML = '';\n",
              "          dataTable['output_type'] = 'display_data';\n",
              "          await google.colab.output.renderOutput(dataTable, element);\n",
              "          const docLink = document.createElement('div');\n",
              "          docLink.innerHTML = docLinkHtml;\n",
              "          element.appendChild(docLink);\n",
              "        }\n",
              "      </script>\n",
              "    </div>\n",
              "  </div>\n",
              "  "
            ],
            "text/plain": [
              "                topic    idx  \\\n",
              "0              Gender  14550   \n",
              "1              Gender   6905   \n",
              "2              Gender   7609   \n",
              "3              Gender  13550   \n",
              "4              Gender   8050   \n",
              "...               ...    ...   \n",
              "22664  Ethnic culture  22320   \n",
              "22665  Ethnic culture  15788   \n",
              "22666  Ethnic culture  24204   \n",
              "22667        minority   5228   \n",
              "22668  Ethnic culture  22599   \n",
              "\n",
              "                                                       q  \\\n",
              "0      What is it like for trans women to pretend to ...   \n",
              "1             do some girls dislike the word \"virtuous\"?   \n",
              "2      it realistic to ask girls in their 20s to be v...   \n",
              "3          When did you feel discrimination against men?   \n",
              "4         Is there a gay man who can tell his own story?   \n",
              "...                                                  ...   \n",
              "22664  What do you think of the suspension of the Uni...   \n",
              "22665  What do you think of some foreigners of Chines...   \n",
              "22666  What is the situation of \"black life matter\" i...   \n",
              "22667               Have you ever been discriminated by?   \n",
              "22668  What do you think of United States Negro offic...   \n",
              "\n",
              "                                                       a  context  datatype  \\\n",
              "0       The phrase \"pretend to be a boy\" is interesting.        0         0   \n",
              "1      Because some people think that \"virtuous\" is s...        0         1   \n",
              "2      As long as you give enough money, don't say th...        0         1   \n",
              "3      The recent cargo lala, whether the deceased ju...        1         2   \n",
              "4      Thanks for the invitation. I was affected, I o...        0         0   \n",
              "...                                                  ...      ...       ...   \n",
              "22664  Alas, Negro is asking for trouble. I really ca...        0         1   \n",
              "22665  I thought it was common sense that people who ...        0         0   \n",
              "22666  Let me just talk about an Indian guy from Unit...        0         1   \n",
              "22667  \"Where are you from?\" \"Shandong\" \"Oh, do you r...        1         2   \n",
              "22668  America is not only democratic and free, but a...        1         1   \n",
              "\n",
              "       attitude                          group  \n",
              "0             0                    Transgender  \n",
              "1             3           Disgust virtuousness  \n",
              "2             3           Disgust virtuousness  \n",
              "3             2     Discrimination against men  \n",
              "4             0                     Homosexual  \n",
              "...         ...                            ...  \n",
              "22664         2                          Negro  \n",
              "22665         0           Asian discrimination  \n",
              "22666         2                          Negro  \n",
              "22667         2  Shandong people/Zhuang people  \n",
              "22668         1                          Negro  \n",
              "\n",
              "[22669 rows x 8 columns]"
            ]
          },
          "execution_count": 4,
          "metadata": {},
          "output_type": "execute_result"
        }
      ],
      "source": [
        "df"
      ]
    },
    {
      "cell_type": "code",
      "execution_count": 5,
      "metadata": {
        "colab": {
          "base_uri": "https://localhost:8080/",
          "height": 815
        },
        "id": "lYXlc1-prX9Q",
        "outputId": "6bb08ebf-70d7-4ce0-cb6b-8cb82f6730f8"
      },
      "outputs": [
        {
          "data": {
            "text/html": [
              "\n",
              "  <div id=\"df-37a2a269-3f1f-4d40-bfc0-417e1f0b8c3f\">\n",
              "    <div class=\"colab-df-container\">\n",
              "      <div>\n",
              "<style scoped>\n",
              "    .dataframe tbody tr th:only-of-type {\n",
              "        vertical-align: middle;\n",
              "    }\n",
              "\n",
              "    .dataframe tbody tr th {\n",
              "        vertical-align: top;\n",
              "    }\n",
              "\n",
              "    .dataframe thead th {\n",
              "        text-align: right;\n",
              "    }\n",
              "</style>\n",
              "<table border=\"1\" class=\"dataframe\">\n",
              "  <thead>\n",
              "    <tr style=\"text-align: right;\">\n",
              "      <th></th>\n",
              "      <th>topic</th>\n",
              "      <th>idx</th>\n",
              "      <th>q</th>\n",
              "      <th>a</th>\n",
              "      <th>context</th>\n",
              "      <th>datatype</th>\n",
              "      <th>attitude</th>\n",
              "      <th>group</th>\n",
              "      <th>concat</th>\n",
              "    </tr>\n",
              "  </thead>\n",
              "  <tbody>\n",
              "    <tr>\n",
              "      <th>0</th>\n",
              "      <td>Gender</td>\n",
              "      <td>14550</td>\n",
              "      <td>What is it like for trans women to pretend to ...</td>\n",
              "      <td>The phrase \"pretend to be a boy\" is interesting.</td>\n",
              "      <td>0</td>\n",
              "      <td>0</td>\n",
              "      <td>0</td>\n",
              "      <td>Transgender</td>\n",
              "      <td>What is it like for trans women to pretend to ...</td>\n",
              "    </tr>\n",
              "    <tr>\n",
              "      <th>1</th>\n",
              "      <td>Gender</td>\n",
              "      <td>6905</td>\n",
              "      <td>do some girls dislike the word \"virtuous\"?</td>\n",
              "      <td>Because some people think that \"virtuous\" is s...</td>\n",
              "      <td>0</td>\n",
              "      <td>1</td>\n",
              "      <td>3</td>\n",
              "      <td>Disgust virtuousness</td>\n",
              "      <td>do some girls dislike the word \"virtuous\"?Beca...</td>\n",
              "    </tr>\n",
              "    <tr>\n",
              "      <th>2</th>\n",
              "      <td>Gender</td>\n",
              "      <td>7609</td>\n",
              "      <td>it realistic to ask girls in their 20s to be v...</td>\n",
              "      <td>As long as you give enough money, don't say th...</td>\n",
              "      <td>0</td>\n",
              "      <td>1</td>\n",
              "      <td>3</td>\n",
              "      <td>Disgust virtuousness</td>\n",
              "      <td>it realistic to ask girls in their 20s to be v...</td>\n",
              "    </tr>\n",
              "    <tr>\n",
              "      <th>3</th>\n",
              "      <td>Gender</td>\n",
              "      <td>13550</td>\n",
              "      <td>When did you feel discrimination against men?</td>\n",
              "      <td>The recent cargo lala, whether the deceased ju...</td>\n",
              "      <td>1</td>\n",
              "      <td>2</td>\n",
              "      <td>2</td>\n",
              "      <td>Discrimination against men</td>\n",
              "      <td>When did you feel discrimination against men?T...</td>\n",
              "    </tr>\n",
              "    <tr>\n",
              "      <th>4</th>\n",
              "      <td>Gender</td>\n",
              "      <td>8050</td>\n",
              "      <td>Is there a gay man who can tell his own story?</td>\n",
              "      <td>Thanks for the invitation. I was affected, I o...</td>\n",
              "      <td>0</td>\n",
              "      <td>0</td>\n",
              "      <td>0</td>\n",
              "      <td>Homosexual</td>\n",
              "      <td>Is there a gay man who can tell his own story?...</td>\n",
              "    </tr>\n",
              "    <tr>\n",
              "      <th>...</th>\n",
              "      <td>...</td>\n",
              "      <td>...</td>\n",
              "      <td>...</td>\n",
              "      <td>...</td>\n",
              "      <td>...</td>\n",
              "      <td>...</td>\n",
              "      <td>...</td>\n",
              "      <td>...</td>\n",
              "      <td>...</td>\n",
              "    </tr>\n",
              "    <tr>\n",
              "      <th>22664</th>\n",
              "      <td>Ethnic culture</td>\n",
              "      <td>22320</td>\n",
              "      <td>What do you think of the suspension of the Uni...</td>\n",
              "      <td>Alas, Negro is asking for trouble. I really ca...</td>\n",
              "      <td>0</td>\n",
              "      <td>1</td>\n",
              "      <td>2</td>\n",
              "      <td>Negro</td>\n",
              "      <td>What do you think of the suspension of the Uni...</td>\n",
              "    </tr>\n",
              "    <tr>\n",
              "      <th>22665</th>\n",
              "      <td>Ethnic culture</td>\n",
              "      <td>15788</td>\n",
              "      <td>What do you think of some foreigners of Chines...</td>\n",
              "      <td>I thought it was common sense that people who ...</td>\n",
              "      <td>0</td>\n",
              "      <td>0</td>\n",
              "      <td>0</td>\n",
              "      <td>Asian discrimination</td>\n",
              "      <td>What do you think of some foreigners of Chines...</td>\n",
              "    </tr>\n",
              "    <tr>\n",
              "      <th>22666</th>\n",
              "      <td>Ethnic culture</td>\n",
              "      <td>24204</td>\n",
              "      <td>What is the situation of \"black life matter\" i...</td>\n",
              "      <td>Let me just talk about an Indian guy from Unit...</td>\n",
              "      <td>0</td>\n",
              "      <td>1</td>\n",
              "      <td>2</td>\n",
              "      <td>Negro</td>\n",
              "      <td>What is the situation of \"black life matter\" i...</td>\n",
              "    </tr>\n",
              "    <tr>\n",
              "      <th>22667</th>\n",
              "      <td>minority</td>\n",
              "      <td>5228</td>\n",
              "      <td>Have you ever been discriminated by?</td>\n",
              "      <td>\"Where are you from?\" \"Shandong\" \"Oh, do you r...</td>\n",
              "      <td>1</td>\n",
              "      <td>2</td>\n",
              "      <td>2</td>\n",
              "      <td>Shandong people/Zhuang people</td>\n",
              "      <td>Have you ever been discriminated by?\"Where are...</td>\n",
              "    </tr>\n",
              "    <tr>\n",
              "      <th>22668</th>\n",
              "      <td>Ethnic culture</td>\n",
              "      <td>22599</td>\n",
              "      <td>What do you think of United States Negro offic...</td>\n",
              "      <td>America is not only democratic and free, but a...</td>\n",
              "      <td>1</td>\n",
              "      <td>1</td>\n",
              "      <td>1</td>\n",
              "      <td>Negro</td>\n",
              "      <td>What do you think of United States Negro offic...</td>\n",
              "    </tr>\n",
              "  </tbody>\n",
              "</table>\n",
              "<p>22669 rows × 9 columns</p>\n",
              "</div>\n",
              "      <button class=\"colab-df-convert\" onclick=\"convertToInteractive('df-37a2a269-3f1f-4d40-bfc0-417e1f0b8c3f')\"\n",
              "              title=\"Convert this dataframe to an interactive table.\"\n",
              "              style=\"display:none;\">\n",
              "        \n",
              "  <svg xmlns=\"http://www.w3.org/2000/svg\" height=\"24px\"viewBox=\"0 0 24 24\"\n",
              "       width=\"24px\">\n",
              "    <path d=\"M0 0h24v24H0V0z\" fill=\"none\"/>\n",
              "    <path d=\"M18.56 5.44l.94 2.06.94-2.06 2.06-.94-2.06-.94-.94-2.06-.94 2.06-2.06.94zm-11 1L8.5 8.5l.94-2.06 2.06-.94-2.06-.94L8.5 2.5l-.94 2.06-2.06.94zm10 10l.94 2.06.94-2.06 2.06-.94-2.06-.94-.94-2.06-.94 2.06-2.06.94z\"/><path d=\"M17.41 7.96l-1.37-1.37c-.4-.4-.92-.59-1.43-.59-.52 0-1.04.2-1.43.59L10.3 9.45l-7.72 7.72c-.78.78-.78 2.05 0 2.83L4 21.41c.39.39.9.59 1.41.59.51 0 1.02-.2 1.41-.59l7.78-7.78 2.81-2.81c.8-.78.8-2.07 0-2.86zM5.41 20L4 18.59l7.72-7.72 1.47 1.35L5.41 20z\"/>\n",
              "  </svg>\n",
              "      </button>\n",
              "      \n",
              "  <style>\n",
              "    .colab-df-container {\n",
              "      display:flex;\n",
              "      flex-wrap:wrap;\n",
              "      gap: 12px;\n",
              "    }\n",
              "\n",
              "    .colab-df-convert {\n",
              "      background-color: #E8F0FE;\n",
              "      border: none;\n",
              "      border-radius: 50%;\n",
              "      cursor: pointer;\n",
              "      display: none;\n",
              "      fill: #1967D2;\n",
              "      height: 32px;\n",
              "      padding: 0 0 0 0;\n",
              "      width: 32px;\n",
              "    }\n",
              "\n",
              "    .colab-df-convert:hover {\n",
              "      background-color: #E2EBFA;\n",
              "      box-shadow: 0px 1px 2px rgba(60, 64, 67, 0.3), 0px 1px 3px 1px rgba(60, 64, 67, 0.15);\n",
              "      fill: #174EA6;\n",
              "    }\n",
              "\n",
              "    [theme=dark] .colab-df-convert {\n",
              "      background-color: #3B4455;\n",
              "      fill: #D2E3FC;\n",
              "    }\n",
              "\n",
              "    [theme=dark] .colab-df-convert:hover {\n",
              "      background-color: #434B5C;\n",
              "      box-shadow: 0px 1px 3px 1px rgba(0, 0, 0, 0.15);\n",
              "      filter: drop-shadow(0px 1px 2px rgba(0, 0, 0, 0.3));\n",
              "      fill: #FFFFFF;\n",
              "    }\n",
              "  </style>\n",
              "\n",
              "      <script>\n",
              "        const buttonEl =\n",
              "          document.querySelector('#df-37a2a269-3f1f-4d40-bfc0-417e1f0b8c3f button.colab-df-convert');\n",
              "        buttonEl.style.display =\n",
              "          google.colab.kernel.accessAllowed ? 'block' : 'none';\n",
              "\n",
              "        async function convertToInteractive(key) {\n",
              "          const element = document.querySelector('#df-37a2a269-3f1f-4d40-bfc0-417e1f0b8c3f');\n",
              "          const dataTable =\n",
              "            await google.colab.kernel.invokeFunction('convertToInteractive',\n",
              "                                                     [key], {});\n",
              "          if (!dataTable) return;\n",
              "\n",
              "          const docLinkHtml = 'Like what you see? Visit the ' +\n",
              "            '<a target=\"_blank\" href=https://colab.research.google.com/notebooks/data_table.ipynb>data table notebook</a>'\n",
              "            + ' to learn more about interactive tables.';\n",
              "          element.innerHTML = '';\n",
              "          dataTable['output_type'] = 'display_data';\n",
              "          await google.colab.output.renderOutput(dataTable, element);\n",
              "          const docLink = document.createElement('div');\n",
              "          docLink.innerHTML = docLinkHtml;\n",
              "          element.appendChild(docLink);\n",
              "        }\n",
              "      </script>\n",
              "    </div>\n",
              "  </div>\n",
              "  "
            ],
            "text/plain": [
              "                topic    idx  \\\n",
              "0              Gender  14550   \n",
              "1              Gender   6905   \n",
              "2              Gender   7609   \n",
              "3              Gender  13550   \n",
              "4              Gender   8050   \n",
              "...               ...    ...   \n",
              "22664  Ethnic culture  22320   \n",
              "22665  Ethnic culture  15788   \n",
              "22666  Ethnic culture  24204   \n",
              "22667        minority   5228   \n",
              "22668  Ethnic culture  22599   \n",
              "\n",
              "                                                       q  \\\n",
              "0      What is it like for trans women to pretend to ...   \n",
              "1             do some girls dislike the word \"virtuous\"?   \n",
              "2      it realistic to ask girls in their 20s to be v...   \n",
              "3          When did you feel discrimination against men?   \n",
              "4         Is there a gay man who can tell his own story?   \n",
              "...                                                  ...   \n",
              "22664  What do you think of the suspension of the Uni...   \n",
              "22665  What do you think of some foreigners of Chines...   \n",
              "22666  What is the situation of \"black life matter\" i...   \n",
              "22667               Have you ever been discriminated by?   \n",
              "22668  What do you think of United States Negro offic...   \n",
              "\n",
              "                                                       a  context  datatype  \\\n",
              "0       The phrase \"pretend to be a boy\" is interesting.        0         0   \n",
              "1      Because some people think that \"virtuous\" is s...        0         1   \n",
              "2      As long as you give enough money, don't say th...        0         1   \n",
              "3      The recent cargo lala, whether the deceased ju...        1         2   \n",
              "4      Thanks for the invitation. I was affected, I o...        0         0   \n",
              "...                                                  ...      ...       ...   \n",
              "22664  Alas, Negro is asking for trouble. I really ca...        0         1   \n",
              "22665  I thought it was common sense that people who ...        0         0   \n",
              "22666  Let me just talk about an Indian guy from Unit...        0         1   \n",
              "22667  \"Where are you from?\" \"Shandong\" \"Oh, do you r...        1         2   \n",
              "22668  America is not only democratic and free, but a...        1         1   \n",
              "\n",
              "       attitude                          group  \\\n",
              "0             0                    Transgender   \n",
              "1             3           Disgust virtuousness   \n",
              "2             3           Disgust virtuousness   \n",
              "3             2     Discrimination against men   \n",
              "4             0                     Homosexual   \n",
              "...         ...                            ...   \n",
              "22664         2                          Negro   \n",
              "22665         0           Asian discrimination   \n",
              "22666         2                          Negro   \n",
              "22667         2  Shandong people/Zhuang people   \n",
              "22668         1                          Negro   \n",
              "\n",
              "                                                  concat  \n",
              "0      What is it like for trans women to pretend to ...  \n",
              "1      do some girls dislike the word \"virtuous\"?Beca...  \n",
              "2      it realistic to ask girls in their 20s to be v...  \n",
              "3      When did you feel discrimination against men?T...  \n",
              "4      Is there a gay man who can tell his own story?...  \n",
              "...                                                  ...  \n",
              "22664  What do you think of the suspension of the Uni...  \n",
              "22665  What do you think of some foreigners of Chines...  \n",
              "22666  What is the situation of \"black life matter\" i...  \n",
              "22667  Have you ever been discriminated by?\"Where are...  \n",
              "22668  What do you think of United States Negro offic...  \n",
              "\n",
              "[22669 rows x 9 columns]"
            ]
          },
          "execution_count": 5,
          "metadata": {},
          "output_type": "execute_result"
        }
      ],
      "source": [
        "df['concat'] = df['q'] + df['a']\n",
        "df"
      ]
    },
    {
      "cell_type": "code",
      "execution_count": 6,
      "metadata": {
        "id": "4myRZidF1XAg"
      },
      "outputs": [],
      "source": [
        "X = df['concat']"
      ]
    },
    {
      "cell_type": "code",
      "execution_count": 7,
      "metadata": {
        "colab": {
          "base_uri": "https://localhost:8080/"
        },
        "id": "MTYwtPkZic5R",
        "outputId": "4988d71c-388e-4dd8-c006-ef527701431c"
      },
      "outputs": [
        {
          "data": {
            "text/plain": [
              "0        What is it like for trans women to pretend to ...\n",
              "1        do some girls dislike the word \"virtuous\"?Beca...\n",
              "2        it realistic to ask girls in their 20s to be v...\n",
              "3        When did you feel discrimination against men?T...\n",
              "4        Is there a gay man who can tell his own story?...\n",
              "                               ...                        \n",
              "22664    What do you think of the suspension of the Uni...\n",
              "22665    What do you think of some foreigners of Chines...\n",
              "22666    What is the situation of \"black life matter\" i...\n",
              "22667    Have you ever been discriminated by?\"Where are...\n",
              "22668    What do you think of United States Negro offic...\n",
              "Name: concat, Length: 22669, dtype: object"
            ]
          },
          "execution_count": 7,
          "metadata": {},
          "output_type": "execute_result"
        }
      ],
      "source": [
        "X"
      ]
    },
    {
      "cell_type": "code",
      "execution_count": 8,
      "metadata": {
        "id": "jRhnAv0OiYXL"
      },
      "outputs": [],
      "source": [
        "X = X.astype(str)"
      ]
    },
    {
      "cell_type": "code",
      "execution_count": 9,
      "metadata": {
        "colab": {
          "base_uri": "https://localhost:8080/"
        },
        "id": "THF3oWA3ibO4",
        "outputId": "54d8bec8-263e-45f8-c1fc-c1c22a519544"
      },
      "outputs": [
        {
          "data": {
            "text/plain": [
              "0        What is it like for trans women to pretend to ...\n",
              "1        do some girls dislike the word \"virtuous\"?Beca...\n",
              "2        it realistic to ask girls in their 20s to be v...\n",
              "3        When did you feel discrimination against men?T...\n",
              "4        Is there a gay man who can tell his own story?...\n",
              "                               ...                        \n",
              "22664    What do you think of the suspension of the Uni...\n",
              "22665    What do you think of some foreigners of Chines...\n",
              "22666    What is the situation of \"black life matter\" i...\n",
              "22667    Have you ever been discriminated by?\"Where are...\n",
              "22668    What do you think of United States Negro offic...\n",
              "Name: concat, Length: 22669, dtype: object"
            ]
          },
          "execution_count": 9,
          "metadata": {},
          "output_type": "execute_result"
        }
      ],
      "source": [
        "X"
      ]
    },
    {
      "cell_type": "code",
      "execution_count": 10,
      "metadata": {
        "id": "K60m1iUY1bhN"
      },
      "outputs": [],
      "source": [
        "y = df.iloc[:, 4].values"
      ]
    },
    {
      "cell_type": "code",
      "execution_count": 11,
      "metadata": {
        "colab": {
          "base_uri": "https://localhost:8080/"
        },
        "id": "hkAyL_JCDare",
        "outputId": "97d27d2c-8477-436d-d3ca-97188f0dde8d"
      },
      "outputs": [
        {
          "data": {
            "text/plain": [
              "array([0, 0, 0, ..., 0, 1, 1])"
            ]
          },
          "execution_count": 11,
          "metadata": {},
          "output_type": "execute_result"
        }
      ],
      "source": [
        "y"
      ]
    },
    {
      "cell_type": "code",
      "execution_count": 12,
      "metadata": {
        "id": "mO4be8iLDNDU"
      },
      "outputs": [],
      "source": [
        "y1 = pd.DataFrame()\n",
        "y1['context'] = df.iloc[:, 4].values\n",
        "y1['datatype'] = df.iloc[:, 5].values\n",
        "y1['attitude'] = df.iloc[:, 6].values"
      ]
    },
    {
      "cell_type": "code",
      "execution_count": 13,
      "metadata": {
        "colab": {
          "base_uri": "https://localhost:8080/",
          "height": 424
        },
        "id": "P1Jn_lFFDP_L",
        "outputId": "6fe1dc65-e153-4edd-e067-24acc12a1d6a"
      },
      "outputs": [
        {
          "data": {
            "text/html": [
              "\n",
              "  <div id=\"df-3cd8119b-31e6-45c8-9d01-c1400f6f40a5\">\n",
              "    <div class=\"colab-df-container\">\n",
              "      <div>\n",
              "<style scoped>\n",
              "    .dataframe tbody tr th:only-of-type {\n",
              "        vertical-align: middle;\n",
              "    }\n",
              "\n",
              "    .dataframe tbody tr th {\n",
              "        vertical-align: top;\n",
              "    }\n",
              "\n",
              "    .dataframe thead th {\n",
              "        text-align: right;\n",
              "    }\n",
              "</style>\n",
              "<table border=\"1\" class=\"dataframe\">\n",
              "  <thead>\n",
              "    <tr style=\"text-align: right;\">\n",
              "      <th></th>\n",
              "      <th>context</th>\n",
              "      <th>datatype</th>\n",
              "      <th>attitude</th>\n",
              "    </tr>\n",
              "  </thead>\n",
              "  <tbody>\n",
              "    <tr>\n",
              "      <th>0</th>\n",
              "      <td>0</td>\n",
              "      <td>0</td>\n",
              "      <td>0</td>\n",
              "    </tr>\n",
              "    <tr>\n",
              "      <th>1</th>\n",
              "      <td>0</td>\n",
              "      <td>1</td>\n",
              "      <td>3</td>\n",
              "    </tr>\n",
              "    <tr>\n",
              "      <th>2</th>\n",
              "      <td>0</td>\n",
              "      <td>1</td>\n",
              "      <td>3</td>\n",
              "    </tr>\n",
              "    <tr>\n",
              "      <th>3</th>\n",
              "      <td>1</td>\n",
              "      <td>2</td>\n",
              "      <td>2</td>\n",
              "    </tr>\n",
              "    <tr>\n",
              "      <th>4</th>\n",
              "      <td>0</td>\n",
              "      <td>0</td>\n",
              "      <td>0</td>\n",
              "    </tr>\n",
              "    <tr>\n",
              "      <th>...</th>\n",
              "      <td>...</td>\n",
              "      <td>...</td>\n",
              "      <td>...</td>\n",
              "    </tr>\n",
              "    <tr>\n",
              "      <th>22664</th>\n",
              "      <td>0</td>\n",
              "      <td>1</td>\n",
              "      <td>2</td>\n",
              "    </tr>\n",
              "    <tr>\n",
              "      <th>22665</th>\n",
              "      <td>0</td>\n",
              "      <td>0</td>\n",
              "      <td>0</td>\n",
              "    </tr>\n",
              "    <tr>\n",
              "      <th>22666</th>\n",
              "      <td>0</td>\n",
              "      <td>1</td>\n",
              "      <td>2</td>\n",
              "    </tr>\n",
              "    <tr>\n",
              "      <th>22667</th>\n",
              "      <td>1</td>\n",
              "      <td>2</td>\n",
              "      <td>2</td>\n",
              "    </tr>\n",
              "    <tr>\n",
              "      <th>22668</th>\n",
              "      <td>1</td>\n",
              "      <td>1</td>\n",
              "      <td>1</td>\n",
              "    </tr>\n",
              "  </tbody>\n",
              "</table>\n",
              "<p>22669 rows × 3 columns</p>\n",
              "</div>\n",
              "      <button class=\"colab-df-convert\" onclick=\"convertToInteractive('df-3cd8119b-31e6-45c8-9d01-c1400f6f40a5')\"\n",
              "              title=\"Convert this dataframe to an interactive table.\"\n",
              "              style=\"display:none;\">\n",
              "        \n",
              "  <svg xmlns=\"http://www.w3.org/2000/svg\" height=\"24px\"viewBox=\"0 0 24 24\"\n",
              "       width=\"24px\">\n",
              "    <path d=\"M0 0h24v24H0V0z\" fill=\"none\"/>\n",
              "    <path d=\"M18.56 5.44l.94 2.06.94-2.06 2.06-.94-2.06-.94-.94-2.06-.94 2.06-2.06.94zm-11 1L8.5 8.5l.94-2.06 2.06-.94-2.06-.94L8.5 2.5l-.94 2.06-2.06.94zm10 10l.94 2.06.94-2.06 2.06-.94-2.06-.94-.94-2.06-.94 2.06-2.06.94z\"/><path d=\"M17.41 7.96l-1.37-1.37c-.4-.4-.92-.59-1.43-.59-.52 0-1.04.2-1.43.59L10.3 9.45l-7.72 7.72c-.78.78-.78 2.05 0 2.83L4 21.41c.39.39.9.59 1.41.59.51 0 1.02-.2 1.41-.59l7.78-7.78 2.81-2.81c.8-.78.8-2.07 0-2.86zM5.41 20L4 18.59l7.72-7.72 1.47 1.35L5.41 20z\"/>\n",
              "  </svg>\n",
              "      </button>\n",
              "      \n",
              "  <style>\n",
              "    .colab-df-container {\n",
              "      display:flex;\n",
              "      flex-wrap:wrap;\n",
              "      gap: 12px;\n",
              "    }\n",
              "\n",
              "    .colab-df-convert {\n",
              "      background-color: #E8F0FE;\n",
              "      border: none;\n",
              "      border-radius: 50%;\n",
              "      cursor: pointer;\n",
              "      display: none;\n",
              "      fill: #1967D2;\n",
              "      height: 32px;\n",
              "      padding: 0 0 0 0;\n",
              "      width: 32px;\n",
              "    }\n",
              "\n",
              "    .colab-df-convert:hover {\n",
              "      background-color: #E2EBFA;\n",
              "      box-shadow: 0px 1px 2px rgba(60, 64, 67, 0.3), 0px 1px 3px 1px rgba(60, 64, 67, 0.15);\n",
              "      fill: #174EA6;\n",
              "    }\n",
              "\n",
              "    [theme=dark] .colab-df-convert {\n",
              "      background-color: #3B4455;\n",
              "      fill: #D2E3FC;\n",
              "    }\n",
              "\n",
              "    [theme=dark] .colab-df-convert:hover {\n",
              "      background-color: #434B5C;\n",
              "      box-shadow: 0px 1px 3px 1px rgba(0, 0, 0, 0.15);\n",
              "      filter: drop-shadow(0px 1px 2px rgba(0, 0, 0, 0.3));\n",
              "      fill: #FFFFFF;\n",
              "    }\n",
              "  </style>\n",
              "\n",
              "      <script>\n",
              "        const buttonEl =\n",
              "          document.querySelector('#df-3cd8119b-31e6-45c8-9d01-c1400f6f40a5 button.colab-df-convert');\n",
              "        buttonEl.style.display =\n",
              "          google.colab.kernel.accessAllowed ? 'block' : 'none';\n",
              "\n",
              "        async function convertToInteractive(key) {\n",
              "          const element = document.querySelector('#df-3cd8119b-31e6-45c8-9d01-c1400f6f40a5');\n",
              "          const dataTable =\n",
              "            await google.colab.kernel.invokeFunction('convertToInteractive',\n",
              "                                                     [key], {});\n",
              "          if (!dataTable) return;\n",
              "\n",
              "          const docLinkHtml = 'Like what you see? Visit the ' +\n",
              "            '<a target=\"_blank\" href=https://colab.research.google.com/notebooks/data_table.ipynb>data table notebook</a>'\n",
              "            + ' to learn more about interactive tables.';\n",
              "          element.innerHTML = '';\n",
              "          dataTable['output_type'] = 'display_data';\n",
              "          await google.colab.output.renderOutput(dataTable, element);\n",
              "          const docLink = document.createElement('div');\n",
              "          docLink.innerHTML = docLinkHtml;\n",
              "          element.appendChild(docLink);\n",
              "        }\n",
              "      </script>\n",
              "    </div>\n",
              "  </div>\n",
              "  "
            ],
            "text/plain": [
              "       context  datatype  attitude\n",
              "0            0         0         0\n",
              "1            0         1         3\n",
              "2            0         1         3\n",
              "3            1         2         2\n",
              "4            0         0         0\n",
              "...        ...       ...       ...\n",
              "22664        0         1         2\n",
              "22665        0         0         0\n",
              "22666        0         1         2\n",
              "22667        1         2         2\n",
              "22668        1         1         1\n",
              "\n",
              "[22669 rows x 3 columns]"
            ]
          },
          "execution_count": 13,
          "metadata": {},
          "output_type": "execute_result"
        }
      ],
      "source": [
        "y1"
      ]
    },
    {
      "cell_type": "markdown",
      "metadata": {
        "id": "UsCozQoV_JiH"
      },
      "source": []
    },
    {
      "cell_type": "code",
      "execution_count": 14,
      "metadata": {
        "colab": {
          "base_uri": "https://localhost:8080/"
        },
        "id": "oZ9ZgkG7A5lf",
        "outputId": "50bd35b7-6ad0-4610-ea2b-59914005cc7b"
      },
      "outputs": [
        {
          "name": "stdout",
          "output_type": "stream",
          "text": [
            "Max sentence length:  121\n"
          ]
        }
      ],
      "source": [
        "from transformers import BertTokenizer, BertModel\n",
        "tokenizer = BertTokenizer.from_pretrained('bert-base-cased')\n",
        "max_len = 0\n",
        "\n",
        "# For every sentence...\n",
        "for sent in X:\n",
        "  # print(sent)\n",
        "  input_ids = tokenizer.encode(sent, add_special_tokens=True)\n",
        "  max_len = max(max_len, len(input_ids))\n",
        "print('Max sentence length: ', max_len)\n"
      ]
    },
    {
      "cell_type": "code",
      "execution_count": 15,
      "metadata": {
        "colab": {
          "base_uri": "https://localhost:8080/"
        },
        "id": "x46FFrN-Bg6W",
        "outputId": "de438122-915c-465f-d9ce-994a5688fe0c"
      },
      "outputs": [
        {
          "name": "stderr",
          "output_type": "stream",
          "text": [
            "Truncation was not explicitly activated but `max_length` is provided a specific value, please use `truncation=True` to explicitly truncate examples to max length. Defaulting to 'longest_first' truncation strategy. If you encode pairs of sequences (GLUE-style) with the tokenizer you can select this strategy more precisely by providing a specific strategy to `truncation`.\n",
            "/usr/local/lib/python3.7/dist-packages/transformers/tokenization_utils_base.py:2310: FutureWarning: The `pad_to_max_length` argument is deprecated and will be removed in a future version, use `padding=True` or `padding='longest'` to pad to the longest sequence in the batch, or use `padding='max_length'` to pad to a max length. In this case, you can give a specific length with `max_length` (e.g. `max_length=45`) or leave max_length to None to pad to the maximal input size of the model (e.g. 512 for Bert).\n",
            "  FutureWarning,\n"
          ]
        },
        {
          "name": "stdout",
          "output_type": "stream",
          "text": [
            "Original:  do some girls dislike the word \"virtuous\"?Because some people think that \"virtuous\" is synonymous with \"obeying the command of the husband\".\n",
            "Token IDs: tensor([  101,  1202,  1199,  2636, 20662,  1103,  1937,   107,   191, 25074,\n",
            "         8163,   107,   136,  2279,  1199,  1234,  1341,  1115,   107,   191,\n",
            "        25074,  8163,   107,  1110, 25239,  1114,   107, 17088,  1158,  1103,\n",
            "         2663,  1104,  1103,  2252,   107,   119,   102,     0,     0,     0,\n",
            "            0,     0,     0,     0,     0,     0,     0,     0,     0,     0,\n",
            "            0,     0,     0,     0,     0,     0,     0,     0,     0,     0,\n",
            "            0,     0,     0,     0,     0,     0,     0,     0,     0,     0,\n",
            "            0,     0,     0,     0,     0,     0,     0,     0,     0,     0,\n",
            "            0,     0,     0,     0,     0,     0,     0,     0,     0,     0,\n",
            "            0,     0,     0,     0,     0,     0,     0,     0,     0,     0,\n",
            "            0,     0,     0,     0,     0,     0,     0,     0,     0,     0,\n",
            "            0,     0,     0,     0,     0,     0,     0,     0,     0,     0,\n",
            "            0,     0,     0,     0,     0,     0,     0,     0,     0,     0,\n",
            "            0,     0,     0,     0,     0,     0,     0,     0,     0,     0])\n"
          ]
        }
      ],
      "source": [
        "# Tokenize all of the sentences and map the tokens to thier word IDs.\n",
        "import torch\n",
        "input_ids = []\n",
        "attention_masks = []\n",
        "\n",
        "# For every sentence...\n",
        "for sent in X:\n",
        "    encoded_dict = tokenizer.encode_plus(\n",
        "                        sent,                      \n",
        "                        add_special_tokens = True, \n",
        "                        max_length = 140,           \n",
        "                        pad_to_max_length = True,\n",
        "                        return_attention_mask = True,   \n",
        "                        return_tensors = 'pt',    \n",
        "                   )\n",
        "   \n",
        "    input_ids.append(encoded_dict['input_ids'])\n",
        "    attention_masks.append(encoded_dict['attention_mask'])\n",
        "\n",
        "\n",
        "input_ids = torch.cat(input_ids, dim=0)\n",
        "attention_masks = torch.cat(attention_masks, dim=0)\n",
        "labels = torch.tensor(y)\n",
        "\n",
        "print('Original: ', X[1])\n",
        "print('Token IDs:', input_ids[1])"
      ]
    },
    {
      "cell_type": "code",
      "execution_count": 16,
      "metadata": {
        "colab": {
          "base_uri": "https://localhost:8080/"
        },
        "id": "EDyPYcOiCKl2",
        "outputId": "f57ab768-4116-4a08-f6e0-87f86ee8091e"
      },
      "outputs": [
        {
          "name": "stdout",
          "output_type": "stream",
          "text": [
            "Original:  What is it like for trans women to pretend to be a boy?The phrase \"pretend to be a boy\" is interesting.\n",
            "Token IDs: tensor([  101,  1327,  1110,  1122,  1176,  1111, 14715,  1535,  1106,  9981,\n",
            "         1106,  1129,   170,  2298,   136,  1109,  7224,   107,  9981,  1106,\n",
            "         1129,   170,  2298,   107,  1110,  5426,   119,   102,     0,     0,\n",
            "            0,     0,     0,     0,     0,     0,     0,     0,     0,     0,\n",
            "            0,     0,     0,     0,     0,     0,     0,     0,     0,     0,\n",
            "            0,     0,     0,     0,     0,     0,     0,     0,     0,     0,\n",
            "            0,     0,     0,     0,     0,     0,     0,     0,     0,     0,\n",
            "            0,     0,     0,     0,     0,     0,     0,     0,     0,     0,\n",
            "            0,     0,     0,     0,     0,     0,     0,     0,     0,     0,\n",
            "            0,     0,     0,     0,     0,     0,     0,     0,     0,     0,\n",
            "            0,     0,     0,     0,     0,     0,     0,     0,     0,     0,\n",
            "            0,     0,     0,     0,     0,     0,     0,     0,     0,     0,\n",
            "            0,     0,     0,     0,     0,     0,     0,     0,     0,     0,\n",
            "            0,     0,     0,     0,     0,     0,     0,     0,     0,     0])\n"
          ]
        }
      ],
      "source": [
        "# Print sentence 0, now as a list of IDs.\n",
        "print('Original: ', X[0])\n",
        "print('Token IDs:', input_ids[0])"
      ]
    },
    {
      "cell_type": "code",
      "execution_count": 17,
      "metadata": {
        "colab": {
          "base_uri": "https://localhost:8080/"
        },
        "id": "KtEH7UF9sYlc",
        "outputId": "d1718a32-5f36-421b-dde7-2a954498dbd2"
      },
      "outputs": [
        {
          "data": {
            "text/plain": [
              "torch.Size([22669, 140])"
            ]
          },
          "execution_count": 17,
          "metadata": {},
          "output_type": "execute_result"
        }
      ],
      "source": [
        "input_ids.shape"
      ]
    },
    {
      "cell_type": "code",
      "execution_count": 18,
      "metadata": {
        "id": "0evua2welqi0"
      },
      "outputs": [],
      "source": [
        "from sklearn.model_selection import train_test_split\n",
        "# X_train, X_test, y_train, y_test = train_test_split(input_ids, y, train_size=0.8)\n",
        "# X_train, X_test, y_train, y_test = train_test_split(input_ids, y, train_size=0.8, random_state=42)"
      ]
    },
    {
      "cell_type": "code",
      "execution_count": 19,
      "metadata": {
        "id": "pkmVADt3DxMl"
      },
      "outputs": [],
      "source": [
        "X_train, X_test, y_train, y_test = train_test_split(input_ids, y1, train_size=0.8, random_state=42)"
      ]
    },
    {
      "cell_type": "code",
      "execution_count": 20,
      "metadata": {
        "colab": {
          "base_uri": "https://localhost:8080/"
        },
        "id": "DWCvt0_vD5Ov",
        "outputId": "6e6d773b-ca40-4733-afeb-647be7a43299"
      },
      "outputs": [
        {
          "data": {
            "text/plain": [
              "tensor([[ 101, 2009, 1110,  ...,    0,    0,    0],\n",
              "        [ 101, 1109,  151,  ...,    0,    0,    0],\n",
              "        [ 101, 2091, 1128,  ...,    0,    0,    0],\n",
              "        ...,\n",
              "        [ 101, 1731, 1106,  ...,    0,    0,    0],\n",
              "        [ 101, 1731, 1106,  ...,    0,    0,    0],\n",
              "        [ 101, 1327, 1202,  ...,    0,    0,    0]])"
            ]
          },
          "execution_count": 20,
          "metadata": {},
          "output_type": "execute_result"
        }
      ],
      "source": [
        "X_train"
      ]
    },
    {
      "cell_type": "code",
      "execution_count": 21,
      "metadata": {
        "colab": {
          "base_uri": "https://localhost:8080/",
          "height": 424
        },
        "id": "OeYAC-AKD6_f",
        "outputId": "5350018b-4245-4b53-97a4-71a757ad1a5f"
      },
      "outputs": [
        {
          "data": {
            "text/html": [
              "\n",
              "  <div id=\"df-3e0ac98f-c1f6-4a72-83d4-f005f72a9ee3\">\n",
              "    <div class=\"colab-df-container\">\n",
              "      <div>\n",
              "<style scoped>\n",
              "    .dataframe tbody tr th:only-of-type {\n",
              "        vertical-align: middle;\n",
              "    }\n",
              "\n",
              "    .dataframe tbody tr th {\n",
              "        vertical-align: top;\n",
              "    }\n",
              "\n",
              "    .dataframe thead th {\n",
              "        text-align: right;\n",
              "    }\n",
              "</style>\n",
              "<table border=\"1\" class=\"dataframe\">\n",
              "  <thead>\n",
              "    <tr style=\"text-align: right;\">\n",
              "      <th></th>\n",
              "      <th>context</th>\n",
              "      <th>datatype</th>\n",
              "      <th>attitude</th>\n",
              "    </tr>\n",
              "  </thead>\n",
              "  <tbody>\n",
              "    <tr>\n",
              "      <th>16962</th>\n",
              "      <td>0</td>\n",
              "      <td>0</td>\n",
              "      <td>0</td>\n",
              "    </tr>\n",
              "    <tr>\n",
              "      <th>9191</th>\n",
              "      <td>0</td>\n",
              "      <td>2</td>\n",
              "      <td>2</td>\n",
              "    </tr>\n",
              "    <tr>\n",
              "      <th>19645</th>\n",
              "      <td>0</td>\n",
              "      <td>2</td>\n",
              "      <td>3</td>\n",
              "    </tr>\n",
              "    <tr>\n",
              "      <th>22484</th>\n",
              "      <td>0</td>\n",
              "      <td>0</td>\n",
              "      <td>0</td>\n",
              "    </tr>\n",
              "    <tr>\n",
              "      <th>505</th>\n",
              "      <td>0</td>\n",
              "      <td>1</td>\n",
              "      <td>3</td>\n",
              "    </tr>\n",
              "    <tr>\n",
              "      <th>...</th>\n",
              "      <td>...</td>\n",
              "      <td>...</td>\n",
              "      <td>...</td>\n",
              "    </tr>\n",
              "    <tr>\n",
              "      <th>11964</th>\n",
              "      <td>0</td>\n",
              "      <td>1</td>\n",
              "      <td>2</td>\n",
              "    </tr>\n",
              "    <tr>\n",
              "      <th>21575</th>\n",
              "      <td>0</td>\n",
              "      <td>0</td>\n",
              "      <td>0</td>\n",
              "    </tr>\n",
              "    <tr>\n",
              "      <th>5390</th>\n",
              "      <td>1</td>\n",
              "      <td>1</td>\n",
              "      <td>3</td>\n",
              "    </tr>\n",
              "    <tr>\n",
              "      <th>860</th>\n",
              "      <td>0</td>\n",
              "      <td>1</td>\n",
              "      <td>2</td>\n",
              "    </tr>\n",
              "    <tr>\n",
              "      <th>15795</th>\n",
              "      <td>0</td>\n",
              "      <td>0</td>\n",
              "      <td>0</td>\n",
              "    </tr>\n",
              "  </tbody>\n",
              "</table>\n",
              "<p>18135 rows × 3 columns</p>\n",
              "</div>\n",
              "      <button class=\"colab-df-convert\" onclick=\"convertToInteractive('df-3e0ac98f-c1f6-4a72-83d4-f005f72a9ee3')\"\n",
              "              title=\"Convert this dataframe to an interactive table.\"\n",
              "              style=\"display:none;\">\n",
              "        \n",
              "  <svg xmlns=\"http://www.w3.org/2000/svg\" height=\"24px\"viewBox=\"0 0 24 24\"\n",
              "       width=\"24px\">\n",
              "    <path d=\"M0 0h24v24H0V0z\" fill=\"none\"/>\n",
              "    <path d=\"M18.56 5.44l.94 2.06.94-2.06 2.06-.94-2.06-.94-.94-2.06-.94 2.06-2.06.94zm-11 1L8.5 8.5l.94-2.06 2.06-.94-2.06-.94L8.5 2.5l-.94 2.06-2.06.94zm10 10l.94 2.06.94-2.06 2.06-.94-2.06-.94-.94-2.06-.94 2.06-2.06.94z\"/><path d=\"M17.41 7.96l-1.37-1.37c-.4-.4-.92-.59-1.43-.59-.52 0-1.04.2-1.43.59L10.3 9.45l-7.72 7.72c-.78.78-.78 2.05 0 2.83L4 21.41c.39.39.9.59 1.41.59.51 0 1.02-.2 1.41-.59l7.78-7.78 2.81-2.81c.8-.78.8-2.07 0-2.86zM5.41 20L4 18.59l7.72-7.72 1.47 1.35L5.41 20z\"/>\n",
              "  </svg>\n",
              "      </button>\n",
              "      \n",
              "  <style>\n",
              "    .colab-df-container {\n",
              "      display:flex;\n",
              "      flex-wrap:wrap;\n",
              "      gap: 12px;\n",
              "    }\n",
              "\n",
              "    .colab-df-convert {\n",
              "      background-color: #E8F0FE;\n",
              "      border: none;\n",
              "      border-radius: 50%;\n",
              "      cursor: pointer;\n",
              "      display: none;\n",
              "      fill: #1967D2;\n",
              "      height: 32px;\n",
              "      padding: 0 0 0 0;\n",
              "      width: 32px;\n",
              "    }\n",
              "\n",
              "    .colab-df-convert:hover {\n",
              "      background-color: #E2EBFA;\n",
              "      box-shadow: 0px 1px 2px rgba(60, 64, 67, 0.3), 0px 1px 3px 1px rgba(60, 64, 67, 0.15);\n",
              "      fill: #174EA6;\n",
              "    }\n",
              "\n",
              "    [theme=dark] .colab-df-convert {\n",
              "      background-color: #3B4455;\n",
              "      fill: #D2E3FC;\n",
              "    }\n",
              "\n",
              "    [theme=dark] .colab-df-convert:hover {\n",
              "      background-color: #434B5C;\n",
              "      box-shadow: 0px 1px 3px 1px rgba(0, 0, 0, 0.15);\n",
              "      filter: drop-shadow(0px 1px 2px rgba(0, 0, 0, 0.3));\n",
              "      fill: #FFFFFF;\n",
              "    }\n",
              "  </style>\n",
              "\n",
              "      <script>\n",
              "        const buttonEl =\n",
              "          document.querySelector('#df-3e0ac98f-c1f6-4a72-83d4-f005f72a9ee3 button.colab-df-convert');\n",
              "        buttonEl.style.display =\n",
              "          google.colab.kernel.accessAllowed ? 'block' : 'none';\n",
              "\n",
              "        async function convertToInteractive(key) {\n",
              "          const element = document.querySelector('#df-3e0ac98f-c1f6-4a72-83d4-f005f72a9ee3');\n",
              "          const dataTable =\n",
              "            await google.colab.kernel.invokeFunction('convertToInteractive',\n",
              "                                                     [key], {});\n",
              "          if (!dataTable) return;\n",
              "\n",
              "          const docLinkHtml = 'Like what you see? Visit the ' +\n",
              "            '<a target=\"_blank\" href=https://colab.research.google.com/notebooks/data_table.ipynb>data table notebook</a>'\n",
              "            + ' to learn more about interactive tables.';\n",
              "          element.innerHTML = '';\n",
              "          dataTable['output_type'] = 'display_data';\n",
              "          await google.colab.output.renderOutput(dataTable, element);\n",
              "          const docLink = document.createElement('div');\n",
              "          docLink.innerHTML = docLinkHtml;\n",
              "          element.appendChild(docLink);\n",
              "        }\n",
              "      </script>\n",
              "    </div>\n",
              "  </div>\n",
              "  "
            ],
            "text/plain": [
              "       context  datatype  attitude\n",
              "16962        0         0         0\n",
              "9191         0         2         2\n",
              "19645        0         2         3\n",
              "22484        0         0         0\n",
              "505          0         1         3\n",
              "...        ...       ...       ...\n",
              "11964        0         1         2\n",
              "21575        0         0         0\n",
              "5390         1         1         3\n",
              "860          0         1         2\n",
              "15795        0         0         0\n",
              "\n",
              "[18135 rows x 3 columns]"
            ]
          },
          "execution_count": 21,
          "metadata": {},
          "output_type": "execute_result"
        }
      ],
      "source": [
        "y_train"
      ]
    },
    {
      "cell_type": "code",
      "execution_count": 22,
      "metadata": {
        "colab": {
          "base_uri": "https://localhost:8080/"
        },
        "id": "AdwxnKO3xC0d",
        "outputId": "6d36d663-88c6-4432-8636-483d65491bd1"
      },
      "outputs": [
        {
          "data": {
            "text/plain": [
              "torch.Size([18135, 140])"
            ]
          },
          "execution_count": 22,
          "metadata": {},
          "output_type": "execute_result"
        }
      ],
      "source": [
        "X_train.shape"
      ]
    },
    {
      "cell_type": "code",
      "execution_count": 23,
      "metadata": {
        "id": "9EtD_jcgwwlQ"
      },
      "outputs": [],
      "source": [
        "y_train1 = y_train['context'].values"
      ]
    },
    {
      "cell_type": "code",
      "execution_count": 24,
      "metadata": {
        "colab": {
          "base_uri": "https://localhost:8080/"
        },
        "id": "t_pkt02VJLzF",
        "outputId": "bdfb6ffe-db75-4d4e-8772-4a259bcfa5ad"
      },
      "outputs": [
        {
          "data": {
            "text/plain": [
              "array([0, 0, 0, ..., 1, 0, 0])"
            ]
          },
          "execution_count": 24,
          "metadata": {},
          "output_type": "execute_result"
        }
      ],
      "source": [
        "y_train1"
      ]
    },
    {
      "cell_type": "code",
      "execution_count": 25,
      "metadata": {
        "id": "-Dm5i6E0o5ir"
      },
      "outputs": [],
      "source": [
        "X_data = []\n",
        "for i in range(len(X_train)):\n",
        "  X_data.append([X_train[i], y_train1[i]])"
      ]
    },
    {
      "cell_type": "code",
      "execution_count": 26,
      "metadata": {
        "colab": {
          "base_uri": "https://localhost:8080/"
        },
        "id": "GHeAQ3Rc0hV9",
        "outputId": "60364e53-adc1-46d9-fb3b-d7c54c91ec7b"
      },
      "outputs": [
        {
          "data": {
            "text/plain": [
              "18135"
            ]
          },
          "execution_count": 26,
          "metadata": {},
          "output_type": "execute_result"
        }
      ],
      "source": [
        "len(y_train1)"
      ]
    },
    {
      "cell_type": "code",
      "execution_count": 27,
      "metadata": {
        "id": "M1b7t48RJSvz"
      },
      "outputs": [],
      "source": [
        "y_test1 = y_test['context'].values"
      ]
    },
    {
      "cell_type": "code",
      "execution_count": 28,
      "metadata": {
        "id": "DD7bJrKKpWjn"
      },
      "outputs": [],
      "source": [
        "X_data_test = []\n",
        "for i in range(len(X_test)):\n",
        "  X_data_test.append([X_test[i], y_test1[i]])"
      ]
    },
    {
      "cell_type": "code",
      "execution_count": 29,
      "metadata": {
        "id": "-UQ8oL7jESkp"
      },
      "outputs": [],
      "source": [
        "batch_size = 32\n",
        "train_loader1 = torch.utils.data.DataLoader(X_data, batch_size=batch_size)"
      ]
    },
    {
      "cell_type": "code",
      "execution_count": 30,
      "metadata": {
        "id": "Uhb79d0qD8Iw"
      },
      "outputs": [],
      "source": [
        "import torch.nn as nn\n",
        "import torch.nn.functional as F\n",
        "\n",
        "class Net(nn.Module):\n",
        "    def __init__(self):\n",
        "        super(Net, self).__init__()\n",
        "        self.fc1 = nn.Linear(140, 768)\n",
        "        self.dropout = nn.Dropout(0.3)\n",
        "        # self.fc2 = nn.Linear(768, 2)\n",
        "        self.fc2 = nn.Linear(768, 24)\n",
        "\n",
        "\n",
        "    def forward(self, x):\n",
        "        x = self.fc1(x)\n",
        "        x = self.dropout(x)\n",
        "        x = self.fc2(x)\n",
        "        output = F.log_softmax(x, dim=1)\n",
        "        return output"
      ]
    },
    {
      "cell_type": "code",
      "execution_count": 31,
      "metadata": {
        "id": "sArDo-iavSuo"
      },
      "outputs": [],
      "source": [
        "model = Net()"
      ]
    },
    {
      "cell_type": "code",
      "execution_count": 32,
      "metadata": {
        "id": "3N5gPQA9vPW7"
      },
      "outputs": [],
      "source": [
        "n_epochs = 20\n",
        "criterion_fnn = nn.CrossEntropyLoss()\n",
        "optimizer_fnn = torch.optim.Adam(model.parameters(), lr=5e-5)"
      ]
    },
    {
      "cell_type": "code",
      "execution_count": 33,
      "metadata": {
        "colab": {
          "base_uri": "https://localhost:8080/"
        },
        "id": "-YuAF7b1vt6v",
        "outputId": "c6b389fb-ef7d-4cf7-a78c-6669cf71cca4"
      },
      "outputs": [
        {
          "name": "stdout",
          "output_type": "stream",
          "text": [
            "Epoch: 1 \tTraining Loss: 453.97\n",
            "Epoch: 2 \tTraining Loss: 305.94\n",
            "Epoch: 3 \tTraining Loss: 259.05\n",
            "Epoch: 4 \tTraining Loss: 218.96\n",
            "Epoch: 5 \tTraining Loss: 181.37\n",
            "Epoch: 6 \tTraining Loss: 143.39\n",
            "Epoch: 7 \tTraining Loss: 107.15\n",
            "Epoch: 8 \tTraining Loss: 72.55\n",
            "Epoch: 9 \tTraining Loss: 42.80\n",
            "Epoch: 10 \tTraining Loss: 18.27\n",
            "Epoch: 11 \tTraining Loss: 9.24\n",
            "Epoch: 12 \tTraining Loss: 8.80\n",
            "Epoch: 13 \tTraining Loss: 9.07\n",
            "Epoch: 14 \tTraining Loss: 8.68\n",
            "Epoch: 15 \tTraining Loss: 8.81\n",
            "Epoch: 16 \tTraining Loss: 8.48\n",
            "Epoch: 17 \tTraining Loss: 8.80\n",
            "Epoch: 18 \tTraining Loss: 8.44\n",
            "Epoch: 19 \tTraining Loss: 8.43\n",
            "Epoch: 20 \tTraining Loss: 8.44\n"
          ]
        }
      ],
      "source": [
        "import numpy as np\n",
        "valid_loss_min = np.Inf \n",
        "\n",
        "for epoch in range(n_epochs):\n",
        "    train_loss = 0.0\n",
        "    model.train() \n",
        "    for data, target in train_loader1:\n",
        "        optimizer_fnn.zero_grad()\n",
        "        output = model(data.float())\n",
        "        # loss = criterion_fnn(output, torch.max(target, 1)[1])\n",
        "        loss = criterion_fnn(output, target.long())\n",
        "        loss.backward()\n",
        "        optimizer_fnn.step()\n",
        "        train_loss += loss.item()*data.size(0)\n",
        "        \n",
        "    model.eval()    \n",
        "    print('Epoch: {} \\tTraining Loss: {:.2f}'.format(epoch+1, train_loss/len(train_loader1.dataset)))"
      ]
    },
    {
      "cell_type": "code",
      "execution_count": 34,
      "metadata": {
        "id": "PdhJgkte1lXV"
      },
      "outputs": [],
      "source": [
        "test_loader1 = torch.utils.data.DataLoader(X_data_test, batch_size=1)"
      ]
    },
    {
      "cell_type": "code",
      "execution_count": 35,
      "metadata": {
        "colab": {
          "base_uri": "https://localhost:8080/"
        },
        "id": "BFbXpZfNztCV",
        "outputId": "63da08bf-0679-4212-f542-028892e50b4d"
      },
      "outputs": [
        {
          "name": "stdout",
          "output_type": "stream",
          "text": [
            "Accuracy is 56.616674018526695\n"
          ]
        }
      ],
      "source": [
        "label_context = []\n",
        "def q4b_fnn_accuracy(loader, model):\n",
        "  # num_correct = 0\n",
        "  # num_samples = 0\n",
        "  total_correct = 0\n",
        "  total_samples = 0\n",
        "  model.eval()\n",
        "  cnt = 0\n",
        "  with torch.no_grad():\n",
        "\n",
        "    # for x, y in loader:\n",
        "    for data, label in loader:\n",
        "      cnt += 1\n",
        "      # print(cnt)\n",
        "      scores = model(data.float())\n",
        "      _, predictions = scores.max(1)\n",
        "      label_context.append(predictions.item() )\n",
        "      pred_arr = (predictions == label)\n",
        "      for i in pred_arr:\n",
        "        total_correct += i\n",
        "    total_samples = len(X_data_test)\n",
        "    print(\"Accuracy is\" , float(total_correct)/float(total_samples) * 100)\n",
        "  model.train()\n",
        "q4b_fnn_accuracy(test_loader1, model)"
      ]
    },
    {
      "cell_type": "code",
      "execution_count": 36,
      "metadata": {
        "id": "Yd1cNaC7Ib4R"
      },
      "outputs": [],
      "source": [
        "# label_context"
      ]
    },
    {
      "cell_type": "code",
      "execution_count": 37,
      "metadata": {
        "colab": {
          "base_uri": "https://localhost:8080/"
        },
        "id": "bTxY7AegHo2q",
        "outputId": "afad5d95-51ef-4c98-a1db-d6f3d8097ccc"
      },
      "outputs": [
        {
          "data": {
            "text/plain": [
              "4534"
            ]
          },
          "execution_count": 37,
          "metadata": {},
          "output_type": "execute_result"
        }
      ],
      "source": [
        "len(label_context)"
      ]
    },
    {
      "cell_type": "code",
      "execution_count": 38,
      "metadata": {
        "id": "IEkEYvKpkUyW"
      },
      "outputs": [],
      "source": [
        "labels_df = pd.DataFrame({'context':label_context})"
      ]
    },
    {
      "cell_type": "code",
      "execution_count": 39,
      "metadata": {
        "colab": {
          "base_uri": "https://localhost:8080/",
          "height": 424
        },
        "id": "5Qg6-iesjq9c",
        "outputId": "9c36b57a-9902-47c0-ce27-24740c55f055"
      },
      "outputs": [
        {
          "data": {
            "text/html": [
              "\n",
              "  <div id=\"df-cd6247ff-bdd4-4ef3-a4d8-0aae6e3c3f71\">\n",
              "    <div class=\"colab-df-container\">\n",
              "      <div>\n",
              "<style scoped>\n",
              "    .dataframe tbody tr th:only-of-type {\n",
              "        vertical-align: middle;\n",
              "    }\n",
              "\n",
              "    .dataframe tbody tr th {\n",
              "        vertical-align: top;\n",
              "    }\n",
              "\n",
              "    .dataframe thead th {\n",
              "        text-align: right;\n",
              "    }\n",
              "</style>\n",
              "<table border=\"1\" class=\"dataframe\">\n",
              "  <thead>\n",
              "    <tr style=\"text-align: right;\">\n",
              "      <th></th>\n",
              "      <th>context</th>\n",
              "    </tr>\n",
              "  </thead>\n",
              "  <tbody>\n",
              "    <tr>\n",
              "      <th>0</th>\n",
              "      <td>1</td>\n",
              "    </tr>\n",
              "    <tr>\n",
              "      <th>1</th>\n",
              "      <td>0</td>\n",
              "    </tr>\n",
              "    <tr>\n",
              "      <th>2</th>\n",
              "      <td>0</td>\n",
              "    </tr>\n",
              "    <tr>\n",
              "      <th>3</th>\n",
              "      <td>1</td>\n",
              "    </tr>\n",
              "    <tr>\n",
              "      <th>4</th>\n",
              "      <td>1</td>\n",
              "    </tr>\n",
              "    <tr>\n",
              "      <th>...</th>\n",
              "      <td>...</td>\n",
              "    </tr>\n",
              "    <tr>\n",
              "      <th>4529</th>\n",
              "      <td>0</td>\n",
              "    </tr>\n",
              "    <tr>\n",
              "      <th>4530</th>\n",
              "      <td>0</td>\n",
              "    </tr>\n",
              "    <tr>\n",
              "      <th>4531</th>\n",
              "      <td>1</td>\n",
              "    </tr>\n",
              "    <tr>\n",
              "      <th>4532</th>\n",
              "      <td>0</td>\n",
              "    </tr>\n",
              "    <tr>\n",
              "      <th>4533</th>\n",
              "      <td>0</td>\n",
              "    </tr>\n",
              "  </tbody>\n",
              "</table>\n",
              "<p>4534 rows × 1 columns</p>\n",
              "</div>\n",
              "      <button class=\"colab-df-convert\" onclick=\"convertToInteractive('df-cd6247ff-bdd4-4ef3-a4d8-0aae6e3c3f71')\"\n",
              "              title=\"Convert this dataframe to an interactive table.\"\n",
              "              style=\"display:none;\">\n",
              "        \n",
              "  <svg xmlns=\"http://www.w3.org/2000/svg\" height=\"24px\"viewBox=\"0 0 24 24\"\n",
              "       width=\"24px\">\n",
              "    <path d=\"M0 0h24v24H0V0z\" fill=\"none\"/>\n",
              "    <path d=\"M18.56 5.44l.94 2.06.94-2.06 2.06-.94-2.06-.94-.94-2.06-.94 2.06-2.06.94zm-11 1L8.5 8.5l.94-2.06 2.06-.94-2.06-.94L8.5 2.5l-.94 2.06-2.06.94zm10 10l.94 2.06.94-2.06 2.06-.94-2.06-.94-.94-2.06-.94 2.06-2.06.94z\"/><path d=\"M17.41 7.96l-1.37-1.37c-.4-.4-.92-.59-1.43-.59-.52 0-1.04.2-1.43.59L10.3 9.45l-7.72 7.72c-.78.78-.78 2.05 0 2.83L4 21.41c.39.39.9.59 1.41.59.51 0 1.02-.2 1.41-.59l7.78-7.78 2.81-2.81c.8-.78.8-2.07 0-2.86zM5.41 20L4 18.59l7.72-7.72 1.47 1.35L5.41 20z\"/>\n",
              "  </svg>\n",
              "      </button>\n",
              "      \n",
              "  <style>\n",
              "    .colab-df-container {\n",
              "      display:flex;\n",
              "      flex-wrap:wrap;\n",
              "      gap: 12px;\n",
              "    }\n",
              "\n",
              "    .colab-df-convert {\n",
              "      background-color: #E8F0FE;\n",
              "      border: none;\n",
              "      border-radius: 50%;\n",
              "      cursor: pointer;\n",
              "      display: none;\n",
              "      fill: #1967D2;\n",
              "      height: 32px;\n",
              "      padding: 0 0 0 0;\n",
              "      width: 32px;\n",
              "    }\n",
              "\n",
              "    .colab-df-convert:hover {\n",
              "      background-color: #E2EBFA;\n",
              "      box-shadow: 0px 1px 2px rgba(60, 64, 67, 0.3), 0px 1px 3px 1px rgba(60, 64, 67, 0.15);\n",
              "      fill: #174EA6;\n",
              "    }\n",
              "\n",
              "    [theme=dark] .colab-df-convert {\n",
              "      background-color: #3B4455;\n",
              "      fill: #D2E3FC;\n",
              "    }\n",
              "\n",
              "    [theme=dark] .colab-df-convert:hover {\n",
              "      background-color: #434B5C;\n",
              "      box-shadow: 0px 1px 3px 1px rgba(0, 0, 0, 0.15);\n",
              "      filter: drop-shadow(0px 1px 2px rgba(0, 0, 0, 0.3));\n",
              "      fill: #FFFFFF;\n",
              "    }\n",
              "  </style>\n",
              "\n",
              "      <script>\n",
              "        const buttonEl =\n",
              "          document.querySelector('#df-cd6247ff-bdd4-4ef3-a4d8-0aae6e3c3f71 button.colab-df-convert');\n",
              "        buttonEl.style.display =\n",
              "          google.colab.kernel.accessAllowed ? 'block' : 'none';\n",
              "\n",
              "        async function convertToInteractive(key) {\n",
              "          const element = document.querySelector('#df-cd6247ff-bdd4-4ef3-a4d8-0aae6e3c3f71');\n",
              "          const dataTable =\n",
              "            await google.colab.kernel.invokeFunction('convertToInteractive',\n",
              "                                                     [key], {});\n",
              "          if (!dataTable) return;\n",
              "\n",
              "          const docLinkHtml = 'Like what you see? Visit the ' +\n",
              "            '<a target=\"_blank\" href=https://colab.research.google.com/notebooks/data_table.ipynb>data table notebook</a>'\n",
              "            + ' to learn more about interactive tables.';\n",
              "          element.innerHTML = '';\n",
              "          dataTable['output_type'] = 'display_data';\n",
              "          await google.colab.output.renderOutput(dataTable, element);\n",
              "          const docLink = document.createElement('div');\n",
              "          docLink.innerHTML = docLinkHtml;\n",
              "          element.appendChild(docLink);\n",
              "        }\n",
              "      </script>\n",
              "    </div>\n",
              "  </div>\n",
              "  "
            ],
            "text/plain": [
              "      context\n",
              "0           1\n",
              "1           0\n",
              "2           0\n",
              "3           1\n",
              "4           1\n",
              "...       ...\n",
              "4529        0\n",
              "4530        0\n",
              "4531        1\n",
              "4532        0\n",
              "4533        0\n",
              "\n",
              "[4534 rows x 1 columns]"
            ]
          },
          "execution_count": 39,
          "metadata": {},
          "output_type": "execute_result"
        }
      ],
      "source": [
        "labels_df"
      ]
    },
    {
      "cell_type": "code",
      "execution_count": 40,
      "metadata": {
        "id": "qmz6b_fkXyn3"
      },
      "outputs": [],
      "source": [
        "############################ to predict the datatype #########################"
      ]
    },
    {
      "cell_type": "code",
      "execution_count": 41,
      "metadata": {
        "id": "YCViIZVNYsfq"
      },
      "outputs": [],
      "source": [
        "# y_datatype = df.iloc[:, 5].values"
      ]
    },
    {
      "cell_type": "code",
      "execution_count": 42,
      "metadata": {
        "id": "VaI-pvI9YvUE"
      },
      "outputs": [],
      "source": [
        "# y_datatype"
      ]
    },
    {
      "cell_type": "code",
      "execution_count": 43,
      "metadata": {
        "id": "oimwFOP-Y2XP"
      },
      "outputs": [],
      "source": [
        "# from sklearn.model_selection import train_test_split\n",
        "# X_train_dt, X_test_dt, y_train_dt, y_test_dt = train_test_split(input_ids, y_datatype, train_size=0.8)"
      ]
    },
    {
      "cell_type": "code",
      "execution_count": 44,
      "metadata": {
        "id": "y0gZRLgEl6JG"
      },
      "outputs": [],
      "source": [
        "# y_train_dt"
      ]
    },
    {
      "cell_type": "code",
      "execution_count": 45,
      "metadata": {
        "id": "itDeyGNQY_30"
      },
      "outputs": [],
      "source": [
        "# X_data_dt = []\n",
        "# for i in range(len(X_train_dt)):\n",
        "#   X_data_dt.append([X_train_dt[i], y_train_dt[i]])"
      ]
    },
    {
      "cell_type": "code",
      "execution_count": 46,
      "metadata": {
        "id": "mXov32CnZHKw"
      },
      "outputs": [],
      "source": [
        "# X_data_test_dt = []\n",
        "# for i in range(len(X_test_dt)):\n",
        "#   X_data_test_dt.append([X_test_dt[i], y_test_dt[i]])"
      ]
    },
    {
      "cell_type": "code",
      "execution_count": 47,
      "metadata": {
        "id": "WnEfZtutJypa"
      },
      "outputs": [],
      "source": [
        "y1_dt_train = y_train['datatype'].values"
      ]
    },
    {
      "cell_type": "code",
      "execution_count": 48,
      "metadata": {
        "id": "zDaA8ediJ4EK"
      },
      "outputs": [],
      "source": [
        "y1_dt_test = y_test['datatype'].values"
      ]
    },
    {
      "cell_type": "code",
      "execution_count": 49,
      "metadata": {
        "id": "pxJLvv1kGj5_"
      },
      "outputs": [],
      "source": [
        "X_data_dt = []\n",
        "for i in range(len(X_train)):\n",
        "  X_data_dt.append([X_train[i], y1_dt_train[i]])"
      ]
    },
    {
      "cell_type": "code",
      "execution_count": 50,
      "metadata": {
        "id": "NdMPWPueGvxu"
      },
      "outputs": [],
      "source": [
        "X_data_test_dt = []\n",
        "for i in range(len(X_test)):\n",
        "  X_data_test_dt.append([X_test[i], y1_dt_test[i]])"
      ]
    },
    {
      "cell_type": "markdown",
      "metadata": {
        "id": "aQaagHUpG8kU"
      },
      "source": []
    },
    {
      "cell_type": "code",
      "execution_count": 51,
      "metadata": {
        "id": "RKt4B1NFZTVS"
      },
      "outputs": [],
      "source": [
        "batch_size = 32\n",
        "train_loader_dt = torch.utils.data.DataLoader(X_data_dt, batch_size=batch_size)"
      ]
    },
    {
      "cell_type": "code",
      "execution_count": 52,
      "metadata": {
        "id": "3utAMI2ogR0z"
      },
      "outputs": [],
      "source": [
        "import torch.nn as nn\n",
        "import torch.nn.functional as F\n",
        "\n",
        "class Net_dt(nn.Module):\n",
        "    def __init__(self):\n",
        "        super(Net_dt, self).__init__()\n",
        "        self.fc1 = nn.Linear(140, 768)\n",
        "        self.dropout = nn.Dropout(0.3)\n",
        "        self.fc2 = nn.Linear(768, 3)\n",
        "        # self.fc2 = nn.Linear(768, 24)\n",
        "\n",
        "\n",
        "    def forward(self, x):\n",
        "        x = self.fc1(x)\n",
        "        x = self.dropout(x)\n",
        "        x = self.fc2(x)\n",
        "        output = F.log_softmax(x, dim=1)\n",
        "        return output"
      ]
    },
    {
      "cell_type": "code",
      "execution_count": 53,
      "metadata": {
        "id": "tU8OatBmZYtn"
      },
      "outputs": [],
      "source": [
        "model1 = Net_dt()\n",
        "n_epochs = 20\n",
        "criterion_fnn_dt = nn.CrossEntropyLoss()\n",
        "optimizer_fnn_dt = torch.optim.Adam(model1.parameters(), lr=0.001)"
      ]
    },
    {
      "cell_type": "code",
      "execution_count": 54,
      "metadata": {
        "colab": {
          "base_uri": "https://localhost:8080/"
        },
        "id": "ne2XjgxcZfbS",
        "outputId": "5cc0047b-283f-494d-9481-2ea7f48f576c"
      },
      "outputs": [
        {
          "name": "stdout",
          "output_type": "stream",
          "text": [
            "Epoch: 1 \tTraining Loss: 396.82\n",
            "Epoch: 2 \tTraining Loss: 189.21\n",
            "Epoch: 3 \tTraining Loss: 154.62\n",
            "Epoch: 4 \tTraining Loss: 126.12\n",
            "Epoch: 5 \tTraining Loss: 104.19\n",
            "Epoch: 6 \tTraining Loss: 83.39\n",
            "Epoch: 7 \tTraining Loss: 72.58\n",
            "Epoch: 8 \tTraining Loss: 61.90\n",
            "Epoch: 9 \tTraining Loss: 55.62\n",
            "Epoch: 10 \tTraining Loss: 54.29\n",
            "Epoch: 11 \tTraining Loss: 58.52\n",
            "Epoch: 12 \tTraining Loss: 59.77\n",
            "Epoch: 13 \tTraining Loss: 59.22\n",
            "Epoch: 14 \tTraining Loss: 61.89\n",
            "Epoch: 15 \tTraining Loss: 62.20\n",
            "Epoch: 16 \tTraining Loss: 63.49\n",
            "Epoch: 17 \tTraining Loss: 64.91\n",
            "Epoch: 18 \tTraining Loss: 66.61\n",
            "Epoch: 19 \tTraining Loss: 65.21\n",
            "Epoch: 20 \tTraining Loss: 61.98\n"
          ]
        }
      ],
      "source": [
        "import numpy as np\n",
        "valid_loss_min = np.Inf \n",
        "\n",
        "for epoch in range(n_epochs):\n",
        "    train_loss = 0.0\n",
        "    model1.train() \n",
        "    for data, target in train_loader_dt:\n",
        "        optimizer_fnn_dt.zero_grad()\n",
        "        output = model1(data.float())\n",
        "        loss_dt = criterion_fnn_dt(output, target.long())\n",
        "        loss_dt.backward()\n",
        "        optimizer_fnn_dt.step()\n",
        "        train_loss += loss_dt.item()*data.size(0)\n",
        "        \n",
        "    model1.eval()    \n",
        "    print('Epoch: {} \\tTraining Loss: {:.2f}'.format(epoch+1, train_loss/len(train_loader_dt.dataset)))"
      ]
    },
    {
      "cell_type": "code",
      "execution_count": 55,
      "metadata": {
        "id": "QoUscRKcZ5jx"
      },
      "outputs": [],
      "source": [
        "test_loader_dt = torch.utils.data.DataLoader(X_data_test_dt, batch_size=1)"
      ]
    },
    {
      "cell_type": "code",
      "execution_count": 56,
      "metadata": {
        "colab": {
          "base_uri": "https://localhost:8080/"
        },
        "id": "GFegy17GZ_yX",
        "outputId": "6dee2fea-e2a9-4e39-8cff-96be255d2233"
      },
      "outputs": [
        {
          "name": "stdout",
          "output_type": "stream",
          "text": [
            "Accuracy is 37.759153065725634\n"
          ]
        }
      ],
      "source": [
        "label_datatype = []\n",
        "def q4b_fnn_accuracy(loader, model):\n",
        "  total_correct = 0\n",
        "  total_samples = 0\n",
        "  model1.eval()\n",
        "  cnt = 0\n",
        "  with torch.no_grad():\n",
        "\n",
        "    # for x, y in loader:\n",
        "    for data, label in loader:\n",
        "      cnt += 1\n",
        "      scores = model(data.float())\n",
        "      _, predictions = scores.max(1)\n",
        "      label_datatype.append(predictions.item())\n",
        "      pred_arr = (predictions == label)\n",
        "      for i in pred_arr:\n",
        "        total_correct += i\n",
        "    total_samples = len(X_data_test_dt)\n",
        "    print(\"Accuracy is\" , float(total_correct)/float(total_samples) * 100)\n",
        "  model.train()\n",
        "q4b_fnn_accuracy(test_loader_dt, model1)"
      ]
    },
    {
      "cell_type": "code",
      "execution_count": 57,
      "metadata": {
        "id": "S8o-TWxzk8F8"
      },
      "outputs": [],
      "source": [
        "labels_df['datatype'] = label_datatype"
      ]
    },
    {
      "cell_type": "code",
      "execution_count": 58,
      "metadata": {
        "id": "jZYqsEf6hNd_"
      },
      "outputs": [],
      "source": [
        "##########################"
      ]
    },
    {
      "cell_type": "code",
      "execution_count": 59,
      "metadata": {
        "id": "pQx6pALSglBy"
      },
      "outputs": [],
      "source": [
        "#For attitude\n",
        "# y_attitude = df.iloc[:, 6].values"
      ]
    },
    {
      "cell_type": "code",
      "execution_count": 60,
      "metadata": {
        "id": "he5BJ7migtbs"
      },
      "outputs": [],
      "source": [
        "# from sklearn.model_selection import train_test_split\n",
        "# X_train_at, X_test_at, y_train_at, y_test_at = train_test_split(input_ids, y_attitude, train_size=0.8)"
      ]
    },
    {
      "cell_type": "code",
      "execution_count": 61,
      "metadata": {
        "id": "8gEJoiIog8qQ"
      },
      "outputs": [],
      "source": [
        "# X_data_at = []\n",
        "# for i in range(len(X_train_at)):\n",
        "#   X_data_at.append([X_train_at[i], y_train_at[i]])"
      ]
    },
    {
      "cell_type": "code",
      "execution_count": 62,
      "metadata": {
        "id": "blawYMPvg_nh"
      },
      "outputs": [],
      "source": [
        "# X_data_test_at = []\n",
        "# for i in range(len(X_test_at)):\n",
        "#   X_data_test_at.append([X_test_at[i], y_test_at[i]])"
      ]
    },
    {
      "cell_type": "code",
      "execution_count": 63,
      "metadata": {
        "id": "j4twbrqoKB-n"
      },
      "outputs": [],
      "source": [
        "y_at_train = y_train['attitude'].values"
      ]
    },
    {
      "cell_type": "code",
      "execution_count": 64,
      "metadata": {
        "id": "ZdPM4T2rKHen"
      },
      "outputs": [],
      "source": [
        "y_at_test = y_test['attitude'].values"
      ]
    },
    {
      "cell_type": "code",
      "execution_count": 65,
      "metadata": {
        "id": "YBjuaKjkG7UQ"
      },
      "outputs": [],
      "source": [
        "X_data_at = []\n",
        "for i in range(len(X_train)):\n",
        "  X_data_at.append([X_train[i], y_at_train[i]])"
      ]
    },
    {
      "cell_type": "code",
      "execution_count": 66,
      "metadata": {
        "id": "QB59MdMFG-jU"
      },
      "outputs": [],
      "source": [
        "X_data_test_at = []\n",
        "for i in range(len(X_test)):\n",
        "  X_data_test_at.append([X_test[i], y_at_test[i]])"
      ]
    },
    {
      "cell_type": "code",
      "execution_count": 67,
      "metadata": {
        "id": "BI4FUxtlhDtB"
      },
      "outputs": [],
      "source": [
        "batch_size = 32\n",
        "train_loader_at = torch.utils.data.DataLoader(X_data_at, batch_size=batch_size)"
      ]
    },
    {
      "cell_type": "code",
      "execution_count": 68,
      "metadata": {
        "id": "UNM2mjxChFxY"
      },
      "outputs": [],
      "source": [
        "import torch.nn as nn\n",
        "import torch.nn.functional as F\n",
        "\n",
        "class Net_at(nn.Module):\n",
        "    def __init__(self):\n",
        "        super(Net_at, self).__init__()\n",
        "        self.fc1 = nn.Linear(140, 768)\n",
        "        self.dropout = nn.Dropout(0.3)\n",
        "        self.fc2 = nn.Linear(768, 4)\n",
        "\n",
        "    def forward(self, x):\n",
        "        x = self.fc1(x)\n",
        "        x = self.dropout(x)\n",
        "        x = self.fc2(x)\n",
        "        output = F.log_softmax(x, dim=1)\n",
        "        return output"
      ]
    },
    {
      "cell_type": "code",
      "execution_count": 69,
      "metadata": {
        "id": "S6LULI5bhIqj"
      },
      "outputs": [],
      "source": [
        "model2 = Net_at()\n",
        "n_epochs = 20\n",
        "criterion_fnn_at = nn.CrossEntropyLoss()\n",
        "optimizer_fnn_at = torch.optim.Adam(model2.parameters(), lr=5e-5)"
      ]
    },
    {
      "cell_type": "code",
      "execution_count": 70,
      "metadata": {
        "colab": {
          "base_uri": "https://localhost:8080/"
        },
        "id": "Fk-XlgizhO6J",
        "outputId": "4c6e37e8-94d1-47ae-f254-e2bf99e843c7"
      },
      "outputs": [
        {
          "name": "stdout",
          "output_type": "stream",
          "text": [
            "Epoch: 1 \tTraining Loss: 626.65\n",
            "Epoch: 2 \tTraining Loss: 497.19\n",
            "Epoch: 3 \tTraining Loss: 432.55\n",
            "Epoch: 4 \tTraining Loss: 376.71\n",
            "Epoch: 5 \tTraining Loss: 329.46\n",
            "Epoch: 6 \tTraining Loss: 282.34\n",
            "Epoch: 7 \tTraining Loss: 235.58\n",
            "Epoch: 8 \tTraining Loss: 192.66\n",
            "Epoch: 9 \tTraining Loss: 151.79\n",
            "Epoch: 10 \tTraining Loss: 112.38\n",
            "Epoch: 11 \tTraining Loss: 75.70\n",
            "Epoch: 12 \tTraining Loss: 47.13\n",
            "Epoch: 13 \tTraining Loss: 30.68\n",
            "Epoch: 14 \tTraining Loss: 26.69\n",
            "Epoch: 15 \tTraining Loss: 26.32\n",
            "Epoch: 16 \tTraining Loss: 25.35\n",
            "Epoch: 17 \tTraining Loss: 24.81\n",
            "Epoch: 18 \tTraining Loss: 23.80\n",
            "Epoch: 19 \tTraining Loss: 22.85\n",
            "Epoch: 20 \tTraining Loss: 22.27\n"
          ]
        }
      ],
      "source": [
        "import numpy as np\n",
        "valid_loss_min = np.Inf \n",
        "\n",
        "for epoch in range(n_epochs):\n",
        "    train_loss = 0.0\n",
        "    model2.train() \n",
        "    for data, target in train_loader_at:\n",
        "        optimizer_fnn_at.zero_grad()\n",
        "        output = model2(data.float())\n",
        "        loss_at = criterion_fnn_at(output, target.long())\n",
        "        loss_at.backward()\n",
        "        optimizer_fnn_at.step()\n",
        "        train_loss += loss_at.item()*data.size(0)\n",
        "        \n",
        "    model2.eval()    \n",
        "    print('Epoch: {} \\tTraining Loss: {:.2f}'.format(epoch+1, train_loss/len(train_loader_at.dataset)))"
      ]
    },
    {
      "cell_type": "code",
      "execution_count": 71,
      "metadata": {
        "id": "FPawOSeUhRkm"
      },
      "outputs": [],
      "source": [
        "test_loader_at = torch.utils.data.DataLoader(X_data_test_at, batch_size=1)"
      ]
    },
    {
      "cell_type": "code",
      "execution_count": 72,
      "metadata": {
        "colab": {
          "base_uri": "https://localhost:8080/"
        },
        "id": "SfxmQOyuhWcG",
        "outputId": "3c021676-ac2b-47ce-d2b0-19862a480e4d"
      },
      "outputs": [
        {
          "name": "stdout",
          "output_type": "stream",
          "text": [
            "Accuracy is 35.17865019850022\n"
          ]
        }
      ],
      "source": [
        "label_attitude = []\n",
        "def q4b_fnn_accuracy(loader, model):\n",
        "  total_correct = 0\n",
        "  total_samples = 0\n",
        "  model1.eval()\n",
        "  cnt = 0\n",
        "  with torch.no_grad():\n",
        "\n",
        "    # for x, y in loader:\n",
        "    for data, label in loader:\n",
        "      cnt += 1\n",
        "      scores = model(data.float())\n",
        "      _, predictions = scores.max(1)\n",
        "      label_attitude.append(predictions.item())\n",
        "      pred_arr = (predictions == label)\n",
        "      for i in pred_arr:\n",
        "        total_correct += i\n",
        "    total_samples = len(X_data_test_at)\n",
        "    print(\"Accuracy is\" , float(total_correct)/float(total_samples) * 100)\n",
        "  model.train()\n",
        "q4b_fnn_accuracy(test_loader_at, model2)"
      ]
    },
    {
      "cell_type": "code",
      "execution_count": 73,
      "metadata": {
        "id": "_3-L7pWdlWYi"
      },
      "outputs": [],
      "source": [
        "labels_df['attitude'] = label_attitude"
      ]
    },
    {
      "cell_type": "code",
      "execution_count": 74,
      "metadata": {
        "colab": {
          "base_uri": "https://localhost:8080/",
          "height": 424
        },
        "id": "iIxBxj_-lbTE",
        "outputId": "cd929949-880a-4433-fb3a-6276ff73ac98"
      },
      "outputs": [
        {
          "data": {
            "text/html": [
              "\n",
              "  <div id=\"df-d6f47453-b9d6-44ee-aea4-e7f78f53ea6f\">\n",
              "    <div class=\"colab-df-container\">\n",
              "      <div>\n",
              "<style scoped>\n",
              "    .dataframe tbody tr th:only-of-type {\n",
              "        vertical-align: middle;\n",
              "    }\n",
              "\n",
              "    .dataframe tbody tr th {\n",
              "        vertical-align: top;\n",
              "    }\n",
              "\n",
              "    .dataframe thead th {\n",
              "        text-align: right;\n",
              "    }\n",
              "</style>\n",
              "<table border=\"1\" class=\"dataframe\">\n",
              "  <thead>\n",
              "    <tr style=\"text-align: right;\">\n",
              "      <th></th>\n",
              "      <th>context</th>\n",
              "      <th>datatype</th>\n",
              "      <th>attitude</th>\n",
              "    </tr>\n",
              "  </thead>\n",
              "  <tbody>\n",
              "    <tr>\n",
              "      <th>0</th>\n",
              "      <td>1</td>\n",
              "      <td>2</td>\n",
              "      <td>3</td>\n",
              "    </tr>\n",
              "    <tr>\n",
              "      <th>1</th>\n",
              "      <td>0</td>\n",
              "      <td>0</td>\n",
              "      <td>2</td>\n",
              "    </tr>\n",
              "    <tr>\n",
              "      <th>2</th>\n",
              "      <td>0</td>\n",
              "      <td>0</td>\n",
              "      <td>0</td>\n",
              "    </tr>\n",
              "    <tr>\n",
              "      <th>3</th>\n",
              "      <td>1</td>\n",
              "      <td>2</td>\n",
              "      <td>0</td>\n",
              "    </tr>\n",
              "    <tr>\n",
              "      <th>4</th>\n",
              "      <td>1</td>\n",
              "      <td>2</td>\n",
              "      <td>0</td>\n",
              "    </tr>\n",
              "    <tr>\n",
              "      <th>...</th>\n",
              "      <td>...</td>\n",
              "      <td>...</td>\n",
              "      <td>...</td>\n",
              "    </tr>\n",
              "    <tr>\n",
              "      <th>4529</th>\n",
              "      <td>0</td>\n",
              "      <td>2</td>\n",
              "      <td>0</td>\n",
              "    </tr>\n",
              "    <tr>\n",
              "      <th>4530</th>\n",
              "      <td>0</td>\n",
              "      <td>0</td>\n",
              "      <td>0</td>\n",
              "    </tr>\n",
              "    <tr>\n",
              "      <th>4531</th>\n",
              "      <td>1</td>\n",
              "      <td>2</td>\n",
              "      <td>2</td>\n",
              "    </tr>\n",
              "    <tr>\n",
              "      <th>4532</th>\n",
              "      <td>0</td>\n",
              "      <td>1</td>\n",
              "      <td>2</td>\n",
              "    </tr>\n",
              "    <tr>\n",
              "      <th>4533</th>\n",
              "      <td>0</td>\n",
              "      <td>2</td>\n",
              "      <td>2</td>\n",
              "    </tr>\n",
              "  </tbody>\n",
              "</table>\n",
              "<p>4534 rows × 3 columns</p>\n",
              "</div>\n",
              "      <button class=\"colab-df-convert\" onclick=\"convertToInteractive('df-d6f47453-b9d6-44ee-aea4-e7f78f53ea6f')\"\n",
              "              title=\"Convert this dataframe to an interactive table.\"\n",
              "              style=\"display:none;\">\n",
              "        \n",
              "  <svg xmlns=\"http://www.w3.org/2000/svg\" height=\"24px\"viewBox=\"0 0 24 24\"\n",
              "       width=\"24px\">\n",
              "    <path d=\"M0 0h24v24H0V0z\" fill=\"none\"/>\n",
              "    <path d=\"M18.56 5.44l.94 2.06.94-2.06 2.06-.94-2.06-.94-.94-2.06-.94 2.06-2.06.94zm-11 1L8.5 8.5l.94-2.06 2.06-.94-2.06-.94L8.5 2.5l-.94 2.06-2.06.94zm10 10l.94 2.06.94-2.06 2.06-.94-2.06-.94-.94-2.06-.94 2.06-2.06.94z\"/><path d=\"M17.41 7.96l-1.37-1.37c-.4-.4-.92-.59-1.43-.59-.52 0-1.04.2-1.43.59L10.3 9.45l-7.72 7.72c-.78.78-.78 2.05 0 2.83L4 21.41c.39.39.9.59 1.41.59.51 0 1.02-.2 1.41-.59l7.78-7.78 2.81-2.81c.8-.78.8-2.07 0-2.86zM5.41 20L4 18.59l7.72-7.72 1.47 1.35L5.41 20z\"/>\n",
              "  </svg>\n",
              "      </button>\n",
              "      \n",
              "  <style>\n",
              "    .colab-df-container {\n",
              "      display:flex;\n",
              "      flex-wrap:wrap;\n",
              "      gap: 12px;\n",
              "    }\n",
              "\n",
              "    .colab-df-convert {\n",
              "      background-color: #E8F0FE;\n",
              "      border: none;\n",
              "      border-radius: 50%;\n",
              "      cursor: pointer;\n",
              "      display: none;\n",
              "      fill: #1967D2;\n",
              "      height: 32px;\n",
              "      padding: 0 0 0 0;\n",
              "      width: 32px;\n",
              "    }\n",
              "\n",
              "    .colab-df-convert:hover {\n",
              "      background-color: #E2EBFA;\n",
              "      box-shadow: 0px 1px 2px rgba(60, 64, 67, 0.3), 0px 1px 3px 1px rgba(60, 64, 67, 0.15);\n",
              "      fill: #174EA6;\n",
              "    }\n",
              "\n",
              "    [theme=dark] .colab-df-convert {\n",
              "      background-color: #3B4455;\n",
              "      fill: #D2E3FC;\n",
              "    }\n",
              "\n",
              "    [theme=dark] .colab-df-convert:hover {\n",
              "      background-color: #434B5C;\n",
              "      box-shadow: 0px 1px 3px 1px rgba(0, 0, 0, 0.15);\n",
              "      filter: drop-shadow(0px 1px 2px rgba(0, 0, 0, 0.3));\n",
              "      fill: #FFFFFF;\n",
              "    }\n",
              "  </style>\n",
              "\n",
              "      <script>\n",
              "        const buttonEl =\n",
              "          document.querySelector('#df-d6f47453-b9d6-44ee-aea4-e7f78f53ea6f button.colab-df-convert');\n",
              "        buttonEl.style.display =\n",
              "          google.colab.kernel.accessAllowed ? 'block' : 'none';\n",
              "\n",
              "        async function convertToInteractive(key) {\n",
              "          const element = document.querySelector('#df-d6f47453-b9d6-44ee-aea4-e7f78f53ea6f');\n",
              "          const dataTable =\n",
              "            await google.colab.kernel.invokeFunction('convertToInteractive',\n",
              "                                                     [key], {});\n",
              "          if (!dataTable) return;\n",
              "\n",
              "          const docLinkHtml = 'Like what you see? Visit the ' +\n",
              "            '<a target=\"_blank\" href=https://colab.research.google.com/notebooks/data_table.ipynb>data table notebook</a>'\n",
              "            + ' to learn more about interactive tables.';\n",
              "          element.innerHTML = '';\n",
              "          dataTable['output_type'] = 'display_data';\n",
              "          await google.colab.output.renderOutput(dataTable, element);\n",
              "          const docLink = document.createElement('div');\n",
              "          docLink.innerHTML = docLinkHtml;\n",
              "          element.appendChild(docLink);\n",
              "        }\n",
              "      </script>\n",
              "    </div>\n",
              "  </div>\n",
              "  "
            ],
            "text/plain": [
              "      context  datatype  attitude\n",
              "0           1         2         3\n",
              "1           0         0         2\n",
              "2           0         0         0\n",
              "3           1         2         0\n",
              "4           1         2         0\n",
              "...       ...       ...       ...\n",
              "4529        0         2         0\n",
              "4530        0         0         0\n",
              "4531        1         2         2\n",
              "4532        0         1         2\n",
              "4533        0         2         2\n",
              "\n",
              "[4534 rows x 3 columns]"
            ]
          },
          "execution_count": 74,
          "metadata": {},
          "output_type": "execute_result"
        }
      ],
      "source": [
        "labels_df"
      ]
    },
    {
      "cell_type": "code",
      "execution_count": 74,
      "metadata": {
        "id": "IKAi7GjsLZ6B"
      },
      "outputs": [],
      "source": []
    }
  ],
  "metadata": {
    "accelerator": "GPU",
    "colab": {
      "provenance": []
    },
    "gpuClass": "standard",
    "kernelspec": {
      "display_name": "Python 3.9.12 ('base')",
      "language": "python",
      "name": "python3"
    },
    "language_info": {
      "name": "python",
      "version": "3.9.12"
    },
    "vscode": {
      "interpreter": {
        "hash": "d8f73907c151c089e412d06966dbb62c46a8f1a0b1e4da61da48d5cf79e6e202"
      }
    }
  },
  "nbformat": 4,
  "nbformat_minor": 0
}
