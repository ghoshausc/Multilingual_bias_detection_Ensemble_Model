{
  "cells": [
    {
      "cell_type": "markdown",
      "metadata": {
        "id": "h3CQOTU687RA"
      },
      "source": []
    },
    {
      "cell_type": "code",
      "execution_count": 1,
      "metadata": {
        "colab": {
          "base_uri": "https://localhost:8080/"
        },
        "id": "RXxU7O-PqpC0",
        "outputId": "09fcc835-9d79-4215-f802-e193baeb8986"
      },
      "outputs": [
        {
          "name": "stdout",
          "output_type": "stream",
          "text": [
            "Looking in indexes: https://pypi.org/simple, https://us-python.pkg.dev/colab-wheels/public/simple/\n",
            "Collecting transformers\n",
            "  Downloading transformers-4.24.0-py3-none-any.whl (5.5 MB)\n",
            "\u001b[K     |████████████████████████████████| 5.5 MB 7.4 MB/s \n",
            "\u001b[?25hCollecting tokenizers!=0.11.3,<0.14,>=0.11.1\n",
            "  Downloading tokenizers-0.13.2-cp37-cp37m-manylinux_2_17_x86_64.manylinux2014_x86_64.whl (7.6 MB)\n",
            "\u001b[K     |████████████████████████████████| 7.6 MB 39.8 MB/s \n",
            "\u001b[?25hRequirement already satisfied: numpy>=1.17 in /usr/local/lib/python3.7/dist-packages (from transformers) (1.21.6)\n",
            "Collecting huggingface-hub<1.0,>=0.10.0\n",
            "  Downloading huggingface_hub-0.11.0-py3-none-any.whl (182 kB)\n",
            "\u001b[K     |████████████████████████████████| 182 kB 64.0 MB/s \n",
            "\u001b[?25hRequirement already satisfied: pyyaml>=5.1 in /usr/local/lib/python3.7/dist-packages (from transformers) (6.0)\n",
            "Requirement already satisfied: requests in /usr/local/lib/python3.7/dist-packages (from transformers) (2.23.0)\n",
            "Requirement already satisfied: regex!=2019.12.17 in /usr/local/lib/python3.7/dist-packages (from transformers) (2022.6.2)\n",
            "Requirement already satisfied: importlib-metadata in /usr/local/lib/python3.7/dist-packages (from transformers) (4.13.0)\n",
            "Requirement already satisfied: tqdm>=4.27 in /usr/local/lib/python3.7/dist-packages (from transformers) (4.64.1)\n",
            "Requirement already satisfied: packaging>=20.0 in /usr/local/lib/python3.7/dist-packages (from transformers) (21.3)\n",
            "Requirement already satisfied: filelock in /usr/local/lib/python3.7/dist-packages (from transformers) (3.8.0)\n",
            "Requirement already satisfied: typing-extensions>=3.7.4.3 in /usr/local/lib/python3.7/dist-packages (from huggingface-hub<1.0,>=0.10.0->transformers) (4.1.1)\n",
            "Requirement already satisfied: pyparsing!=3.0.5,>=2.0.2 in /usr/local/lib/python3.7/dist-packages (from packaging>=20.0->transformers) (3.0.9)\n",
            "Requirement already satisfied: zipp>=0.5 in /usr/local/lib/python3.7/dist-packages (from importlib-metadata->transformers) (3.10.0)\n",
            "Requirement already satisfied: certifi>=2017.4.17 in /usr/local/lib/python3.7/dist-packages (from requests->transformers) (2022.9.24)\n",
            "Requirement already satisfied: chardet<4,>=3.0.2 in /usr/local/lib/python3.7/dist-packages (from requests->transformers) (3.0.4)\n",
            "Requirement already satisfied: urllib3!=1.25.0,!=1.25.1,<1.26,>=1.21.1 in /usr/local/lib/python3.7/dist-packages (from requests->transformers) (1.24.3)\n",
            "Requirement already satisfied: idna<3,>=2.5 in /usr/local/lib/python3.7/dist-packages (from requests->transformers) (2.10)\n",
            "Installing collected packages: tokenizers, huggingface-hub, transformers\n",
            "Successfully installed huggingface-hub-0.11.0 tokenizers-0.13.2 transformers-4.24.0\n"
          ]
        }
      ],
      "source": [
        "!pip install transformers"
      ]
    },
    {
      "cell_type": "code",
      "execution_count": 1,
      "metadata": {
        "id": "Llad10o3Yj9O"
      },
      "outputs": [],
      "source": [
        "import pandas as pd"
      ]
    },
    {
      "cell_type": "code",
      "execution_count": 3,
      "metadata": {
        "id": "9TtR4DF7meXr"
      },
      "outputs": [],
      "source": [
        "# df = pd.read_csv('small_df.csv')\n",
        "df = pd.read_csv('Data/CDIAL-Bias-English/train/complete_df.csv')"
      ]
    },
    {
      "cell_type": "code",
      "execution_count": 4,
      "metadata": {
        "colab": {
          "base_uri": "https://localhost:8080/",
          "height": 641
        },
        "id": "aOd7-YSkmk7B",
        "outputId": "13e146b1-c780-4829-f446-eb9dcfefd5ad"
      },
      "outputs": [
        {
          "data": {
            "text/html": [
              "<div>\n",
              "<style scoped>\n",
              "    .dataframe tbody tr th:only-of-type {\n",
              "        vertical-align: middle;\n",
              "    }\n",
              "\n",
              "    .dataframe tbody tr th {\n",
              "        vertical-align: top;\n",
              "    }\n",
              "\n",
              "    .dataframe thead th {\n",
              "        text-align: right;\n",
              "    }\n",
              "</style>\n",
              "<table border=\"1\" class=\"dataframe\">\n",
              "  <thead>\n",
              "    <tr style=\"text-align: right;\">\n",
              "      <th></th>\n",
              "      <th>topic</th>\n",
              "      <th>idx</th>\n",
              "      <th>q</th>\n",
              "      <th>a</th>\n",
              "      <th>context</th>\n",
              "      <th>datatype</th>\n",
              "      <th>attitude</th>\n",
              "      <th>group</th>\n",
              "    </tr>\n",
              "  </thead>\n",
              "  <tbody>\n",
              "    <tr>\n",
              "      <th>0</th>\n",
              "      <td>Gender</td>\n",
              "      <td>14550</td>\n",
              "      <td>What is it like for trans women to pretend to ...</td>\n",
              "      <td>The phrase \"pretend to be a boy\" is interesting.</td>\n",
              "      <td>0</td>\n",
              "      <td>0</td>\n",
              "      <td>0</td>\n",
              "      <td>Transgender</td>\n",
              "    </tr>\n",
              "    <tr>\n",
              "      <th>1</th>\n",
              "      <td>Gender</td>\n",
              "      <td>6905</td>\n",
              "      <td>do some girls dislike the word \"virtuous\"?</td>\n",
              "      <td>Because some people think that \"virtuous\" is s...</td>\n",
              "      <td>0</td>\n",
              "      <td>1</td>\n",
              "      <td>3</td>\n",
              "      <td>Disgust virtuousness</td>\n",
              "    </tr>\n",
              "    <tr>\n",
              "      <th>2</th>\n",
              "      <td>Gender</td>\n",
              "      <td>7609</td>\n",
              "      <td>it realistic to ask girls in their 20s to be v...</td>\n",
              "      <td>As long as you give enough money, don't say th...</td>\n",
              "      <td>0</td>\n",
              "      <td>1</td>\n",
              "      <td>3</td>\n",
              "      <td>Disgust virtuousness</td>\n",
              "    </tr>\n",
              "    <tr>\n",
              "      <th>3</th>\n",
              "      <td>Gender</td>\n",
              "      <td>13550</td>\n",
              "      <td>When did you feel discrimination against men?</td>\n",
              "      <td>The recent cargo lala, whether the deceased ju...</td>\n",
              "      <td>1</td>\n",
              "      <td>2</td>\n",
              "      <td>2</td>\n",
              "      <td>Discrimination against men</td>\n",
              "    </tr>\n",
              "    <tr>\n",
              "      <th>4</th>\n",
              "      <td>Gender</td>\n",
              "      <td>8050</td>\n",
              "      <td>Is there a gay man who can tell his own story?</td>\n",
              "      <td>Thanks for the invitation. I was affected, I o...</td>\n",
              "      <td>0</td>\n",
              "      <td>0</td>\n",
              "      <td>0</td>\n",
              "      <td>Homosexual</td>\n",
              "    </tr>\n",
              "    <tr>\n",
              "      <th>...</th>\n",
              "      <td>...</td>\n",
              "      <td>...</td>\n",
              "      <td>...</td>\n",
              "      <td>...</td>\n",
              "      <td>...</td>\n",
              "      <td>...</td>\n",
              "      <td>...</td>\n",
              "      <td>...</td>\n",
              "    </tr>\n",
              "    <tr>\n",
              "      <th>22664</th>\n",
              "      <td>Ethnic culture</td>\n",
              "      <td>22320</td>\n",
              "      <td>What do you think of the suspension of the Uni...</td>\n",
              "      <td>Alas, Negro is asking for trouble. I really ca...</td>\n",
              "      <td>0</td>\n",
              "      <td>1</td>\n",
              "      <td>2</td>\n",
              "      <td>Negro</td>\n",
              "    </tr>\n",
              "    <tr>\n",
              "      <th>22665</th>\n",
              "      <td>Ethnic culture</td>\n",
              "      <td>15788</td>\n",
              "      <td>What do you think of some foreigners of Chines...</td>\n",
              "      <td>I thought it was common sense that people who ...</td>\n",
              "      <td>0</td>\n",
              "      <td>0</td>\n",
              "      <td>0</td>\n",
              "      <td>Asian discrimination</td>\n",
              "    </tr>\n",
              "    <tr>\n",
              "      <th>22666</th>\n",
              "      <td>Ethnic culture</td>\n",
              "      <td>24204</td>\n",
              "      <td>What is the situation of \"black life matter\" i...</td>\n",
              "      <td>Let me just talk about an Indian guy from Unit...</td>\n",
              "      <td>0</td>\n",
              "      <td>1</td>\n",
              "      <td>2</td>\n",
              "      <td>Negro</td>\n",
              "    </tr>\n",
              "    <tr>\n",
              "      <th>22667</th>\n",
              "      <td>minority</td>\n",
              "      <td>5228</td>\n",
              "      <td>Have you ever been discriminated by?</td>\n",
              "      <td>\"Where are you from?\" \"Shandong\" \"Oh, do you r...</td>\n",
              "      <td>1</td>\n",
              "      <td>2</td>\n",
              "      <td>2</td>\n",
              "      <td>Shandong people/Zhuang people</td>\n",
              "    </tr>\n",
              "    <tr>\n",
              "      <th>22668</th>\n",
              "      <td>Ethnic culture</td>\n",
              "      <td>22599</td>\n",
              "      <td>What do you think of United States Negro offic...</td>\n",
              "      <td>America is not only democratic and free, but a...</td>\n",
              "      <td>1</td>\n",
              "      <td>1</td>\n",
              "      <td>1</td>\n",
              "      <td>Negro</td>\n",
              "    </tr>\n",
              "  </tbody>\n",
              "</table>\n",
              "<p>22669 rows × 8 columns</p>\n",
              "</div>"
            ],
            "text/plain": [
              "                topic    idx  \\\n",
              "0              Gender  14550   \n",
              "1              Gender   6905   \n",
              "2              Gender   7609   \n",
              "3              Gender  13550   \n",
              "4              Gender   8050   \n",
              "...               ...    ...   \n",
              "22664  Ethnic culture  22320   \n",
              "22665  Ethnic culture  15788   \n",
              "22666  Ethnic culture  24204   \n",
              "22667        minority   5228   \n",
              "22668  Ethnic culture  22599   \n",
              "\n",
              "                                                       q  \\\n",
              "0      What is it like for trans women to pretend to ...   \n",
              "1             do some girls dislike the word \"virtuous\"?   \n",
              "2      it realistic to ask girls in their 20s to be v...   \n",
              "3          When did you feel discrimination against men?   \n",
              "4         Is there a gay man who can tell his own story?   \n",
              "...                                                  ...   \n",
              "22664  What do you think of the suspension of the Uni...   \n",
              "22665  What do you think of some foreigners of Chines...   \n",
              "22666  What is the situation of \"black life matter\" i...   \n",
              "22667               Have you ever been discriminated by?   \n",
              "22668  What do you think of United States Negro offic...   \n",
              "\n",
              "                                                       a  context  datatype  \\\n",
              "0       The phrase \"pretend to be a boy\" is interesting.        0         0   \n",
              "1      Because some people think that \"virtuous\" is s...        0         1   \n",
              "2      As long as you give enough money, don't say th...        0         1   \n",
              "3      The recent cargo lala, whether the deceased ju...        1         2   \n",
              "4      Thanks for the invitation. I was affected, I o...        0         0   \n",
              "...                                                  ...      ...       ...   \n",
              "22664  Alas, Negro is asking for trouble. I really ca...        0         1   \n",
              "22665  I thought it was common sense that people who ...        0         0   \n",
              "22666  Let me just talk about an Indian guy from Unit...        0         1   \n",
              "22667  \"Where are you from?\" \"Shandong\" \"Oh, do you r...        1         2   \n",
              "22668  America is not only democratic and free, but a...        1         1   \n",
              "\n",
              "       attitude                          group  \n",
              "0             0                    Transgender  \n",
              "1             3           Disgust virtuousness  \n",
              "2             3           Disgust virtuousness  \n",
              "3             2     Discrimination against men  \n",
              "4             0                     Homosexual  \n",
              "...         ...                            ...  \n",
              "22664         2                          Negro  \n",
              "22665         0           Asian discrimination  \n",
              "22666         2                          Negro  \n",
              "22667         2  Shandong people/Zhuang people  \n",
              "22668         1                          Negro  \n",
              "\n",
              "[22669 rows x 8 columns]"
            ]
          },
          "execution_count": 4,
          "metadata": {},
          "output_type": "execute_result"
        }
      ],
      "source": [
        "df"
      ]
    },
    {
      "cell_type": "code",
      "execution_count": 119,
      "metadata": {
        "colab": {
          "base_uri": "https://localhost:8080/",
          "height": 815
        },
        "id": "lYXlc1-prX9Q",
        "outputId": "b892f131-975d-4a1a-b982-06ace164988d"
      },
      "outputs": [
        {
          "data": {
            "text/html": [
              "<div>\n",
              "<style scoped>\n",
              "    .dataframe tbody tr th:only-of-type {\n",
              "        vertical-align: middle;\n",
              "    }\n",
              "\n",
              "    .dataframe tbody tr th {\n",
              "        vertical-align: top;\n",
              "    }\n",
              "\n",
              "    .dataframe thead th {\n",
              "        text-align: right;\n",
              "    }\n",
              "</style>\n",
              "<table border=\"1\" class=\"dataframe\">\n",
              "  <thead>\n",
              "    <tr style=\"text-align: right;\">\n",
              "      <th></th>\n",
              "      <th>topic</th>\n",
              "      <th>idx</th>\n",
              "      <th>q</th>\n",
              "      <th>a</th>\n",
              "      <th>context</th>\n",
              "      <th>datatype</th>\n",
              "      <th>attitude</th>\n",
              "      <th>group</th>\n",
              "      <th>concat</th>\n",
              "    </tr>\n",
              "  </thead>\n",
              "  <tbody>\n",
              "    <tr>\n",
              "      <th>0</th>\n",
              "      <td>Gender</td>\n",
              "      <td>14550</td>\n",
              "      <td>What is it like for trans women to pretend to ...</td>\n",
              "      <td>The phrase \"pretend to be a boy\" is interesting.</td>\n",
              "      <td>0</td>\n",
              "      <td>0</td>\n",
              "      <td>0</td>\n",
              "      <td>Transgender</td>\n",
              "      <td>What is it like for trans women to pretend to ...</td>\n",
              "    </tr>\n",
              "    <tr>\n",
              "      <th>1</th>\n",
              "      <td>Gender</td>\n",
              "      <td>6905</td>\n",
              "      <td>do some girls dislike the word \"virtuous\"?</td>\n",
              "      <td>Because some people think that \"virtuous\" is s...</td>\n",
              "      <td>0</td>\n",
              "      <td>1</td>\n",
              "      <td>3</td>\n",
              "      <td>Disgust virtuousness</td>\n",
              "      <td>do some girls dislike the word \"virtuous\"?Beca...</td>\n",
              "    </tr>\n",
              "    <tr>\n",
              "      <th>2</th>\n",
              "      <td>Gender</td>\n",
              "      <td>7609</td>\n",
              "      <td>it realistic to ask girls in their 20s to be v...</td>\n",
              "      <td>As long as you give enough money, don't say th...</td>\n",
              "      <td>0</td>\n",
              "      <td>1</td>\n",
              "      <td>3</td>\n",
              "      <td>Disgust virtuousness</td>\n",
              "      <td>it realistic to ask girls in their 20s to be v...</td>\n",
              "    </tr>\n",
              "    <tr>\n",
              "      <th>3</th>\n",
              "      <td>Gender</td>\n",
              "      <td>13550</td>\n",
              "      <td>When did you feel discrimination against men?</td>\n",
              "      <td>The recent cargo lala, whether the deceased ju...</td>\n",
              "      <td>1</td>\n",
              "      <td>2</td>\n",
              "      <td>2</td>\n",
              "      <td>Discrimination against men</td>\n",
              "      <td>When did you feel discrimination against men?T...</td>\n",
              "    </tr>\n",
              "    <tr>\n",
              "      <th>4</th>\n",
              "      <td>Gender</td>\n",
              "      <td>8050</td>\n",
              "      <td>Is there a gay man who can tell his own story?</td>\n",
              "      <td>Thanks for the invitation. I was affected, I o...</td>\n",
              "      <td>0</td>\n",
              "      <td>0</td>\n",
              "      <td>0</td>\n",
              "      <td>Homosexual</td>\n",
              "      <td>Is there a gay man who can tell his own story?...</td>\n",
              "    </tr>\n",
              "    <tr>\n",
              "      <th>...</th>\n",
              "      <td>...</td>\n",
              "      <td>...</td>\n",
              "      <td>...</td>\n",
              "      <td>...</td>\n",
              "      <td>...</td>\n",
              "      <td>...</td>\n",
              "      <td>...</td>\n",
              "      <td>...</td>\n",
              "      <td>...</td>\n",
              "    </tr>\n",
              "    <tr>\n",
              "      <th>22664</th>\n",
              "      <td>Ethnic culture</td>\n",
              "      <td>22320</td>\n",
              "      <td>What do you think of the suspension of the Uni...</td>\n",
              "      <td>Alas, Negro is asking for trouble. I really ca...</td>\n",
              "      <td>0</td>\n",
              "      <td>1</td>\n",
              "      <td>2</td>\n",
              "      <td>Negro</td>\n",
              "      <td>What do you think of the suspension of the Uni...</td>\n",
              "    </tr>\n",
              "    <tr>\n",
              "      <th>22665</th>\n",
              "      <td>Ethnic culture</td>\n",
              "      <td>15788</td>\n",
              "      <td>What do you think of some foreigners of Chines...</td>\n",
              "      <td>I thought it was common sense that people who ...</td>\n",
              "      <td>0</td>\n",
              "      <td>0</td>\n",
              "      <td>0</td>\n",
              "      <td>Asian discrimination</td>\n",
              "      <td>What do you think of some foreigners of Chines...</td>\n",
              "    </tr>\n",
              "    <tr>\n",
              "      <th>22666</th>\n",
              "      <td>Ethnic culture</td>\n",
              "      <td>24204</td>\n",
              "      <td>What is the situation of \"black life matter\" i...</td>\n",
              "      <td>Let me just talk about an Indian guy from Unit...</td>\n",
              "      <td>0</td>\n",
              "      <td>1</td>\n",
              "      <td>2</td>\n",
              "      <td>Negro</td>\n",
              "      <td>What is the situation of \"black life matter\" i...</td>\n",
              "    </tr>\n",
              "    <tr>\n",
              "      <th>22667</th>\n",
              "      <td>minority</td>\n",
              "      <td>5228</td>\n",
              "      <td>Have you ever been discriminated by?</td>\n",
              "      <td>\"Where are you from?\" \"Shandong\" \"Oh, do you r...</td>\n",
              "      <td>1</td>\n",
              "      <td>2</td>\n",
              "      <td>2</td>\n",
              "      <td>Shandong people/Zhuang people</td>\n",
              "      <td>Have you ever been discriminated by?\"Where are...</td>\n",
              "    </tr>\n",
              "    <tr>\n",
              "      <th>22668</th>\n",
              "      <td>Ethnic culture</td>\n",
              "      <td>22599</td>\n",
              "      <td>What do you think of United States Negro offic...</td>\n",
              "      <td>America is not only democratic and free, but a...</td>\n",
              "      <td>1</td>\n",
              "      <td>1</td>\n",
              "      <td>1</td>\n",
              "      <td>Negro</td>\n",
              "      <td>What do you think of United States Negro offic...</td>\n",
              "    </tr>\n",
              "  </tbody>\n",
              "</table>\n",
              "<p>22669 rows × 9 columns</p>\n",
              "</div>"
            ],
            "text/plain": [
              "                topic    idx  \\\n",
              "0              Gender  14550   \n",
              "1              Gender   6905   \n",
              "2              Gender   7609   \n",
              "3              Gender  13550   \n",
              "4              Gender   8050   \n",
              "...               ...    ...   \n",
              "22664  Ethnic culture  22320   \n",
              "22665  Ethnic culture  15788   \n",
              "22666  Ethnic culture  24204   \n",
              "22667        minority   5228   \n",
              "22668  Ethnic culture  22599   \n",
              "\n",
              "                                                       q  \\\n",
              "0      What is it like for trans women to pretend to ...   \n",
              "1             do some girls dislike the word \"virtuous\"?   \n",
              "2      it realistic to ask girls in their 20s to be v...   \n",
              "3          When did you feel discrimination against men?   \n",
              "4         Is there a gay man who can tell his own story?   \n",
              "...                                                  ...   \n",
              "22664  What do you think of the suspension of the Uni...   \n",
              "22665  What do you think of some foreigners of Chines...   \n",
              "22666  What is the situation of \"black life matter\" i...   \n",
              "22667               Have you ever been discriminated by?   \n",
              "22668  What do you think of United States Negro offic...   \n",
              "\n",
              "                                                       a  context  datatype  \\\n",
              "0       The phrase \"pretend to be a boy\" is interesting.        0         0   \n",
              "1      Because some people think that \"virtuous\" is s...        0         1   \n",
              "2      As long as you give enough money, don't say th...        0         1   \n",
              "3      The recent cargo lala, whether the deceased ju...        1         2   \n",
              "4      Thanks for the invitation. I was affected, I o...        0         0   \n",
              "...                                                  ...      ...       ...   \n",
              "22664  Alas, Negro is asking for trouble. I really ca...        0         1   \n",
              "22665  I thought it was common sense that people who ...        0         0   \n",
              "22666  Let me just talk about an Indian guy from Unit...        0         1   \n",
              "22667  \"Where are you from?\" \"Shandong\" \"Oh, do you r...        1         2   \n",
              "22668  America is not only democratic and free, but a...        1         1   \n",
              "\n",
              "       attitude                          group  \\\n",
              "0             0                    Transgender   \n",
              "1             3           Disgust virtuousness   \n",
              "2             3           Disgust virtuousness   \n",
              "3             2     Discrimination against men   \n",
              "4             0                     Homosexual   \n",
              "...         ...                            ...   \n",
              "22664         2                          Negro   \n",
              "22665         0           Asian discrimination   \n",
              "22666         2                          Negro   \n",
              "22667         2  Shandong people/Zhuang people   \n",
              "22668         1                          Negro   \n",
              "\n",
              "                                                  concat  \n",
              "0      What is it like for trans women to pretend to ...  \n",
              "1      do some girls dislike the word \"virtuous\"?Beca...  \n",
              "2      it realistic to ask girls in their 20s to be v...  \n",
              "3      When did you feel discrimination against men?T...  \n",
              "4      Is there a gay man who can tell his own story?...  \n",
              "...                                                  ...  \n",
              "22664  What do you think of the suspension of the Uni...  \n",
              "22665  What do you think of some foreigners of Chines...  \n",
              "22666  What is the situation of \"black life matter\" i...  \n",
              "22667  Have you ever been discriminated by?\"Where are...  \n",
              "22668  What do you think of United States Negro offic...  \n",
              "\n",
              "[22669 rows x 9 columns]"
            ]
          },
          "execution_count": 119,
          "metadata": {},
          "output_type": "execute_result"
        }
      ],
      "source": [
        "df['concat'] = df['q'] + df['a']\n",
        "df"
      ]
    },
    {
      "cell_type": "code",
      "execution_count": 120,
      "metadata": {
        "id": "4myRZidF1XAg"
      },
      "outputs": [],
      "source": [
        "X = df['concat']\n",
        "#X = df['a']"
      ]
    },
    {
      "cell_type": "code",
      "execution_count": 121,
      "metadata": {
        "colab": {
          "base_uri": "https://localhost:8080/"
        },
        "id": "MTYwtPkZic5R",
        "outputId": "f1987498-3aac-427a-ef77-5b081eb98b82"
      },
      "outputs": [
        {
          "data": {
            "text/plain": [
              "0        What is it like for trans women to pretend to ...\n",
              "1        do some girls dislike the word \"virtuous\"?Beca...\n",
              "2        it realistic to ask girls in their 20s to be v...\n",
              "3        When did you feel discrimination against men?T...\n",
              "4        Is there a gay man who can tell his own story?...\n",
              "                               ...                        \n",
              "22664    What do you think of the suspension of the Uni...\n",
              "22665    What do you think of some foreigners of Chines...\n",
              "22666    What is the situation of \"black life matter\" i...\n",
              "22667    Have you ever been discriminated by?\"Where are...\n",
              "22668    What do you think of United States Negro offic...\n",
              "Name: concat, Length: 22669, dtype: object"
            ]
          },
          "execution_count": 121,
          "metadata": {},
          "output_type": "execute_result"
        }
      ],
      "source": [
        "X"
      ]
    },
    {
      "cell_type": "code",
      "execution_count": 122,
      "metadata": {
        "id": "jRhnAv0OiYXL"
      },
      "outputs": [],
      "source": [
        "X = X.astype(str)"
      ]
    },
    {
      "cell_type": "code",
      "execution_count": 123,
      "metadata": {
        "colab": {
          "base_uri": "https://localhost:8080/"
        },
        "id": "THF3oWA3ibO4",
        "outputId": "4aa246a6-8983-4860-f5c8-80a04bc4abb5"
      },
      "outputs": [
        {
          "data": {
            "text/plain": [
              "0        What is it like for trans women to pretend to ...\n",
              "1        do some girls dislike the word \"virtuous\"?Beca...\n",
              "2        it realistic to ask girls in their 20s to be v...\n",
              "3        When did you feel discrimination against men?T...\n",
              "4        Is there a gay man who can tell his own story?...\n",
              "                               ...                        \n",
              "22664    What do you think of the suspension of the Uni...\n",
              "22665    What do you think of some foreigners of Chines...\n",
              "22666    What is the situation of \"black life matter\" i...\n",
              "22667    Have you ever been discriminated by?\"Where are...\n",
              "22668    What do you think of United States Negro offic...\n",
              "Name: concat, Length: 22669, dtype: object"
            ]
          },
          "execution_count": 123,
          "metadata": {},
          "output_type": "execute_result"
        }
      ],
      "source": [
        "X"
      ]
    },
    {
      "cell_type": "code",
      "execution_count": 124,
      "metadata": {
        "id": "K60m1iUY1bhN"
      },
      "outputs": [],
      "source": [
        "y = df.iloc[:, 4].values"
      ]
    },
    {
      "cell_type": "code",
      "execution_count": 125,
      "metadata": {
        "colab": {
          "base_uri": "https://localhost:8080/"
        },
        "id": "hkAyL_JCDare",
        "outputId": "f77f787b-0b93-4e04-ffea-79d938da353e"
      },
      "outputs": [
        {
          "data": {
            "text/plain": [
              "array([0, 0, 0, ..., 0, 1, 1], dtype=int64)"
            ]
          },
          "execution_count": 125,
          "metadata": {},
          "output_type": "execute_result"
        }
      ],
      "source": [
        "y"
      ]
    },
    {
      "cell_type": "code",
      "execution_count": 126,
      "metadata": {
        "id": "mO4be8iLDNDU"
      },
      "outputs": [],
      "source": [
        "y1 = pd.DataFrame()\n",
        "y1['context'] = df.iloc[:, 4].values\n",
        "y1['datatype'] = df.iloc[:, 5].values\n",
        "y1['attitude'] = df.iloc[:, 6].values"
      ]
    },
    {
      "cell_type": "code",
      "execution_count": 127,
      "metadata": {
        "colab": {
          "base_uri": "https://localhost:8080/",
          "height": 424
        },
        "id": "P1Jn_lFFDP_L",
        "outputId": "ea4df6b1-dd8c-407e-ccc2-3e250a9336e6"
      },
      "outputs": [
        {
          "data": {
            "text/html": [
              "<div>\n",
              "<style scoped>\n",
              "    .dataframe tbody tr th:only-of-type {\n",
              "        vertical-align: middle;\n",
              "    }\n",
              "\n",
              "    .dataframe tbody tr th {\n",
              "        vertical-align: top;\n",
              "    }\n",
              "\n",
              "    .dataframe thead th {\n",
              "        text-align: right;\n",
              "    }\n",
              "</style>\n",
              "<table border=\"1\" class=\"dataframe\">\n",
              "  <thead>\n",
              "    <tr style=\"text-align: right;\">\n",
              "      <th></th>\n",
              "      <th>context</th>\n",
              "      <th>datatype</th>\n",
              "      <th>attitude</th>\n",
              "    </tr>\n",
              "  </thead>\n",
              "  <tbody>\n",
              "    <tr>\n",
              "      <th>0</th>\n",
              "      <td>0</td>\n",
              "      <td>0</td>\n",
              "      <td>0</td>\n",
              "    </tr>\n",
              "    <tr>\n",
              "      <th>1</th>\n",
              "      <td>0</td>\n",
              "      <td>1</td>\n",
              "      <td>3</td>\n",
              "    </tr>\n",
              "    <tr>\n",
              "      <th>2</th>\n",
              "      <td>0</td>\n",
              "      <td>1</td>\n",
              "      <td>3</td>\n",
              "    </tr>\n",
              "    <tr>\n",
              "      <th>3</th>\n",
              "      <td>1</td>\n",
              "      <td>2</td>\n",
              "      <td>2</td>\n",
              "    </tr>\n",
              "    <tr>\n",
              "      <th>4</th>\n",
              "      <td>0</td>\n",
              "      <td>0</td>\n",
              "      <td>0</td>\n",
              "    </tr>\n",
              "    <tr>\n",
              "      <th>...</th>\n",
              "      <td>...</td>\n",
              "      <td>...</td>\n",
              "      <td>...</td>\n",
              "    </tr>\n",
              "    <tr>\n",
              "      <th>22664</th>\n",
              "      <td>0</td>\n",
              "      <td>1</td>\n",
              "      <td>2</td>\n",
              "    </tr>\n",
              "    <tr>\n",
              "      <th>22665</th>\n",
              "      <td>0</td>\n",
              "      <td>0</td>\n",
              "      <td>0</td>\n",
              "    </tr>\n",
              "    <tr>\n",
              "      <th>22666</th>\n",
              "      <td>0</td>\n",
              "      <td>1</td>\n",
              "      <td>2</td>\n",
              "    </tr>\n",
              "    <tr>\n",
              "      <th>22667</th>\n",
              "      <td>1</td>\n",
              "      <td>2</td>\n",
              "      <td>2</td>\n",
              "    </tr>\n",
              "    <tr>\n",
              "      <th>22668</th>\n",
              "      <td>1</td>\n",
              "      <td>1</td>\n",
              "      <td>1</td>\n",
              "    </tr>\n",
              "  </tbody>\n",
              "</table>\n",
              "<p>22669 rows × 3 columns</p>\n",
              "</div>"
            ],
            "text/plain": [
              "       context  datatype  attitude\n",
              "0            0         0         0\n",
              "1            0         1         3\n",
              "2            0         1         3\n",
              "3            1         2         2\n",
              "4            0         0         0\n",
              "...        ...       ...       ...\n",
              "22664        0         1         2\n",
              "22665        0         0         0\n",
              "22666        0         1         2\n",
              "22667        1         2         2\n",
              "22668        1         1         1\n",
              "\n",
              "[22669 rows x 3 columns]"
            ]
          },
          "execution_count": 127,
          "metadata": {},
          "output_type": "execute_result"
        }
      ],
      "source": [
        "y1"
      ]
    },
    {
      "cell_type": "markdown",
      "metadata": {
        "id": "UsCozQoV_JiH"
      },
      "source": []
    },
    {
      "cell_type": "code",
      "execution_count": 128,
      "metadata": {
        "colab": {
          "base_uri": "https://localhost:8080/",
          "height": 131,
          "referenced_widgets": [
            "0027f9df79ae4c789d2244224b743c22",
            "41dca6e62c3545b298db0a54480764a3",
            "2e8bcfde3bbd4560915399e4c9875998",
            "d37d262d0c424480887d116ae3e64f47",
            "81e714cf49054648af4249a13c563178",
            "d3ca64723fae4a4b82def2c8708092c6",
            "f628df1424d84b8d8d9090ca5140a5fa",
            "39862ffbbcb247df96742c4a783687de",
            "c114edaaab654a05a6a0141f31f2a982",
            "d19f55ffefcb4ca28df2d1c5a514d9a3",
            "0ecdc8007e7a4e6db2480fc3736545d2",
            "39c459b6d8be46d18754abfb8b0a8e7d",
            "634a45bdfe844dfb87c0e0a5e0c1c4e9",
            "c62f03ebe24c4026b26a877d9d9b4fdd",
            "2989c1e01ba14b409b7c2eb8c38a3d3e",
            "8a2884e206014f7c9a5c86cdadbe2fb6",
            "246b00e68e1e4f94ae301eee690aa868",
            "736bcfaac57a4d82b0671570590b57f5",
            "a350e24e05fc43a99e78ed5fa8a25043",
            "01e695c70d8a4baab3cf1b11d2112021",
            "b36daddfffad4b1ea45274ee200b286e",
            "c6e07cfd58fe4879a23a268888cde65e",
            "b8a3af37369442cc920dfcc62ca7d677",
            "903f4238408e4f09a33146617ce1856f",
            "a62c1ecbc87e41ebbad92d3602fa71d7",
            "02d95f9d08a94a2493985f30722ed59d",
            "64f523a89fb44c80b7ae3ae7d7c467c7",
            "286333e220d445d9978c98ad454d705f",
            "4a2dcbd52f8549359839250cf8d4c8b6",
            "5b5f751e7fba481b9fc90981cb52041c",
            "60217126626f4c309ded200cded34779",
            "4e3e05b65bde45d7a5b890bf2a4b0f02",
            "74851e5caf03456bb85675b4918af63d"
          ]
        },
        "id": "oZ9ZgkG7A5lf",
        "outputId": "805817cc-9e71-4600-9033-8842461ef50b"
      },
      "outputs": [
        {
          "name": "stdout",
          "output_type": "stream",
          "text": [
            "Max sentence length:  532\n",
            "Max token length:  120\n",
            "Max Rob token length:  258\n"
          ]
        }
      ],
      "source": [
        "from transformers import BertTokenizer, BertModel, RobertaTokenizer\n",
        "tokenizer = BertTokenizer.from_pretrained('bert-base-uncased')\n",
        "RobTokenizer = RobertaTokenizer.from_pretrained('roberta-base')\n",
        "max_len = 0\n",
        "sent_max_len = 0\n",
        "Robmax_len = 0\n",
        "# For every sentence...\n",
        "for sent in X:\n",
        "  # print(sent)\n",
        "  sent_max_len = max(sent_max_len, len(sent))\n",
        "  input_ids = tokenizer.encode(sent, add_special_tokens=True)\n",
        "  RobInput_ids = RobTokenizer.encode(sent, add_special_tokens=True)\n",
        "  max_len = max(max_len, len(input_ids))\n",
        "  Robmax_len = max(Robmax_len, len(RobInput_ids))\n",
        "print('Max sentence length: ', sent_max_len)\n",
        "print('Max token length: ', max_len)\n",
        "print('Max Rob token length: ', Robmax_len)\n"
      ]
    },
    {
      "cell_type": "code",
      "execution_count": 129,
      "metadata": {
        "colab": {
          "base_uri": "https://localhost:8080/"
        },
        "id": "x46FFrN-Bg6W",
        "outputId": "dea5d3a2-e4ad-4feb-96b5-e5d4fb69d37d"
      },
      "outputs": [
        {
          "name": "stderr",
          "output_type": "stream",
          "text": [
            "Truncation was not explicitly activated but `max_length` is provided a specific value, please use `truncation=True` to explicitly truncate examples to max length. Defaulting to 'longest_first' truncation strategy. If you encode pairs of sequences (GLUE-style) with the tokenizer you can select this strategy more precisely by providing a specific strategy to `truncation`.\n",
            "c:\\Users\\ssroh\\anaconda3\\lib\\site-packages\\transformers\\tokenization_utils_base.py:2304: FutureWarning: The `pad_to_max_length` argument is deprecated and will be removed in a future version, use `padding=True` or `padding='longest'` to pad to the longest sequence in the batch, or use `padding='max_length'` to pad to a max length. In this case, you can give a specific length with `max_length` (e.g. `max_length=45`) or leave max_length to None to pad to the maximal input size of the model (e.g. 512 for Bert).\n",
            "  warnings.warn(\n"
          ]
        },
        {
          "name": "stdout",
          "output_type": "stream",
          "text": [
            "Original:  do some girls dislike the word \"virtuous\"?Because some people think that \"virtuous\" is synonymous with \"obeying the command of the husband\".\n",
            "Token IDs: tensor([    0,  5016,   103,  1972, 28101,     5,  2136,    22, 42660, 12685,\n",
            "        24681, 10105,   103,    82,   206,    14,    22, 42660, 12685,   113,\n",
            "           16, 26820,    19,    22, 14004,  4048,     5,  5936,     9,     5,\n",
            "         1623,   845,     2,     1,     1,     1,     1,     1,     1,     1,\n",
            "            1,     1,     1,     1,     1,     1,     1,     1,     1,     1,\n",
            "            1,     1,     1,     1,     1,     1,     1,     1,     1,     1,\n",
            "            1,     1,     1,     1,     1,     1,     1,     1,     1,     1,\n",
            "            1,     1,     1,     1,     1,     1,     1,     1,     1,     1,\n",
            "            1,     1,     1,     1,     1,     1,     1,     1,     1,     1,\n",
            "            1,     1,     1,     1,     1,     1,     1,     1,     1,     1,\n",
            "            1,     1,     1,     1,     1,     1,     1,     1,     1,     1,\n",
            "            1,     1,     1,     1,     1,     1,     1,     1,     1,     1,\n",
            "            1,     1,     1,     1,     1,     1,     1,     1,     1,     1,\n",
            "            1,     1,     1,     1,     1,     1,     1,     1,     1,     1,\n",
            "            1,     1,     1,     1,     1,     1,     1,     1,     1,     1,\n",
            "            1,     1,     1,     1,     1,     1,     1,     1,     1,     1,\n",
            "            1,     1,     1,     1,     1,     1,     1,     1,     1,     1,\n",
            "            1,     1,     1,     1,     1,     1,     1,     1,     1,     1,\n",
            "            1,     1,     1,     1,     1,     1,     1,     1,     1,     1,\n",
            "            1,     1,     1,     1,     1,     1,     1,     1,     1,     1,\n",
            "            1,     1,     1,     1,     1,     1,     1,     1,     1,     1,\n",
            "            1,     1,     1,     1,     1,     1,     1,     1,     1,     1,\n",
            "            1,     1,     1,     1,     1,     1,     1,     1,     1,     1,\n",
            "            1,     1,     1,     1,     1,     1,     1,     1,     1,     1,\n",
            "            1,     1,     1,     1,     1,     1,     1,     1,     1,     1,\n",
            "            1,     1,     1,     1,     1,     1,     1,     1,     1,     1,\n",
            "            1,     1,     1,     1,     1,     1,     1,     1,     1,     1,\n",
            "            1,     1,     1,     1,     1])\n"
          ]
        }
      ],
      "source": [
        "# Tokenize all of the sentences and map the tokens to thier word IDs.\n",
        "import torch\n",
        "input_ids = []\n",
        "attention_masks = []\n",
        "\n",
        "# For every sentence...\n",
        "for sent in X:\n",
        "    encoded_dict = RobTokenizer.encode_plus(\n",
        "                        sent,                      \n",
        "                        add_special_tokens = True, \n",
        "                        max_length = 275,           \n",
        "                        pad_to_max_length = True,\n",
        "                        return_attention_mask = True,   \n",
        "                        return_tensors = 'pt',    \n",
        "                   )\n",
        "   \n",
        "    input_ids.append(encoded_dict['input_ids'])\n",
        "    attention_masks.append(encoded_dict['attention_mask'])\n",
        "\n",
        "\n",
        "input_ids = torch.cat(input_ids, dim=0)\n",
        "attention_masks = torch.cat(attention_masks, dim=0)\n",
        "labels = torch.tensor(y)\n",
        "\n",
        "print('Original: ', X[1])\n",
        "print('Token IDs:', input_ids[1])"
      ]
    },
    {
      "cell_type": "code",
      "execution_count": 130,
      "metadata": {
        "colab": {
          "base_uri": "https://localhost:8080/"
        },
        "id": "EDyPYcOiCKl2",
        "outputId": "d7cbed42-bece-40b8-f8e0-3aef0a19ab4c"
      },
      "outputs": [
        {
          "name": "stdout",
          "output_type": "stream",
          "text": [
            "Original:  What is it like for trans women to pretend to be a boy?The phrase \"pretend to be a boy\" is interesting.\n",
            "Token IDs: tensor([    0,  2264,    16,    24,   101,    13,  6214,   390,     7, 17050,\n",
            "            7,    28,    10,  2143,   116,   133, 11054,    22, 42354,  1397,\n",
            "            7,    28,    10,  2143,   113,    16,  2679,     4,     2,     1,\n",
            "            1,     1,     1,     1,     1,     1,     1,     1,     1,     1,\n",
            "            1,     1,     1,     1,     1,     1,     1,     1,     1,     1,\n",
            "            1,     1,     1,     1,     1,     1,     1,     1,     1,     1,\n",
            "            1,     1,     1,     1,     1,     1,     1,     1,     1,     1,\n",
            "            1,     1,     1,     1,     1,     1,     1,     1,     1,     1,\n",
            "            1,     1,     1,     1,     1,     1,     1,     1,     1,     1,\n",
            "            1,     1,     1,     1,     1,     1,     1,     1,     1,     1,\n",
            "            1,     1,     1,     1,     1,     1,     1,     1,     1,     1,\n",
            "            1,     1,     1,     1,     1,     1,     1,     1,     1,     1,\n",
            "            1,     1,     1,     1,     1,     1,     1,     1,     1,     1,\n",
            "            1,     1,     1,     1,     1,     1,     1,     1,     1,     1,\n",
            "            1,     1,     1,     1,     1,     1,     1,     1,     1,     1,\n",
            "            1,     1,     1,     1,     1,     1,     1,     1,     1,     1,\n",
            "            1,     1,     1,     1,     1,     1,     1,     1,     1,     1,\n",
            "            1,     1,     1,     1,     1,     1,     1,     1,     1,     1,\n",
            "            1,     1,     1,     1,     1,     1,     1,     1,     1,     1,\n",
            "            1,     1,     1,     1,     1,     1,     1,     1,     1,     1,\n",
            "            1,     1,     1,     1,     1,     1,     1,     1,     1,     1,\n",
            "            1,     1,     1,     1,     1,     1,     1,     1,     1,     1,\n",
            "            1,     1,     1,     1,     1,     1,     1,     1,     1,     1,\n",
            "            1,     1,     1,     1,     1,     1,     1,     1,     1,     1,\n",
            "            1,     1,     1,     1,     1,     1,     1,     1,     1,     1,\n",
            "            1,     1,     1,     1,     1,     1,     1,     1,     1,     1,\n",
            "            1,     1,     1,     1,     1,     1,     1,     1,     1,     1,\n",
            "            1,     1,     1,     1,     1])\n"
          ]
        }
      ],
      "source": [
        "# Print sentence 0, now as a list of IDs.\n",
        "print('Original: ', X[0])\n",
        "print('Token IDs:', input_ids[0])"
      ]
    },
    {
      "cell_type": "code",
      "execution_count": 131,
      "metadata": {
        "colab": {
          "base_uri": "https://localhost:8080/"
        },
        "id": "KtEH7UF9sYlc",
        "outputId": "9605895f-fef9-454a-b617-386e0738fc97"
      },
      "outputs": [
        {
          "data": {
            "text/plain": [
              "torch.Size([22669, 275])"
            ]
          },
          "execution_count": 131,
          "metadata": {},
          "output_type": "execute_result"
        }
      ],
      "source": [
        "input_ids.shape"
      ]
    },
    {
      "cell_type": "code",
      "execution_count": 132,
      "metadata": {
        "id": "0evua2welqi0"
      },
      "outputs": [],
      "source": [
        "from sklearn.model_selection import train_test_split\n",
        "# X_train, X_test, y_train, y_test = train_test_split(input_ids, y, train_size=0.8)\n",
        "# X_train, X_test, y_train, y_test = train_test_split(input_ids, y, train_size=0.8, random_state=42)"
      ]
    },
    {
      "cell_type": "code",
      "execution_count": 133,
      "metadata": {
        "id": "pkmVADt3DxMl"
      },
      "outputs": [],
      "source": [
        "X_train, X_test, y_train, y_test = train_test_split(input_ids, y1, train_size=0.8, random_state=42)"
      ]
    },
    {
      "cell_type": "code",
      "execution_count": 134,
      "metadata": {
        "colab": {
          "base_uri": "https://localhost:8080/"
        },
        "id": "DWCvt0_vD5Ov",
        "outputId": "d1c04d06-75fe-4ad4-8783-91bfad2bcafa"
      },
      "outputs": [
        {
          "data": {
            "text/plain": [
              "tensor([[    0,  7608,    16,  ...,     1,     1,     1],\n",
              "        [    0,   133, 41574,  ...,     1,     1,     1],\n",
              "        [    0,  8275,    47,  ...,     1,     1,     1],\n",
              "        ...,\n",
              "        [    0,  6179,     7,  ...,     1,     1,     1],\n",
              "        [    0,  6179,     7,  ...,     1,     1,     1],\n",
              "        [    0,  2264,   109,  ...,     1,     1,     1]])"
            ]
          },
          "execution_count": 134,
          "metadata": {},
          "output_type": "execute_result"
        }
      ],
      "source": [
        "X_train"
      ]
    },
    {
      "cell_type": "code",
      "execution_count": 135,
      "metadata": {
        "colab": {
          "base_uri": "https://localhost:8080/",
          "height": 424
        },
        "id": "OeYAC-AKD6_f",
        "outputId": "b4851c71-e1ed-4079-b538-5e37f9a59a82"
      },
      "outputs": [
        {
          "data": {
            "text/html": [
              "<div>\n",
              "<style scoped>\n",
              "    .dataframe tbody tr th:only-of-type {\n",
              "        vertical-align: middle;\n",
              "    }\n",
              "\n",
              "    .dataframe tbody tr th {\n",
              "        vertical-align: top;\n",
              "    }\n",
              "\n",
              "    .dataframe thead th {\n",
              "        text-align: right;\n",
              "    }\n",
              "</style>\n",
              "<table border=\"1\" class=\"dataframe\">\n",
              "  <thead>\n",
              "    <tr style=\"text-align: right;\">\n",
              "      <th></th>\n",
              "      <th>context</th>\n",
              "      <th>datatype</th>\n",
              "      <th>attitude</th>\n",
              "    </tr>\n",
              "  </thead>\n",
              "  <tbody>\n",
              "    <tr>\n",
              "      <th>16962</th>\n",
              "      <td>0</td>\n",
              "      <td>0</td>\n",
              "      <td>0</td>\n",
              "    </tr>\n",
              "    <tr>\n",
              "      <th>9191</th>\n",
              "      <td>0</td>\n",
              "      <td>2</td>\n",
              "      <td>2</td>\n",
              "    </tr>\n",
              "    <tr>\n",
              "      <th>19645</th>\n",
              "      <td>0</td>\n",
              "      <td>2</td>\n",
              "      <td>3</td>\n",
              "    </tr>\n",
              "    <tr>\n",
              "      <th>22484</th>\n",
              "      <td>0</td>\n",
              "      <td>0</td>\n",
              "      <td>0</td>\n",
              "    </tr>\n",
              "    <tr>\n",
              "      <th>505</th>\n",
              "      <td>0</td>\n",
              "      <td>1</td>\n",
              "      <td>3</td>\n",
              "    </tr>\n",
              "    <tr>\n",
              "      <th>...</th>\n",
              "      <td>...</td>\n",
              "      <td>...</td>\n",
              "      <td>...</td>\n",
              "    </tr>\n",
              "    <tr>\n",
              "      <th>11964</th>\n",
              "      <td>0</td>\n",
              "      <td>1</td>\n",
              "      <td>2</td>\n",
              "    </tr>\n",
              "    <tr>\n",
              "      <th>21575</th>\n",
              "      <td>0</td>\n",
              "      <td>0</td>\n",
              "      <td>0</td>\n",
              "    </tr>\n",
              "    <tr>\n",
              "      <th>5390</th>\n",
              "      <td>1</td>\n",
              "      <td>1</td>\n",
              "      <td>3</td>\n",
              "    </tr>\n",
              "    <tr>\n",
              "      <th>860</th>\n",
              "      <td>0</td>\n",
              "      <td>1</td>\n",
              "      <td>2</td>\n",
              "    </tr>\n",
              "    <tr>\n",
              "      <th>15795</th>\n",
              "      <td>0</td>\n",
              "      <td>0</td>\n",
              "      <td>0</td>\n",
              "    </tr>\n",
              "  </tbody>\n",
              "</table>\n",
              "<p>18135 rows × 3 columns</p>\n",
              "</div>"
            ],
            "text/plain": [
              "       context  datatype  attitude\n",
              "16962        0         0         0\n",
              "9191         0         2         2\n",
              "19645        0         2         3\n",
              "22484        0         0         0\n",
              "505          0         1         3\n",
              "...        ...       ...       ...\n",
              "11964        0         1         2\n",
              "21575        0         0         0\n",
              "5390         1         1         3\n",
              "860          0         1         2\n",
              "15795        0         0         0\n",
              "\n",
              "[18135 rows x 3 columns]"
            ]
          },
          "execution_count": 135,
          "metadata": {},
          "output_type": "execute_result"
        }
      ],
      "source": [
        "y_train"
      ]
    },
    {
      "cell_type": "code",
      "execution_count": 136,
      "metadata": {
        "colab": {
          "base_uri": "https://localhost:8080/"
        },
        "id": "AdwxnKO3xC0d",
        "outputId": "d93a8b44-88a5-45b3-abaf-d415292782f1"
      },
      "outputs": [
        {
          "data": {
            "text/plain": [
              "torch.Size([18135, 275])"
            ]
          },
          "execution_count": 136,
          "metadata": {},
          "output_type": "execute_result"
        }
      ],
      "source": [
        "X_train.shape"
      ]
    },
    {
      "cell_type": "code",
      "execution_count": 137,
      "metadata": {
        "id": "9EtD_jcgwwlQ"
      },
      "outputs": [],
      "source": [
        "y_train1 = y_train['context'].values"
      ]
    },
    {
      "cell_type": "code",
      "execution_count": 138,
      "metadata": {
        "colab": {
          "base_uri": "https://localhost:8080/"
        },
        "id": "t_pkt02VJLzF",
        "outputId": "ecd17180-21c5-45a8-95c4-1b8bd6a00ec8"
      },
      "outputs": [
        {
          "data": {
            "text/plain": [
              "array([0, 0, 0, ..., 1, 0, 0], dtype=int64)"
            ]
          },
          "execution_count": 138,
          "metadata": {},
          "output_type": "execute_result"
        }
      ],
      "source": [
        "y_train1"
      ]
    },
    {
      "cell_type": "code",
      "execution_count": 139,
      "metadata": {
        "id": "-Dm5i6E0o5ir"
      },
      "outputs": [],
      "source": [
        "X_data = []\n",
        "for i in range(len(X_train)):\n",
        "  X_data.append([X_train[i], y_train1[i]])"
      ]
    },
    {
      "cell_type": "code",
      "execution_count": 140,
      "metadata": {
        "colab": {
          "base_uri": "https://localhost:8080/"
        },
        "id": "GHeAQ3Rc0hV9",
        "outputId": "2b75148a-f8f8-4b80-f4ce-44180ce08123"
      },
      "outputs": [
        {
          "data": {
            "text/plain": [
              "18135"
            ]
          },
          "execution_count": 140,
          "metadata": {},
          "output_type": "execute_result"
        }
      ],
      "source": [
        "len(y_train1)"
      ]
    },
    {
      "cell_type": "code",
      "execution_count": 141,
      "metadata": {
        "id": "M1b7t48RJSvz"
      },
      "outputs": [],
      "source": [
        "y_test1 = y_test['context'].values"
      ]
    },
    {
      "cell_type": "code",
      "execution_count": 142,
      "metadata": {
        "id": "DD7bJrKKpWjn"
      },
      "outputs": [],
      "source": [
        "X_data_test = []\n",
        "for i in range(len(X_test)):\n",
        "  X_data_test.append([X_test[i], y_test1[i]])"
      ]
    },
    {
      "cell_type": "code",
      "execution_count": 143,
      "metadata": {
        "id": "-UQ8oL7jESkp"
      },
      "outputs": [],
      "source": [
        "batch_size = 32\n",
        "train_loader1 = torch.utils.data.DataLoader(X_data, batch_size=batch_size)"
      ]
    },
    {
      "cell_type": "code",
      "execution_count": 144,
      "metadata": {
        "id": "Uhb79d0qD8Iw"
      },
      "outputs": [],
      "source": [
        "import torch.nn as nn\n",
        "import torch.nn.functional as F\n",
        "\n",
        "class Net(nn.Module):\n",
        "    def __init__(self):\n",
        "        super(Net, self).__init__()\n",
        "        self.fc1 = nn.Linear(275, 768)\n",
        "        self.dropout = nn.Dropout(0.3)\n",
        "        self.fc2 = nn.Linear(768, 2)\n",
        "        #self.fc2 = nn.Linear(768, 24)\n",
        "\n",
        "\n",
        "    def forward(self, x):\n",
        "        x = self.fc1(x)\n",
        "        x = self.dropout(x)\n",
        "        x = self.fc2(x)\n",
        "        output = F.log_softmax(x, dim=1)\n",
        "        return output"
      ]
    },
    {
      "cell_type": "code",
      "execution_count": 145,
      "metadata": {
        "id": "sArDo-iavSuo"
      },
      "outputs": [],
      "source": [
        "model = Net()"
      ]
    },
    {
      "cell_type": "code",
      "execution_count": 146,
      "metadata": {
        "id": "3N5gPQA9vPW7"
      },
      "outputs": [],
      "source": [
        "n_epochs = 20\n",
        "criterion_fnn = nn.CrossEntropyLoss()\n",
        "optimizer_fnn = torch.optim.Adam(model.parameters(), lr=5e-5)"
      ]
    },
    {
      "cell_type": "code",
      "execution_count": 147,
      "metadata": {
        "colab": {
          "base_uri": "https://localhost:8080/"
        },
        "id": "-YuAF7b1vt6v",
        "outputId": "216a8ade-3fd3-480d-aa4e-ff29942cb24f"
      },
      "outputs": [
        {
          "name": "stdout",
          "output_type": "stream",
          "text": [
            "Epoch: 1 \tTraining Loss: 397.23\n",
            "Epoch: 2 \tTraining Loss: 322.60\n",
            "Epoch: 3 \tTraining Loss: 284.91\n",
            "Epoch: 4 \tTraining Loss: 233.26\n",
            "Epoch: 5 \tTraining Loss: 191.00\n",
            "Epoch: 6 \tTraining Loss: 152.18\n",
            "Epoch: 7 \tTraining Loss: 114.63\n",
            "Epoch: 8 \tTraining Loss: 75.46\n",
            "Epoch: 9 \tTraining Loss: 42.06\n",
            "Epoch: 10 \tTraining Loss: 17.75\n",
            "Epoch: 11 \tTraining Loss: 9.80\n",
            "Epoch: 12 \tTraining Loss: 9.78\n",
            "Epoch: 13 \tTraining Loss: 9.73\n",
            "Epoch: 14 \tTraining Loss: 9.69\n",
            "Epoch: 15 \tTraining Loss: 9.87\n",
            "Epoch: 16 \tTraining Loss: 9.47\n",
            "Epoch: 17 \tTraining Loss: 8.85\n",
            "Epoch: 18 \tTraining Loss: 9.06\n",
            "Epoch: 19 \tTraining Loss: 8.77\n",
            "Epoch: 20 \tTraining Loss: 8.66\n"
          ]
        }
      ],
      "source": [
        "import numpy as np\n",
        "valid_loss_min = np.Inf \n",
        "\n",
        "for epoch in range(n_epochs):\n",
        "    train_loss = 0.0\n",
        "    model.train() \n",
        "    for data, target in train_loader1:\n",
        "        optimizer_fnn.zero_grad()\n",
        "        output = model(data.float())\n",
        "        # loss = criterion_fnn(output, torch.max(target, 1)[1])\n",
        "        loss = criterion_fnn(output, target.long())\n",
        "        loss.backward()\n",
        "        optimizer_fnn.step()\n",
        "        train_loss += loss.item()*data.size(0)\n",
        "        \n",
        "    model.eval()    \n",
        "    print('Epoch: {} \\tTraining Loss: {:.2f}'.format(epoch+1, train_loss/len(train_loader1.dataset)))"
      ]
    },
    {
      "cell_type": "code",
      "execution_count": 148,
      "metadata": {
        "id": "PdhJgkte1lXV"
      },
      "outputs": [],
      "source": [
        "test_loader1 = torch.utils.data.DataLoader(X_data_test, batch_size=1)"
      ]
    },
    {
      "cell_type": "code",
      "execution_count": 149,
      "metadata": {
        "colab": {
          "base_uri": "https://localhost:8080/"
        },
        "id": "BFbXpZfNztCV",
        "outputId": "a1ec2822-db69-4a25-a1bb-b1f145242804"
      },
      "outputs": [
        {
          "name": "stdout",
          "output_type": "stream",
          "text": [
            "Accuracy is 55.18306131451257\n"
          ]
        }
      ],
      "source": [
        "label_context = []\n",
        "def q4b_fnn_accuracy(loader, model):\n",
        "  # num_correct = 0\n",
        "  # num_samples = 0\n",
        "  total_correct = 0\n",
        "  total_samples = 0\n",
        "  model.eval()\n",
        "  cnt = 0\n",
        "  with torch.no_grad():\n",
        "\n",
        "    # for x, y in loader:\n",
        "    for data, label in loader:\n",
        "      cnt += 1\n",
        "      # print(cnt)\n",
        "      scores = model(data.float())\n",
        "      _, predictions = scores.max(1)\n",
        "      label_context.append(predictions.item() )\n",
        "      pred_arr = (predictions == label)\n",
        "      for i in pred_arr:\n",
        "        total_correct += i\n",
        "    total_samples = len(X_data_test)\n",
        "    print(\"Accuracy is\" , float(total_correct)/float(total_samples) * 100)\n",
        "  model.train()\n",
        "q4b_fnn_accuracy(test_loader1, model)"
      ]
    },
    {
      "cell_type": "code",
      "execution_count": 36,
      "metadata": {
        "id": "Yd1cNaC7Ib4R"
      },
      "outputs": [],
      "source": [
        "# label_context"
      ]
    },
    {
      "cell_type": "code",
      "execution_count": 150,
      "metadata": {
        "colab": {
          "base_uri": "https://localhost:8080/"
        },
        "id": "bTxY7AegHo2q",
        "outputId": "7402253d-52f7-4b75-f1c2-21de6be880ec"
      },
      "outputs": [
        {
          "data": {
            "text/plain": [
              "4534"
            ]
          },
          "execution_count": 150,
          "metadata": {},
          "output_type": "execute_result"
        }
      ],
      "source": [
        "len(label_context)"
      ]
    },
    {
      "cell_type": "code",
      "execution_count": 151,
      "metadata": {
        "id": "IEkEYvKpkUyW"
      },
      "outputs": [],
      "source": [
        "labels_df = pd.DataFrame({'context':label_context})"
      ]
    },
    {
      "cell_type": "code",
      "execution_count": 152,
      "metadata": {
        "colab": {
          "base_uri": "https://localhost:8080/",
          "height": 424
        },
        "id": "5Qg6-iesjq9c",
        "outputId": "ee24e80f-4501-4e04-a318-7819292f289d"
      },
      "outputs": [
        {
          "data": {
            "text/html": [
              "<div>\n",
              "<style scoped>\n",
              "    .dataframe tbody tr th:only-of-type {\n",
              "        vertical-align: middle;\n",
              "    }\n",
              "\n",
              "    .dataframe tbody tr th {\n",
              "        vertical-align: top;\n",
              "    }\n",
              "\n",
              "    .dataframe thead th {\n",
              "        text-align: right;\n",
              "    }\n",
              "</style>\n",
              "<table border=\"1\" class=\"dataframe\">\n",
              "  <thead>\n",
              "    <tr style=\"text-align: right;\">\n",
              "      <th></th>\n",
              "      <th>context</th>\n",
              "    </tr>\n",
              "  </thead>\n",
              "  <tbody>\n",
              "    <tr>\n",
              "      <th>0</th>\n",
              "      <td>0</td>\n",
              "    </tr>\n",
              "    <tr>\n",
              "      <th>1</th>\n",
              "      <td>1</td>\n",
              "    </tr>\n",
              "    <tr>\n",
              "      <th>2</th>\n",
              "      <td>0</td>\n",
              "    </tr>\n",
              "    <tr>\n",
              "      <th>3</th>\n",
              "      <td>0</td>\n",
              "    </tr>\n",
              "    <tr>\n",
              "      <th>4</th>\n",
              "      <td>0</td>\n",
              "    </tr>\n",
              "    <tr>\n",
              "      <th>...</th>\n",
              "      <td>...</td>\n",
              "    </tr>\n",
              "    <tr>\n",
              "      <th>4529</th>\n",
              "      <td>0</td>\n",
              "    </tr>\n",
              "    <tr>\n",
              "      <th>4530</th>\n",
              "      <td>1</td>\n",
              "    </tr>\n",
              "    <tr>\n",
              "      <th>4531</th>\n",
              "      <td>0</td>\n",
              "    </tr>\n",
              "    <tr>\n",
              "      <th>4532</th>\n",
              "      <td>0</td>\n",
              "    </tr>\n",
              "    <tr>\n",
              "      <th>4533</th>\n",
              "      <td>1</td>\n",
              "    </tr>\n",
              "  </tbody>\n",
              "</table>\n",
              "<p>4534 rows × 1 columns</p>\n",
              "</div>"
            ],
            "text/plain": [
              "      context\n",
              "0           0\n",
              "1           1\n",
              "2           0\n",
              "3           0\n",
              "4           0\n",
              "...       ...\n",
              "4529        0\n",
              "4530        1\n",
              "4531        0\n",
              "4532        0\n",
              "4533        1\n",
              "\n",
              "[4534 rows x 1 columns]"
            ]
          },
          "execution_count": 152,
          "metadata": {},
          "output_type": "execute_result"
        }
      ],
      "source": [
        "labels_df"
      ]
    },
    {
      "cell_type": "code",
      "execution_count": 153,
      "metadata": {
        "id": "WnEfZtutJypa"
      },
      "outputs": [],
      "source": [
        "y1_dt_train = y_train['datatype'].values"
      ]
    },
    {
      "cell_type": "code",
      "execution_count": 154,
      "metadata": {
        "id": "zDaA8ediJ4EK"
      },
      "outputs": [],
      "source": [
        "y1_dt_test = y_test['datatype'].values"
      ]
    },
    {
      "cell_type": "code",
      "execution_count": 155,
      "metadata": {
        "id": "pxJLvv1kGj5_"
      },
      "outputs": [],
      "source": [
        "X_data_dt = []\n",
        "for i in range(len(X_train)):\n",
        "  X_data_dt.append([X_train[i], y1_dt_train[i]])"
      ]
    },
    {
      "cell_type": "code",
      "execution_count": 156,
      "metadata": {
        "id": "NdMPWPueGvxu"
      },
      "outputs": [],
      "source": [
        "X_data_test_dt = []\n",
        "for i in range(len(X_test)):\n",
        "  X_data_test_dt.append([X_test[i], y1_dt_test[i]])"
      ]
    },
    {
      "cell_type": "markdown",
      "metadata": {
        "id": "aQaagHUpG8kU"
      },
      "source": []
    },
    {
      "cell_type": "code",
      "execution_count": 157,
      "metadata": {
        "id": "RKt4B1NFZTVS"
      },
      "outputs": [],
      "source": [
        "# batch_size = 32\n",
        "batch_size = 64\n",
        "train_loader_dt = torch.utils.data.DataLoader(X_data_dt, batch_size=batch_size)"
      ]
    },
    {
      "cell_type": "code",
      "execution_count": 158,
      "metadata": {
        "id": "3utAMI2ogR0z"
      },
      "outputs": [],
      "source": [
        "import torch.nn as nn\n",
        "import torch.nn.functional as F\n",
        "\n",
        "class Net_dt(nn.Module):\n",
        "    def __init__(self):\n",
        "        super(Net_dt, self).__init__()\n",
        "        self.fc1 = nn.Linear(275, 768)\n",
        "        self.dropout = nn.Dropout(0.4)\n",
        "        self.fc2 = nn.Linear(768, 3)\n",
        "        # self.fc2 = nn.Linear(768, 24)\n",
        "\n",
        "\n",
        "    def forward(self, x):\n",
        "        x = self.fc1(x)\n",
        "        x = self.dropout(x)\n",
        "        x = self.fc2(x)\n",
        "        output = F.log_softmax(x, dim=1)\n",
        "        return output"
      ]
    },
    {
      "cell_type": "code",
      "execution_count": 163,
      "metadata": {
        "id": "tU8OatBmZYtn"
      },
      "outputs": [],
      "source": [
        "model1 = Net_dt()\n",
        "n_epochs = 20\n",
        "criterion_fnn_dt = nn.CrossEntropyLoss()\n",
        "optimizer_fnn_dt = torch.optim.Adam(model1.parameters(), lr=3e-5)\n",
        "# optimizer_fnn_dt = torch.optim.Adam(model1.parameters(), lr=0.001)"
      ]
    },
    {
      "cell_type": "code",
      "execution_count": 164,
      "metadata": {
        "colab": {
          "base_uri": "https://localhost:8080/"
        },
        "id": "ne2XjgxcZfbS",
        "outputId": "a5b716e1-dd3e-488c-cb85-5c4245d4ddfb"
      },
      "outputs": [
        {
          "name": "stdout",
          "output_type": "stream",
          "text": [
            "Epoch: 1 \tTraining Loss: 807.10\n",
            "Epoch: 2 \tTraining Loss: 675.31\n",
            "Epoch: 3 \tTraining Loss: 641.81\n",
            "Epoch: 4 \tTraining Loss: 605.03\n",
            "Epoch: 5 \tTraining Loss: 569.46\n",
            "Epoch: 6 \tTraining Loss: 535.68\n",
            "Epoch: 7 \tTraining Loss: 501.60\n",
            "Epoch: 8 \tTraining Loss: 473.39\n",
            "Epoch: 9 \tTraining Loss: 441.46\n",
            "Epoch: 10 \tTraining Loss: 407.85\n",
            "Epoch: 11 \tTraining Loss: 374.21\n",
            "Epoch: 12 \tTraining Loss: 345.53\n",
            "Epoch: 13 \tTraining Loss: 314.14\n",
            "Epoch: 14 \tTraining Loss: 286.22\n",
            "Epoch: 15 \tTraining Loss: 262.69\n",
            "Epoch: 16 \tTraining Loss: 228.65\n",
            "Epoch: 17 \tTraining Loss: 205.79\n",
            "Epoch: 18 \tTraining Loss: 181.75\n",
            "Epoch: 19 \tTraining Loss: 152.62\n",
            "Epoch: 20 \tTraining Loss: 124.84\n"
          ]
        }
      ],
      "source": [
        "import numpy as np\n",
        "valid_loss_min = np.Inf \n",
        "\n",
        "for epoch in range(n_epochs):\n",
        "    train_loss = 0.0\n",
        "    model1.train() \n",
        "    for data, target in train_loader_dt:\n",
        "        optimizer_fnn_dt.zero_grad()\n",
        "        output = model1(data.float())\n",
        "        loss_dt = criterion_fnn_dt(output, target.long())\n",
        "        loss_dt.backward()\n",
        "        optimizer_fnn_dt.step()\n",
        "        train_loss += loss_dt.item()*data.size(0)\n",
        "        \n",
        "    model1.eval()    \n",
        "    print('Epoch: {} \\tTraining Loss: {:.2f}'.format(epoch+1, train_loss/len(train_loader_dt.dataset)))"
      ]
    },
    {
      "cell_type": "code",
      "execution_count": 165,
      "metadata": {
        "id": "QoUscRKcZ5jx"
      },
      "outputs": [],
      "source": [
        "test_loader_dt = torch.utils.data.DataLoader(X_data_test_dt, batch_size=1)"
      ]
    },
    {
      "cell_type": "code",
      "execution_count": 166,
      "metadata": {
        "colab": {
          "base_uri": "https://localhost:8080/"
        },
        "id": "GFegy17GZ_yX",
        "outputId": "d725ca54-edc6-4620-ffdc-3b7377065a90"
      },
      "outputs": [
        {
          "name": "stdout",
          "output_type": "stream",
          "text": [
            "Accuracy is 42.69960299955889\n"
          ]
        }
      ],
      "source": [
        "label_datatype = []\n",
        "def q4b_fnn_accuracy(loader, model):\n",
        "  total_correct = 0\n",
        "  total_samples = 0\n",
        "  model1.eval()\n",
        "  cnt = 0\n",
        "  with torch.no_grad():\n",
        "\n",
        "    # for x, y in loader:\n",
        "    for data, label in loader:\n",
        "      cnt += 1\n",
        "      scores = model(data.float())\n",
        "      _, predictions = scores.max(1)\n",
        "      label_datatype.append(predictions.item())\n",
        "      pred_arr = (predictions == label)\n",
        "      for i in pred_arr:\n",
        "        total_correct += i\n",
        "    total_samples = len(X_data_test_dt)\n",
        "    print(\"Accuracy is\" , float(total_correct)/float(total_samples) * 100)\n",
        "  model.train()\n",
        "q4b_fnn_accuracy(test_loader_dt, model1)"
      ]
    },
    {
      "cell_type": "code",
      "execution_count": 167,
      "metadata": {
        "id": "S8o-TWxzk8F8"
      },
      "outputs": [],
      "source": [
        "labels_df['datatype'] = label_datatype"
      ]
    },
    {
      "cell_type": "code",
      "execution_count": 168,
      "metadata": {
        "id": "j4twbrqoKB-n"
      },
      "outputs": [],
      "source": [
        "y_at_train = y_train['attitude'].values"
      ]
    },
    {
      "cell_type": "code",
      "execution_count": 169,
      "metadata": {
        "id": "ZdPM4T2rKHen"
      },
      "outputs": [],
      "source": [
        "y_at_test = y_test['attitude'].values"
      ]
    },
    {
      "cell_type": "code",
      "execution_count": 170,
      "metadata": {
        "id": "YBjuaKjkG7UQ"
      },
      "outputs": [],
      "source": [
        "X_data_at = []\n",
        "for i in range(len(X_train)):\n",
        "  X_data_at.append([X_train[i], y_at_train[i]])"
      ]
    },
    {
      "cell_type": "code",
      "execution_count": 171,
      "metadata": {
        "id": "QB59MdMFG-jU"
      },
      "outputs": [],
      "source": [
        "X_data_test_at = []\n",
        "for i in range(len(X_test)):\n",
        "  X_data_test_at.append([X_test[i], y_at_test[i]])"
      ]
    },
    {
      "cell_type": "code",
      "execution_count": 172,
      "metadata": {
        "id": "BI4FUxtlhDtB"
      },
      "outputs": [],
      "source": [
        "# batch_size = 32\n",
        "batch_size = 128\n",
        "train_loader_at = torch.utils.data.DataLoader(X_data_at, batch_size=batch_size)"
      ]
    },
    {
      "cell_type": "code",
      "execution_count": 173,
      "metadata": {
        "id": "UNM2mjxChFxY"
      },
      "outputs": [],
      "source": [
        "import torch.nn as nn\n",
        "import torch.nn.functional as F\n",
        "\n",
        "class Net_at(nn.Module):\n",
        "    def __init__(self):\n",
        "        super(Net_at, self).__init__()\n",
        "        self.fc1 = nn.Linear(275, 768)\n",
        "        # self.dropout = nn.Dropout(0.3)\n",
        "        self.dropout = nn.Dropout(0.5)\n",
        "        self.fc2 = nn.Linear(768, 4)\n",
        "\n",
        "    def forward(self, x):\n",
        "        x = self.fc1(x)\n",
        "        x = self.dropout(x)\n",
        "        x = self.fc2(x)\n",
        "        output = F.log_softmax(x, dim=1)\n",
        "        return output"
      ]
    },
    {
      "cell_type": "code",
      "execution_count": 184,
      "metadata": {
        "id": "S6LULI5bhIqj"
      },
      "outputs": [],
      "source": [
        "model2 = Net_at()\n",
        "# n_epochs = 20\n",
        "n_epochs = 40\n",
        "criterion_fnn_at = nn.CrossEntropyLoss()\n",
        "optimizer_fnn_at = torch.optim.Adam(model2.parameters(), lr=1e-5)\n",
        "# optimizer_fnn_at = torch.optim.Adam(model2.parameters(), lr=5e-5)"
      ]
    },
    {
      "cell_type": "code",
      "execution_count": 185,
      "metadata": {
        "colab": {
          "base_uri": "https://localhost:8080/"
        },
        "id": "Fk-XlgizhO6J",
        "outputId": "076b8875-114a-40b3-94e0-b2c2567aa327"
      },
      "outputs": [
        {
          "name": "stdout",
          "output_type": "stream",
          "text": [
            "Epoch: 1 \tTraining Loss: 1520.49\n",
            "Epoch: 2 \tTraining Loss: 1161.16\n",
            "Epoch: 3 \tTraining Loss: 1043.90\n",
            "Epoch: 4 \tTraining Loss: 959.47\n",
            "Epoch: 5 \tTraining Loss: 931.66\n",
            "Epoch: 6 \tTraining Loss: 910.16\n",
            "Epoch: 7 \tTraining Loss: 875.24\n",
            "Epoch: 8 \tTraining Loss: 860.41\n",
            "Epoch: 9 \tTraining Loss: 844.18\n",
            "Epoch: 10 \tTraining Loss: 836.64\n",
            "Epoch: 11 \tTraining Loss: 814.35\n",
            "Epoch: 12 \tTraining Loss: 810.35\n",
            "Epoch: 13 \tTraining Loss: 804.82\n",
            "Epoch: 14 \tTraining Loss: 781.84\n",
            "Epoch: 15 \tTraining Loss: 769.78\n",
            "Epoch: 16 \tTraining Loss: 757.93\n",
            "Epoch: 17 \tTraining Loss: 737.06\n",
            "Epoch: 18 \tTraining Loss: 723.16\n",
            "Epoch: 19 \tTraining Loss: 715.36\n",
            "Epoch: 20 \tTraining Loss: 700.53\n",
            "Epoch: 21 \tTraining Loss: 690.42\n",
            "Epoch: 22 \tTraining Loss: 678.59\n",
            "Epoch: 23 \tTraining Loss: 676.47\n",
            "Epoch: 24 \tTraining Loss: 667.46\n",
            "Epoch: 25 \tTraining Loss: 653.31\n",
            "Epoch: 26 \tTraining Loss: 642.80\n",
            "Epoch: 27 \tTraining Loss: 629.17\n",
            "Epoch: 28 \tTraining Loss: 622.63\n",
            "Epoch: 29 \tTraining Loss: 606.60\n",
            "Epoch: 30 \tTraining Loss: 604.18\n",
            "Epoch: 31 \tTraining Loss: 590.84\n",
            "Epoch: 32 \tTraining Loss: 573.79\n",
            "Epoch: 33 \tTraining Loss: 562.29\n",
            "Epoch: 34 \tTraining Loss: 558.09\n",
            "Epoch: 35 \tTraining Loss: 539.77\n",
            "Epoch: 36 \tTraining Loss: 539.71\n",
            "Epoch: 37 \tTraining Loss: 516.68\n",
            "Epoch: 38 \tTraining Loss: 513.03\n",
            "Epoch: 39 \tTraining Loss: 506.44\n",
            "Epoch: 40 \tTraining Loss: 498.65\n"
          ]
        }
      ],
      "source": [
        "import numpy as np\n",
        "valid_loss_min = np.Inf \n",
        "\n",
        "for epoch in range(n_epochs):\n",
        "    train_loss = 0.0\n",
        "    model2.train() \n",
        "    for data, target in train_loader_at:\n",
        "        optimizer_fnn_at.zero_grad()\n",
        "        output = model2(data.float())\n",
        "        loss_at = criterion_fnn_at(output, target.long())\n",
        "        loss_at.backward()\n",
        "        optimizer_fnn_at.step()\n",
        "        train_loss += loss_at.item()*data.size(0)\n",
        "        \n",
        "    model2.eval()    \n",
        "    print('Epoch: {} \\tTraining Loss: {:.2f}'.format(epoch+1, train_loss/len(train_loader_at.dataset)))"
      ]
    },
    {
      "cell_type": "code",
      "execution_count": 181,
      "metadata": {
        "id": "FPawOSeUhRkm"
      },
      "outputs": [],
      "source": [
        "test_loader_at = torch.utils.data.DataLoader(X_data_test_at, batch_size=1)"
      ]
    },
    {
      "cell_type": "code",
      "execution_count": 183,
      "metadata": {
        "colab": {
          "base_uri": "https://localhost:8080/"
        },
        "id": "SfxmQOyuhWcG",
        "outputId": "006595fc-67ce-455a-fe78-b15c51c46692"
      },
      "outputs": [
        {
          "name": "stdout",
          "output_type": "stream",
          "text": [
            "Accuracy is 35.04631671812969\n"
          ]
        }
      ],
      "source": [
        "label_attitude = []\n",
        "def q4b_fnn_accuracy(loader, model):\n",
        "  total_correct = 0\n",
        "  total_samples = 0\n",
        "  model1.eval()\n",
        "  cnt = 0\n",
        "  with torch.no_grad():\n",
        "\n",
        "    # for x, y in loader:\n",
        "    for data, label in loader:\n",
        "      cnt += 1\n",
        "      scores = model(data.float())\n",
        "      _, predictions = scores.max(1)\n",
        "      label_attitude.append(predictions.item())\n",
        "      pred_arr = (predictions == label)\n",
        "      for i in pred_arr:\n",
        "        total_correct += i\n",
        "    total_samples = len(X_data_test_at)\n",
        "    print(\"Accuracy is\" , float(total_correct)/float(total_samples) * 100)\n",
        "  model.train()\n",
        "q4b_fnn_accuracy(test_loader_at, model2)"
      ]
    },
    {
      "cell_type": "code",
      "execution_count": 83,
      "metadata": {
        "id": "_3-L7pWdlWYi"
      },
      "outputs": [],
      "source": [
        "labels_df['attitude'] = label_attitude"
      ]
    },
    {
      "cell_type": "code",
      "execution_count": 84,
      "metadata": {
        "colab": {
          "base_uri": "https://localhost:8080/",
          "height": 424
        },
        "id": "iIxBxj_-lbTE",
        "outputId": "506b8c49-1841-445b-ad09-b87dc093ac32"
      },
      "outputs": [
        {
          "data": {
            "text/html": [
              "<div>\n",
              "<style scoped>\n",
              "    .dataframe tbody tr th:only-of-type {\n",
              "        vertical-align: middle;\n",
              "    }\n",
              "\n",
              "    .dataframe tbody tr th {\n",
              "        vertical-align: top;\n",
              "    }\n",
              "\n",
              "    .dataframe thead th {\n",
              "        text-align: right;\n",
              "    }\n",
              "</style>\n",
              "<table border=\"1\" class=\"dataframe\">\n",
              "  <thead>\n",
              "    <tr style=\"text-align: right;\">\n",
              "      <th></th>\n",
              "      <th>context</th>\n",
              "      <th>datatype</th>\n",
              "      <th>attitude</th>\n",
              "    </tr>\n",
              "  </thead>\n",
              "  <tbody>\n",
              "    <tr>\n",
              "      <th>0</th>\n",
              "      <td>1</td>\n",
              "      <td>0</td>\n",
              "      <td>0</td>\n",
              "    </tr>\n",
              "    <tr>\n",
              "      <th>1</th>\n",
              "      <td>0</td>\n",
              "      <td>0</td>\n",
              "      <td>0</td>\n",
              "    </tr>\n",
              "    <tr>\n",
              "      <th>2</th>\n",
              "      <td>0</td>\n",
              "      <td>0</td>\n",
              "      <td>2</td>\n",
              "    </tr>\n",
              "    <tr>\n",
              "      <th>3</th>\n",
              "      <td>0</td>\n",
              "      <td>0</td>\n",
              "      <td>0</td>\n",
              "    </tr>\n",
              "    <tr>\n",
              "      <th>4</th>\n",
              "      <td>1</td>\n",
              "      <td>0</td>\n",
              "      <td>0</td>\n",
              "    </tr>\n",
              "    <tr>\n",
              "      <th>...</th>\n",
              "      <td>...</td>\n",
              "      <td>...</td>\n",
              "      <td>...</td>\n",
              "    </tr>\n",
              "    <tr>\n",
              "      <th>4529</th>\n",
              "      <td>0</td>\n",
              "      <td>0</td>\n",
              "      <td>0</td>\n",
              "    </tr>\n",
              "    <tr>\n",
              "      <th>4530</th>\n",
              "      <td>1</td>\n",
              "      <td>0</td>\n",
              "      <td>0</td>\n",
              "    </tr>\n",
              "    <tr>\n",
              "      <th>4531</th>\n",
              "      <td>0</td>\n",
              "      <td>1</td>\n",
              "      <td>0</td>\n",
              "    </tr>\n",
              "    <tr>\n",
              "      <th>4532</th>\n",
              "      <td>0</td>\n",
              "      <td>0</td>\n",
              "      <td>0</td>\n",
              "    </tr>\n",
              "    <tr>\n",
              "      <th>4533</th>\n",
              "      <td>0</td>\n",
              "      <td>0</td>\n",
              "      <td>0</td>\n",
              "    </tr>\n",
              "  </tbody>\n",
              "</table>\n",
              "<p>4534 rows × 3 columns</p>\n",
              "</div>"
            ],
            "text/plain": [
              "      context  datatype  attitude\n",
              "0           1         0         0\n",
              "1           0         0         0\n",
              "2           0         0         2\n",
              "3           0         0         0\n",
              "4           1         0         0\n",
              "...       ...       ...       ...\n",
              "4529        0         0         0\n",
              "4530        1         0         0\n",
              "4531        0         1         0\n",
              "4532        0         0         0\n",
              "4533        0         0         0\n",
              "\n",
              "[4534 rows x 3 columns]"
            ]
          },
          "execution_count": 84,
          "metadata": {},
          "output_type": "execute_result"
        }
      ],
      "source": [
        "labels_df"
      ]
    },
    {
      "cell_type": "code",
      "execution_count": 75,
      "metadata": {
        "colab": {
          "base_uri": "https://localhost:8080/",
          "height": 424
        },
        "id": "IKAi7GjsLZ6B",
        "outputId": "6204c320-69e0-4795-8903-f6fa9dd70230"
      },
      "outputs": [
        {
          "data": {
            "text/html": [
              "\n",
              "  <div id=\"df-b3a3e1ea-aa1f-484e-aa3e-bd243aa32305\">\n",
              "    <div class=\"colab-df-container\">\n",
              "      <div>\n",
              "<style scoped>\n",
              "    .dataframe tbody tr th:only-of-type {\n",
              "        vertical-align: middle;\n",
              "    }\n",
              "\n",
              "    .dataframe tbody tr th {\n",
              "        vertical-align: top;\n",
              "    }\n",
              "\n",
              "    .dataframe thead th {\n",
              "        text-align: right;\n",
              "    }\n",
              "</style>\n",
              "<table border=\"1\" class=\"dataframe\">\n",
              "  <thead>\n",
              "    <tr style=\"text-align: right;\">\n",
              "      <th></th>\n",
              "      <th>context</th>\n",
              "      <th>datatype</th>\n",
              "      <th>attitude</th>\n",
              "    </tr>\n",
              "  </thead>\n",
              "  <tbody>\n",
              "    <tr>\n",
              "      <th>0</th>\n",
              "      <td>0</td>\n",
              "      <td>0</td>\n",
              "      <td>2</td>\n",
              "    </tr>\n",
              "    <tr>\n",
              "      <th>1</th>\n",
              "      <td>0</td>\n",
              "      <td>0</td>\n",
              "      <td>0</td>\n",
              "    </tr>\n",
              "    <tr>\n",
              "      <th>2</th>\n",
              "      <td>0</td>\n",
              "      <td>1</td>\n",
              "      <td>0</td>\n",
              "    </tr>\n",
              "    <tr>\n",
              "      <th>3</th>\n",
              "      <td>1</td>\n",
              "      <td>0</td>\n",
              "      <td>0</td>\n",
              "    </tr>\n",
              "    <tr>\n",
              "      <th>4</th>\n",
              "      <td>1</td>\n",
              "      <td>0</td>\n",
              "      <td>0</td>\n",
              "    </tr>\n",
              "    <tr>\n",
              "      <th>...</th>\n",
              "      <td>...</td>\n",
              "      <td>...</td>\n",
              "      <td>...</td>\n",
              "    </tr>\n",
              "    <tr>\n",
              "      <th>4529</th>\n",
              "      <td>0</td>\n",
              "      <td>0</td>\n",
              "      <td>0</td>\n",
              "    </tr>\n",
              "    <tr>\n",
              "      <th>4530</th>\n",
              "      <td>0</td>\n",
              "      <td>0</td>\n",
              "      <td>0</td>\n",
              "    </tr>\n",
              "    <tr>\n",
              "      <th>4531</th>\n",
              "      <td>1</td>\n",
              "      <td>1</td>\n",
              "      <td>0</td>\n",
              "    </tr>\n",
              "    <tr>\n",
              "      <th>4532</th>\n",
              "      <td>0</td>\n",
              "      <td>1</td>\n",
              "      <td>0</td>\n",
              "    </tr>\n",
              "    <tr>\n",
              "      <th>4533</th>\n",
              "      <td>0</td>\n",
              "      <td>2</td>\n",
              "      <td>0</td>\n",
              "    </tr>\n",
              "  </tbody>\n",
              "</table>\n",
              "<p>4534 rows × 3 columns</p>\n",
              "</div>\n",
              "      <button class=\"colab-df-convert\" onclick=\"convertToInteractive('df-b3a3e1ea-aa1f-484e-aa3e-bd243aa32305')\"\n",
              "              title=\"Convert this dataframe to an interactive table.\"\n",
              "              style=\"display:none;\">\n",
              "        \n",
              "  <svg xmlns=\"http://www.w3.org/2000/svg\" height=\"24px\"viewBox=\"0 0 24 24\"\n",
              "       width=\"24px\">\n",
              "    <path d=\"M0 0h24v24H0V0z\" fill=\"none\"/>\n",
              "    <path d=\"M18.56 5.44l.94 2.06.94-2.06 2.06-.94-2.06-.94-.94-2.06-.94 2.06-2.06.94zm-11 1L8.5 8.5l.94-2.06 2.06-.94-2.06-.94L8.5 2.5l-.94 2.06-2.06.94zm10 10l.94 2.06.94-2.06 2.06-.94-2.06-.94-.94-2.06-.94 2.06-2.06.94z\"/><path d=\"M17.41 7.96l-1.37-1.37c-.4-.4-.92-.59-1.43-.59-.52 0-1.04.2-1.43.59L10.3 9.45l-7.72 7.72c-.78.78-.78 2.05 0 2.83L4 21.41c.39.39.9.59 1.41.59.51 0 1.02-.2 1.41-.59l7.78-7.78 2.81-2.81c.8-.78.8-2.07 0-2.86zM5.41 20L4 18.59l7.72-7.72 1.47 1.35L5.41 20z\"/>\n",
              "  </svg>\n",
              "      </button>\n",
              "      \n",
              "  <style>\n",
              "    .colab-df-container {\n",
              "      display:flex;\n",
              "      flex-wrap:wrap;\n",
              "      gap: 12px;\n",
              "    }\n",
              "\n",
              "    .colab-df-convert {\n",
              "      background-color: #E8F0FE;\n",
              "      border: none;\n",
              "      border-radius: 50%;\n",
              "      cursor: pointer;\n",
              "      display: none;\n",
              "      fill: #1967D2;\n",
              "      height: 32px;\n",
              "      padding: 0 0 0 0;\n",
              "      width: 32px;\n",
              "    }\n",
              "\n",
              "    .colab-df-convert:hover {\n",
              "      background-color: #E2EBFA;\n",
              "      box-shadow: 0px 1px 2px rgba(60, 64, 67, 0.3), 0px 1px 3px 1px rgba(60, 64, 67, 0.15);\n",
              "      fill: #174EA6;\n",
              "    }\n",
              "\n",
              "    [theme=dark] .colab-df-convert {\n",
              "      background-color: #3B4455;\n",
              "      fill: #D2E3FC;\n",
              "    }\n",
              "\n",
              "    [theme=dark] .colab-df-convert:hover {\n",
              "      background-color: #434B5C;\n",
              "      box-shadow: 0px 1px 3px 1px rgba(0, 0, 0, 0.15);\n",
              "      filter: drop-shadow(0px 1px 2px rgba(0, 0, 0, 0.3));\n",
              "      fill: #FFFFFF;\n",
              "    }\n",
              "  </style>\n",
              "\n",
              "      <script>\n",
              "        const buttonEl =\n",
              "          document.querySelector('#df-b3a3e1ea-aa1f-484e-aa3e-bd243aa32305 button.colab-df-convert');\n",
              "        buttonEl.style.display =\n",
              "          google.colab.kernel.accessAllowed ? 'block' : 'none';\n",
              "\n",
              "        async function convertToInteractive(key) {\n",
              "          const element = document.querySelector('#df-b3a3e1ea-aa1f-484e-aa3e-bd243aa32305');\n",
              "          const dataTable =\n",
              "            await google.colab.kernel.invokeFunction('convertToInteractive',\n",
              "                                                     [key], {});\n",
              "          if (!dataTable) return;\n",
              "\n",
              "          const docLinkHtml = 'Like what you see? Visit the ' +\n",
              "            '<a target=\"_blank\" href=https://colab.research.google.com/notebooks/data_table.ipynb>data table notebook</a>'\n",
              "            + ' to learn more about interactive tables.';\n",
              "          element.innerHTML = '';\n",
              "          dataTable['output_type'] = 'display_data';\n",
              "          await google.colab.output.renderOutput(dataTable, element);\n",
              "          const docLink = document.createElement('div');\n",
              "          docLink.innerHTML = docLinkHtml;\n",
              "          element.appendChild(docLink);\n",
              "        }\n",
              "      </script>\n",
              "    </div>\n",
              "  </div>\n",
              "  "
            ],
            "text/plain": [
              "      context  datatype  attitude\n",
              "0           0         0         2\n",
              "1           0         0         0\n",
              "2           0         1         0\n",
              "3           1         0         0\n",
              "4           1         0         0\n",
              "...       ...       ...       ...\n",
              "4529        0         0         0\n",
              "4530        0         0         0\n",
              "4531        1         1         0\n",
              "4532        0         1         0\n",
              "4533        0         2         0\n",
              "\n",
              "[4534 rows x 3 columns]"
            ]
          },
          "execution_count": 75,
          "metadata": {},
          "output_type": "execute_result"
        }
      ],
      "source": [
        "labels_df"
      ]
    },
    {
      "cell_type": "code",
      "execution_count": 85,
      "metadata": {
        "colab": {
          "base_uri": "https://localhost:8080/",
          "height": 424
        },
        "id": "FICfaj2XW4fn",
        "outputId": "30feeefb-a531-40a3-a99c-d96cfedec7ab"
      },
      "outputs": [
        {
          "data": {
            "text/html": [
              "<div>\n",
              "<style scoped>\n",
              "    .dataframe tbody tr th:only-of-type {\n",
              "        vertical-align: middle;\n",
              "    }\n",
              "\n",
              "    .dataframe tbody tr th {\n",
              "        vertical-align: top;\n",
              "    }\n",
              "\n",
              "    .dataframe thead th {\n",
              "        text-align: right;\n",
              "    }\n",
              "</style>\n",
              "<table border=\"1\" class=\"dataframe\">\n",
              "  <thead>\n",
              "    <tr style=\"text-align: right;\">\n",
              "      <th></th>\n",
              "      <th>context</th>\n",
              "      <th>datatype</th>\n",
              "      <th>attitude</th>\n",
              "    </tr>\n",
              "  </thead>\n",
              "  <tbody>\n",
              "    <tr>\n",
              "      <th>21921</th>\n",
              "      <td>1</td>\n",
              "      <td>1</td>\n",
              "      <td>2</td>\n",
              "    </tr>\n",
              "    <tr>\n",
              "      <th>14019</th>\n",
              "      <td>0</td>\n",
              "      <td>1</td>\n",
              "      <td>3</td>\n",
              "    </tr>\n",
              "    <tr>\n",
              "      <th>516</th>\n",
              "      <td>0</td>\n",
              "      <td>0</td>\n",
              "      <td>0</td>\n",
              "    </tr>\n",
              "    <tr>\n",
              "      <th>16772</th>\n",
              "      <td>0</td>\n",
              "      <td>0</td>\n",
              "      <td>0</td>\n",
              "    </tr>\n",
              "    <tr>\n",
              "      <th>217</th>\n",
              "      <td>1</td>\n",
              "      <td>0</td>\n",
              "      <td>0</td>\n",
              "    </tr>\n",
              "    <tr>\n",
              "      <th>...</th>\n",
              "      <td>...</td>\n",
              "      <td>...</td>\n",
              "      <td>...</td>\n",
              "    </tr>\n",
              "    <tr>\n",
              "      <th>14717</th>\n",
              "      <td>0</td>\n",
              "      <td>0</td>\n",
              "      <td>0</td>\n",
              "    </tr>\n",
              "    <tr>\n",
              "      <th>15678</th>\n",
              "      <td>0</td>\n",
              "      <td>2</td>\n",
              "      <td>3</td>\n",
              "    </tr>\n",
              "    <tr>\n",
              "      <th>18552</th>\n",
              "      <td>1</td>\n",
              "      <td>2</td>\n",
              "      <td>2</td>\n",
              "    </tr>\n",
              "    <tr>\n",
              "      <th>6653</th>\n",
              "      <td>0</td>\n",
              "      <td>0</td>\n",
              "      <td>0</td>\n",
              "    </tr>\n",
              "    <tr>\n",
              "      <th>6936</th>\n",
              "      <td>0</td>\n",
              "      <td>2</td>\n",
              "      <td>3</td>\n",
              "    </tr>\n",
              "  </tbody>\n",
              "</table>\n",
              "<p>4534 rows × 3 columns</p>\n",
              "</div>"
            ],
            "text/plain": [
              "       context  datatype  attitude\n",
              "21921        1         1         2\n",
              "14019        0         1         3\n",
              "516          0         0         0\n",
              "16772        0         0         0\n",
              "217          1         0         0\n",
              "...        ...       ...       ...\n",
              "14717        0         0         0\n",
              "15678        0         2         3\n",
              "18552        1         2         2\n",
              "6653         0         0         0\n",
              "6936         0         2         3\n",
              "\n",
              "[4534 rows x 3 columns]"
            ]
          },
          "execution_count": 85,
          "metadata": {},
          "output_type": "execute_result"
        }
      ],
      "source": [
        "y_test"
      ]
    },
    {
      "cell_type": "code",
      "execution_count": 86,
      "metadata": {
        "id": "alRCsiFmXlyO"
      },
      "outputs": [],
      "source": [
        "def get_encoded_labels(label):\n",
        "    dict_map = {'000': 0, '001':1, '002':2, '003':3, '010':4, '011':5, '012':6, '013':7, '020':8, '021':9, '022':10,'023':11,\n",
        "            '100': 12, '101':13, '102':14, '103':15, '110':16, '111':17, '112':18, '113':19, '120':20, '121':21, '122':22,'123':23}\n",
        "    return dict_map[label]"
      ]
    },
    {
      "cell_type": "code",
      "execution_count": 87,
      "metadata": {
        "id": "wZckCQu1Xj2R"
      },
      "outputs": [],
      "source": [
        "def combine_labels(data):\n",
        "    comb_labels = data['context'].astype(str) + data['datatype'].astype(str) + data['attitude'].astype(str)\n",
        "    return comb_labels"
      ]
    },
    {
      "cell_type": "code",
      "execution_count": 88,
      "metadata": {
        "id": "VMrMnOEUW6ZG"
      },
      "outputs": [],
      "source": [
        "y_test2 = pd.DataFrame()\n",
        "y_test2['output'] = [get_encoded_labels(X) for X in combine_labels(y_test)]\n"
      ]
    },
    {
      "cell_type": "code",
      "execution_count": 89,
      "metadata": {
        "id": "05KVgSfJZ4Tr"
      },
      "outputs": [],
      "source": [
        "y_test2['predicted_output'] = [get_encoded_labels(X) for X in combine_labels(labels_df)]"
      ]
    },
    {
      "cell_type": "code",
      "execution_count": 90,
      "metadata": {
        "colab": {
          "base_uri": "https://localhost:8080/",
          "height": 424
        },
        "id": "bVR01VfOaAU4",
        "outputId": "a517de52-31c0-49ed-98a8-34e9a09f8451"
      },
      "outputs": [
        {
          "data": {
            "text/html": [
              "<div>\n",
              "<style scoped>\n",
              "    .dataframe tbody tr th:only-of-type {\n",
              "        vertical-align: middle;\n",
              "    }\n",
              "\n",
              "    .dataframe tbody tr th {\n",
              "        vertical-align: top;\n",
              "    }\n",
              "\n",
              "    .dataframe thead th {\n",
              "        text-align: right;\n",
              "    }\n",
              "</style>\n",
              "<table border=\"1\" class=\"dataframe\">\n",
              "  <thead>\n",
              "    <tr style=\"text-align: right;\">\n",
              "      <th></th>\n",
              "      <th>output</th>\n",
              "      <th>predicted_output</th>\n",
              "    </tr>\n",
              "  </thead>\n",
              "  <tbody>\n",
              "    <tr>\n",
              "      <th>0</th>\n",
              "      <td>18</td>\n",
              "      <td>12</td>\n",
              "    </tr>\n",
              "    <tr>\n",
              "      <th>1</th>\n",
              "      <td>7</td>\n",
              "      <td>0</td>\n",
              "    </tr>\n",
              "    <tr>\n",
              "      <th>2</th>\n",
              "      <td>0</td>\n",
              "      <td>2</td>\n",
              "    </tr>\n",
              "    <tr>\n",
              "      <th>3</th>\n",
              "      <td>0</td>\n",
              "      <td>0</td>\n",
              "    </tr>\n",
              "    <tr>\n",
              "      <th>4</th>\n",
              "      <td>12</td>\n",
              "      <td>12</td>\n",
              "    </tr>\n",
              "    <tr>\n",
              "      <th>...</th>\n",
              "      <td>...</td>\n",
              "      <td>...</td>\n",
              "    </tr>\n",
              "    <tr>\n",
              "      <th>4529</th>\n",
              "      <td>0</td>\n",
              "      <td>0</td>\n",
              "    </tr>\n",
              "    <tr>\n",
              "      <th>4530</th>\n",
              "      <td>11</td>\n",
              "      <td>12</td>\n",
              "    </tr>\n",
              "    <tr>\n",
              "      <th>4531</th>\n",
              "      <td>22</td>\n",
              "      <td>4</td>\n",
              "    </tr>\n",
              "    <tr>\n",
              "      <th>4532</th>\n",
              "      <td>0</td>\n",
              "      <td>0</td>\n",
              "    </tr>\n",
              "    <tr>\n",
              "      <th>4533</th>\n",
              "      <td>11</td>\n",
              "      <td>0</td>\n",
              "    </tr>\n",
              "  </tbody>\n",
              "</table>\n",
              "<p>4534 rows × 2 columns</p>\n",
              "</div>"
            ],
            "text/plain": [
              "      output  predicted_output\n",
              "0         18                12\n",
              "1          7                 0\n",
              "2          0                 2\n",
              "3          0                 0\n",
              "4         12                12\n",
              "...      ...               ...\n",
              "4529       0                 0\n",
              "4530      11                12\n",
              "4531      22                 4\n",
              "4532       0                 0\n",
              "4533      11                 0\n",
              "\n",
              "[4534 rows x 2 columns]"
            ]
          },
          "execution_count": 90,
          "metadata": {},
          "output_type": "execute_result"
        }
      ],
      "source": [
        "y_test2"
      ]
    },
    {
      "cell_type": "code",
      "execution_count": 91,
      "metadata": {
        "id": "iEcVbAeLaBKY"
      },
      "outputs": [],
      "source": [
        "count = 0\n",
        "for i in range(len(y_test2)):\n",
        "  if y_test2['output'][i] == y_test2['predicted_output'][i]:\n",
        "    count+=1"
      ]
    },
    {
      "cell_type": "code",
      "execution_count": 92,
      "metadata": {
        "colab": {
          "base_uri": "https://localhost:8080/"
        },
        "id": "xizHO8VvamGi",
        "outputId": "f6aa80c8-7034-4194-d4f6-f7752d9634b8"
      },
      "outputs": [
        {
          "data": {
            "text/plain": [
              "0.19938244375827086"
            ]
          },
          "execution_count": 92,
          "metadata": {},
          "output_type": "execute_result"
        }
      ],
      "source": [
        "count/4534"
      ]
    },
    {
      "cell_type": "code",
      "execution_count": null,
      "metadata": {
        "id": "Moro_raEa2zb"
      },
      "outputs": [],
      "source": []
    }
  ],
  "metadata": {
    "accelerator": "GPU",
    "colab": {
      "provenance": []
    },
    "gpuClass": "standard",
    "kernelspec": {
      "display_name": "Python 3.9.12 ('base')",
      "language": "python",
      "name": "python3"
    },
    "language_info": {
      "codemirror_mode": {
        "name": "ipython",
        "version": 3
      },
      "file_extension": ".py",
      "mimetype": "text/x-python",
      "name": "python",
      "nbconvert_exporter": "python",
      "pygments_lexer": "ipython3",
      "version": "3.9.12"
    },
    "vscode": {
      "interpreter": {
        "hash": "d8f73907c151c089e412d06966dbb62c46a8f1a0b1e4da61da48d5cf79e6e202"
      }
    },
    "widgets": {
      "application/vnd.jupyter.widget-state+json": {
        "0027f9df79ae4c789d2244224b743c22": {
          "model_module": "@jupyter-widgets/controls",
          "model_module_version": "1.5.0",
          "model_name": "HBoxModel",
          "state": {
            "_dom_classes": [],
            "_model_module": "@jupyter-widgets/controls",
            "_model_module_version": "1.5.0",
            "_model_name": "HBoxModel",
            "_view_count": null,
            "_view_module": "@jupyter-widgets/controls",
            "_view_module_version": "1.5.0",
            "_view_name": "HBoxView",
            "box_style": "",
            "children": [
              "IPY_MODEL_41dca6e62c3545b298db0a54480764a3",
              "IPY_MODEL_2e8bcfde3bbd4560915399e4c9875998",
              "IPY_MODEL_d37d262d0c424480887d116ae3e64f47"
            ],
            "layout": "IPY_MODEL_81e714cf49054648af4249a13c563178"
          }
        },
        "01e695c70d8a4baab3cf1b11d2112021": {
          "model_module": "@jupyter-widgets/controls",
          "model_module_version": "1.5.0",
          "model_name": "ProgressStyleModel",
          "state": {
            "_model_module": "@jupyter-widgets/controls",
            "_model_module_version": "1.5.0",
            "_model_name": "ProgressStyleModel",
            "_view_count": null,
            "_view_module": "@jupyter-widgets/base",
            "_view_module_version": "1.2.0",
            "_view_name": "StyleView",
            "bar_color": null,
            "description_width": ""
          }
        },
        "02d95f9d08a94a2493985f30722ed59d": {
          "model_module": "@jupyter-widgets/controls",
          "model_module_version": "1.5.0",
          "model_name": "HTMLModel",
          "state": {
            "_dom_classes": [],
            "_model_module": "@jupyter-widgets/controls",
            "_model_module_version": "1.5.0",
            "_model_name": "HTMLModel",
            "_view_count": null,
            "_view_module": "@jupyter-widgets/controls",
            "_view_module_version": "1.5.0",
            "_view_name": "HTMLView",
            "description": "",
            "description_tooltip": null,
            "layout": "IPY_MODEL_4e3e05b65bde45d7a5b890bf2a4b0f02",
            "placeholder": "​",
            "style": "IPY_MODEL_74851e5caf03456bb85675b4918af63d",
            "value": " 570/570 [00:00&lt;00:00, 5.51kB/s]"
          }
        },
        "0ecdc8007e7a4e6db2480fc3736545d2": {
          "model_module": "@jupyter-widgets/controls",
          "model_module_version": "1.5.0",
          "model_name": "DescriptionStyleModel",
          "state": {
            "_model_module": "@jupyter-widgets/controls",
            "_model_module_version": "1.5.0",
            "_model_name": "DescriptionStyleModel",
            "_view_count": null,
            "_view_module": "@jupyter-widgets/base",
            "_view_module_version": "1.2.0",
            "_view_name": "StyleView",
            "description_width": ""
          }
        },
        "246b00e68e1e4f94ae301eee690aa868": {
          "model_module": "@jupyter-widgets/base",
          "model_module_version": "1.2.0",
          "model_name": "LayoutModel",
          "state": {
            "_model_module": "@jupyter-widgets/base",
            "_model_module_version": "1.2.0",
            "_model_name": "LayoutModel",
            "_view_count": null,
            "_view_module": "@jupyter-widgets/base",
            "_view_module_version": "1.2.0",
            "_view_name": "LayoutView",
            "align_content": null,
            "align_items": null,
            "align_self": null,
            "border": null,
            "bottom": null,
            "display": null,
            "flex": null,
            "flex_flow": null,
            "grid_area": null,
            "grid_auto_columns": null,
            "grid_auto_flow": null,
            "grid_auto_rows": null,
            "grid_column": null,
            "grid_gap": null,
            "grid_row": null,
            "grid_template_areas": null,
            "grid_template_columns": null,
            "grid_template_rows": null,
            "height": null,
            "justify_content": null,
            "justify_items": null,
            "left": null,
            "margin": null,
            "max_height": null,
            "max_width": null,
            "min_height": null,
            "min_width": null,
            "object_fit": null,
            "object_position": null,
            "order": null,
            "overflow": null,
            "overflow_x": null,
            "overflow_y": null,
            "padding": null,
            "right": null,
            "top": null,
            "visibility": null,
            "width": null
          }
        },
        "286333e220d445d9978c98ad454d705f": {
          "model_module": "@jupyter-widgets/base",
          "model_module_version": "1.2.0",
          "model_name": "LayoutModel",
          "state": {
            "_model_module": "@jupyter-widgets/base",
            "_model_module_version": "1.2.0",
            "_model_name": "LayoutModel",
            "_view_count": null,
            "_view_module": "@jupyter-widgets/base",
            "_view_module_version": "1.2.0",
            "_view_name": "LayoutView",
            "align_content": null,
            "align_items": null,
            "align_self": null,
            "border": null,
            "bottom": null,
            "display": null,
            "flex": null,
            "flex_flow": null,
            "grid_area": null,
            "grid_auto_columns": null,
            "grid_auto_flow": null,
            "grid_auto_rows": null,
            "grid_column": null,
            "grid_gap": null,
            "grid_row": null,
            "grid_template_areas": null,
            "grid_template_columns": null,
            "grid_template_rows": null,
            "height": null,
            "justify_content": null,
            "justify_items": null,
            "left": null,
            "margin": null,
            "max_height": null,
            "max_width": null,
            "min_height": null,
            "min_width": null,
            "object_fit": null,
            "object_position": null,
            "order": null,
            "overflow": null,
            "overflow_x": null,
            "overflow_y": null,
            "padding": null,
            "right": null,
            "top": null,
            "visibility": null,
            "width": null
          }
        },
        "2989c1e01ba14b409b7c2eb8c38a3d3e": {
          "model_module": "@jupyter-widgets/controls",
          "model_module_version": "1.5.0",
          "model_name": "HTMLModel",
          "state": {
            "_dom_classes": [],
            "_model_module": "@jupyter-widgets/controls",
            "_model_module_version": "1.5.0",
            "_model_name": "HTMLModel",
            "_view_count": null,
            "_view_module": "@jupyter-widgets/controls",
            "_view_module_version": "1.5.0",
            "_view_name": "HTMLView",
            "description": "",
            "description_tooltip": null,
            "layout": "IPY_MODEL_b36daddfffad4b1ea45274ee200b286e",
            "placeholder": "​",
            "style": "IPY_MODEL_c6e07cfd58fe4879a23a268888cde65e",
            "value": " 29.0/29.0 [00:00&lt;00:00, 228B/s]"
          }
        },
        "2e8bcfde3bbd4560915399e4c9875998": {
          "model_module": "@jupyter-widgets/controls",
          "model_module_version": "1.5.0",
          "model_name": "FloatProgressModel",
          "state": {
            "_dom_classes": [],
            "_model_module": "@jupyter-widgets/controls",
            "_model_module_version": "1.5.0",
            "_model_name": "FloatProgressModel",
            "_view_count": null,
            "_view_module": "@jupyter-widgets/controls",
            "_view_module_version": "1.5.0",
            "_view_name": "ProgressView",
            "bar_style": "success",
            "description": "",
            "description_tooltip": null,
            "layout": "IPY_MODEL_39862ffbbcb247df96742c4a783687de",
            "max": 213450,
            "min": 0,
            "orientation": "horizontal",
            "style": "IPY_MODEL_c114edaaab654a05a6a0141f31f2a982",
            "value": 213450
          }
        },
        "39862ffbbcb247df96742c4a783687de": {
          "model_module": "@jupyter-widgets/base",
          "model_module_version": "1.2.0",
          "model_name": "LayoutModel",
          "state": {
            "_model_module": "@jupyter-widgets/base",
            "_model_module_version": "1.2.0",
            "_model_name": "LayoutModel",
            "_view_count": null,
            "_view_module": "@jupyter-widgets/base",
            "_view_module_version": "1.2.0",
            "_view_name": "LayoutView",
            "align_content": null,
            "align_items": null,
            "align_self": null,
            "border": null,
            "bottom": null,
            "display": null,
            "flex": null,
            "flex_flow": null,
            "grid_area": null,
            "grid_auto_columns": null,
            "grid_auto_flow": null,
            "grid_auto_rows": null,
            "grid_column": null,
            "grid_gap": null,
            "grid_row": null,
            "grid_template_areas": null,
            "grid_template_columns": null,
            "grid_template_rows": null,
            "height": null,
            "justify_content": null,
            "justify_items": null,
            "left": null,
            "margin": null,
            "max_height": null,
            "max_width": null,
            "min_height": null,
            "min_width": null,
            "object_fit": null,
            "object_position": null,
            "order": null,
            "overflow": null,
            "overflow_x": null,
            "overflow_y": null,
            "padding": null,
            "right": null,
            "top": null,
            "visibility": null,
            "width": null
          }
        },
        "39c459b6d8be46d18754abfb8b0a8e7d": {
          "model_module": "@jupyter-widgets/controls",
          "model_module_version": "1.5.0",
          "model_name": "HBoxModel",
          "state": {
            "_dom_classes": [],
            "_model_module": "@jupyter-widgets/controls",
            "_model_module_version": "1.5.0",
            "_model_name": "HBoxModel",
            "_view_count": null,
            "_view_module": "@jupyter-widgets/controls",
            "_view_module_version": "1.5.0",
            "_view_name": "HBoxView",
            "box_style": "",
            "children": [
              "IPY_MODEL_634a45bdfe844dfb87c0e0a5e0c1c4e9",
              "IPY_MODEL_c62f03ebe24c4026b26a877d9d9b4fdd",
              "IPY_MODEL_2989c1e01ba14b409b7c2eb8c38a3d3e"
            ],
            "layout": "IPY_MODEL_8a2884e206014f7c9a5c86cdadbe2fb6"
          }
        },
        "41dca6e62c3545b298db0a54480764a3": {
          "model_module": "@jupyter-widgets/controls",
          "model_module_version": "1.5.0",
          "model_name": "HTMLModel",
          "state": {
            "_dom_classes": [],
            "_model_module": "@jupyter-widgets/controls",
            "_model_module_version": "1.5.0",
            "_model_name": "HTMLModel",
            "_view_count": null,
            "_view_module": "@jupyter-widgets/controls",
            "_view_module_version": "1.5.0",
            "_view_name": "HTMLView",
            "description": "",
            "description_tooltip": null,
            "layout": "IPY_MODEL_d3ca64723fae4a4b82def2c8708092c6",
            "placeholder": "​",
            "style": "IPY_MODEL_f628df1424d84b8d8d9090ca5140a5fa",
            "value": "Downloading: 100%"
          }
        },
        "4a2dcbd52f8549359839250cf8d4c8b6": {
          "model_module": "@jupyter-widgets/controls",
          "model_module_version": "1.5.0",
          "model_name": "DescriptionStyleModel",
          "state": {
            "_model_module": "@jupyter-widgets/controls",
            "_model_module_version": "1.5.0",
            "_model_name": "DescriptionStyleModel",
            "_view_count": null,
            "_view_module": "@jupyter-widgets/base",
            "_view_module_version": "1.2.0",
            "_view_name": "StyleView",
            "description_width": ""
          }
        },
        "4e3e05b65bde45d7a5b890bf2a4b0f02": {
          "model_module": "@jupyter-widgets/base",
          "model_module_version": "1.2.0",
          "model_name": "LayoutModel",
          "state": {
            "_model_module": "@jupyter-widgets/base",
            "_model_module_version": "1.2.0",
            "_model_name": "LayoutModel",
            "_view_count": null,
            "_view_module": "@jupyter-widgets/base",
            "_view_module_version": "1.2.0",
            "_view_name": "LayoutView",
            "align_content": null,
            "align_items": null,
            "align_self": null,
            "border": null,
            "bottom": null,
            "display": null,
            "flex": null,
            "flex_flow": null,
            "grid_area": null,
            "grid_auto_columns": null,
            "grid_auto_flow": null,
            "grid_auto_rows": null,
            "grid_column": null,
            "grid_gap": null,
            "grid_row": null,
            "grid_template_areas": null,
            "grid_template_columns": null,
            "grid_template_rows": null,
            "height": null,
            "justify_content": null,
            "justify_items": null,
            "left": null,
            "margin": null,
            "max_height": null,
            "max_width": null,
            "min_height": null,
            "min_width": null,
            "object_fit": null,
            "object_position": null,
            "order": null,
            "overflow": null,
            "overflow_x": null,
            "overflow_y": null,
            "padding": null,
            "right": null,
            "top": null,
            "visibility": null,
            "width": null
          }
        },
        "5b5f751e7fba481b9fc90981cb52041c": {
          "model_module": "@jupyter-widgets/base",
          "model_module_version": "1.2.0",
          "model_name": "LayoutModel",
          "state": {
            "_model_module": "@jupyter-widgets/base",
            "_model_module_version": "1.2.0",
            "_model_name": "LayoutModel",
            "_view_count": null,
            "_view_module": "@jupyter-widgets/base",
            "_view_module_version": "1.2.0",
            "_view_name": "LayoutView",
            "align_content": null,
            "align_items": null,
            "align_self": null,
            "border": null,
            "bottom": null,
            "display": null,
            "flex": null,
            "flex_flow": null,
            "grid_area": null,
            "grid_auto_columns": null,
            "grid_auto_flow": null,
            "grid_auto_rows": null,
            "grid_column": null,
            "grid_gap": null,
            "grid_row": null,
            "grid_template_areas": null,
            "grid_template_columns": null,
            "grid_template_rows": null,
            "height": null,
            "justify_content": null,
            "justify_items": null,
            "left": null,
            "margin": null,
            "max_height": null,
            "max_width": null,
            "min_height": null,
            "min_width": null,
            "object_fit": null,
            "object_position": null,
            "order": null,
            "overflow": null,
            "overflow_x": null,
            "overflow_y": null,
            "padding": null,
            "right": null,
            "top": null,
            "visibility": null,
            "width": null
          }
        },
        "60217126626f4c309ded200cded34779": {
          "model_module": "@jupyter-widgets/controls",
          "model_module_version": "1.5.0",
          "model_name": "ProgressStyleModel",
          "state": {
            "_model_module": "@jupyter-widgets/controls",
            "_model_module_version": "1.5.0",
            "_model_name": "ProgressStyleModel",
            "_view_count": null,
            "_view_module": "@jupyter-widgets/base",
            "_view_module_version": "1.2.0",
            "_view_name": "StyleView",
            "bar_color": null,
            "description_width": ""
          }
        },
        "634a45bdfe844dfb87c0e0a5e0c1c4e9": {
          "model_module": "@jupyter-widgets/controls",
          "model_module_version": "1.5.0",
          "model_name": "HTMLModel",
          "state": {
            "_dom_classes": [],
            "_model_module": "@jupyter-widgets/controls",
            "_model_module_version": "1.5.0",
            "_model_name": "HTMLModel",
            "_view_count": null,
            "_view_module": "@jupyter-widgets/controls",
            "_view_module_version": "1.5.0",
            "_view_name": "HTMLView",
            "description": "",
            "description_tooltip": null,
            "layout": "IPY_MODEL_246b00e68e1e4f94ae301eee690aa868",
            "placeholder": "​",
            "style": "IPY_MODEL_736bcfaac57a4d82b0671570590b57f5",
            "value": "Downloading: 100%"
          }
        },
        "64f523a89fb44c80b7ae3ae7d7c467c7": {
          "model_module": "@jupyter-widgets/base",
          "model_module_version": "1.2.0",
          "model_name": "LayoutModel",
          "state": {
            "_model_module": "@jupyter-widgets/base",
            "_model_module_version": "1.2.0",
            "_model_name": "LayoutModel",
            "_view_count": null,
            "_view_module": "@jupyter-widgets/base",
            "_view_module_version": "1.2.0",
            "_view_name": "LayoutView",
            "align_content": null,
            "align_items": null,
            "align_self": null,
            "border": null,
            "bottom": null,
            "display": null,
            "flex": null,
            "flex_flow": null,
            "grid_area": null,
            "grid_auto_columns": null,
            "grid_auto_flow": null,
            "grid_auto_rows": null,
            "grid_column": null,
            "grid_gap": null,
            "grid_row": null,
            "grid_template_areas": null,
            "grid_template_columns": null,
            "grid_template_rows": null,
            "height": null,
            "justify_content": null,
            "justify_items": null,
            "left": null,
            "margin": null,
            "max_height": null,
            "max_width": null,
            "min_height": null,
            "min_width": null,
            "object_fit": null,
            "object_position": null,
            "order": null,
            "overflow": null,
            "overflow_x": null,
            "overflow_y": null,
            "padding": null,
            "right": null,
            "top": null,
            "visibility": null,
            "width": null
          }
        },
        "736bcfaac57a4d82b0671570590b57f5": {
          "model_module": "@jupyter-widgets/controls",
          "model_module_version": "1.5.0",
          "model_name": "DescriptionStyleModel",
          "state": {
            "_model_module": "@jupyter-widgets/controls",
            "_model_module_version": "1.5.0",
            "_model_name": "DescriptionStyleModel",
            "_view_count": null,
            "_view_module": "@jupyter-widgets/base",
            "_view_module_version": "1.2.0",
            "_view_name": "StyleView",
            "description_width": ""
          }
        },
        "74851e5caf03456bb85675b4918af63d": {
          "model_module": "@jupyter-widgets/controls",
          "model_module_version": "1.5.0",
          "model_name": "DescriptionStyleModel",
          "state": {
            "_model_module": "@jupyter-widgets/controls",
            "_model_module_version": "1.5.0",
            "_model_name": "DescriptionStyleModel",
            "_view_count": null,
            "_view_module": "@jupyter-widgets/base",
            "_view_module_version": "1.2.0",
            "_view_name": "StyleView",
            "description_width": ""
          }
        },
        "81e714cf49054648af4249a13c563178": {
          "model_module": "@jupyter-widgets/base",
          "model_module_version": "1.2.0",
          "model_name": "LayoutModel",
          "state": {
            "_model_module": "@jupyter-widgets/base",
            "_model_module_version": "1.2.0",
            "_model_name": "LayoutModel",
            "_view_count": null,
            "_view_module": "@jupyter-widgets/base",
            "_view_module_version": "1.2.0",
            "_view_name": "LayoutView",
            "align_content": null,
            "align_items": null,
            "align_self": null,
            "border": null,
            "bottom": null,
            "display": null,
            "flex": null,
            "flex_flow": null,
            "grid_area": null,
            "grid_auto_columns": null,
            "grid_auto_flow": null,
            "grid_auto_rows": null,
            "grid_column": null,
            "grid_gap": null,
            "grid_row": null,
            "grid_template_areas": null,
            "grid_template_columns": null,
            "grid_template_rows": null,
            "height": null,
            "justify_content": null,
            "justify_items": null,
            "left": null,
            "margin": null,
            "max_height": null,
            "max_width": null,
            "min_height": null,
            "min_width": null,
            "object_fit": null,
            "object_position": null,
            "order": null,
            "overflow": null,
            "overflow_x": null,
            "overflow_y": null,
            "padding": null,
            "right": null,
            "top": null,
            "visibility": null,
            "width": null
          }
        },
        "8a2884e206014f7c9a5c86cdadbe2fb6": {
          "model_module": "@jupyter-widgets/base",
          "model_module_version": "1.2.0",
          "model_name": "LayoutModel",
          "state": {
            "_model_module": "@jupyter-widgets/base",
            "_model_module_version": "1.2.0",
            "_model_name": "LayoutModel",
            "_view_count": null,
            "_view_module": "@jupyter-widgets/base",
            "_view_module_version": "1.2.0",
            "_view_name": "LayoutView",
            "align_content": null,
            "align_items": null,
            "align_self": null,
            "border": null,
            "bottom": null,
            "display": null,
            "flex": null,
            "flex_flow": null,
            "grid_area": null,
            "grid_auto_columns": null,
            "grid_auto_flow": null,
            "grid_auto_rows": null,
            "grid_column": null,
            "grid_gap": null,
            "grid_row": null,
            "grid_template_areas": null,
            "grid_template_columns": null,
            "grid_template_rows": null,
            "height": null,
            "justify_content": null,
            "justify_items": null,
            "left": null,
            "margin": null,
            "max_height": null,
            "max_width": null,
            "min_height": null,
            "min_width": null,
            "object_fit": null,
            "object_position": null,
            "order": null,
            "overflow": null,
            "overflow_x": null,
            "overflow_y": null,
            "padding": null,
            "right": null,
            "top": null,
            "visibility": null,
            "width": null
          }
        },
        "903f4238408e4f09a33146617ce1856f": {
          "model_module": "@jupyter-widgets/controls",
          "model_module_version": "1.5.0",
          "model_name": "HTMLModel",
          "state": {
            "_dom_classes": [],
            "_model_module": "@jupyter-widgets/controls",
            "_model_module_version": "1.5.0",
            "_model_name": "HTMLModel",
            "_view_count": null,
            "_view_module": "@jupyter-widgets/controls",
            "_view_module_version": "1.5.0",
            "_view_name": "HTMLView",
            "description": "",
            "description_tooltip": null,
            "layout": "IPY_MODEL_286333e220d445d9978c98ad454d705f",
            "placeholder": "​",
            "style": "IPY_MODEL_4a2dcbd52f8549359839250cf8d4c8b6",
            "value": "Downloading: 100%"
          }
        },
        "a350e24e05fc43a99e78ed5fa8a25043": {
          "model_module": "@jupyter-widgets/base",
          "model_module_version": "1.2.0",
          "model_name": "LayoutModel",
          "state": {
            "_model_module": "@jupyter-widgets/base",
            "_model_module_version": "1.2.0",
            "_model_name": "LayoutModel",
            "_view_count": null,
            "_view_module": "@jupyter-widgets/base",
            "_view_module_version": "1.2.0",
            "_view_name": "LayoutView",
            "align_content": null,
            "align_items": null,
            "align_self": null,
            "border": null,
            "bottom": null,
            "display": null,
            "flex": null,
            "flex_flow": null,
            "grid_area": null,
            "grid_auto_columns": null,
            "grid_auto_flow": null,
            "grid_auto_rows": null,
            "grid_column": null,
            "grid_gap": null,
            "grid_row": null,
            "grid_template_areas": null,
            "grid_template_columns": null,
            "grid_template_rows": null,
            "height": null,
            "justify_content": null,
            "justify_items": null,
            "left": null,
            "margin": null,
            "max_height": null,
            "max_width": null,
            "min_height": null,
            "min_width": null,
            "object_fit": null,
            "object_position": null,
            "order": null,
            "overflow": null,
            "overflow_x": null,
            "overflow_y": null,
            "padding": null,
            "right": null,
            "top": null,
            "visibility": null,
            "width": null
          }
        },
        "a62c1ecbc87e41ebbad92d3602fa71d7": {
          "model_module": "@jupyter-widgets/controls",
          "model_module_version": "1.5.0",
          "model_name": "FloatProgressModel",
          "state": {
            "_dom_classes": [],
            "_model_module": "@jupyter-widgets/controls",
            "_model_module_version": "1.5.0",
            "_model_name": "FloatProgressModel",
            "_view_count": null,
            "_view_module": "@jupyter-widgets/controls",
            "_view_module_version": "1.5.0",
            "_view_name": "ProgressView",
            "bar_style": "success",
            "description": "",
            "description_tooltip": null,
            "layout": "IPY_MODEL_5b5f751e7fba481b9fc90981cb52041c",
            "max": 570,
            "min": 0,
            "orientation": "horizontal",
            "style": "IPY_MODEL_60217126626f4c309ded200cded34779",
            "value": 570
          }
        },
        "b36daddfffad4b1ea45274ee200b286e": {
          "model_module": "@jupyter-widgets/base",
          "model_module_version": "1.2.0",
          "model_name": "LayoutModel",
          "state": {
            "_model_module": "@jupyter-widgets/base",
            "_model_module_version": "1.2.0",
            "_model_name": "LayoutModel",
            "_view_count": null,
            "_view_module": "@jupyter-widgets/base",
            "_view_module_version": "1.2.0",
            "_view_name": "LayoutView",
            "align_content": null,
            "align_items": null,
            "align_self": null,
            "border": null,
            "bottom": null,
            "display": null,
            "flex": null,
            "flex_flow": null,
            "grid_area": null,
            "grid_auto_columns": null,
            "grid_auto_flow": null,
            "grid_auto_rows": null,
            "grid_column": null,
            "grid_gap": null,
            "grid_row": null,
            "grid_template_areas": null,
            "grid_template_columns": null,
            "grid_template_rows": null,
            "height": null,
            "justify_content": null,
            "justify_items": null,
            "left": null,
            "margin": null,
            "max_height": null,
            "max_width": null,
            "min_height": null,
            "min_width": null,
            "object_fit": null,
            "object_position": null,
            "order": null,
            "overflow": null,
            "overflow_x": null,
            "overflow_y": null,
            "padding": null,
            "right": null,
            "top": null,
            "visibility": null,
            "width": null
          }
        },
        "b8a3af37369442cc920dfcc62ca7d677": {
          "model_module": "@jupyter-widgets/controls",
          "model_module_version": "1.5.0",
          "model_name": "HBoxModel",
          "state": {
            "_dom_classes": [],
            "_model_module": "@jupyter-widgets/controls",
            "_model_module_version": "1.5.0",
            "_model_name": "HBoxModel",
            "_view_count": null,
            "_view_module": "@jupyter-widgets/controls",
            "_view_module_version": "1.5.0",
            "_view_name": "HBoxView",
            "box_style": "",
            "children": [
              "IPY_MODEL_903f4238408e4f09a33146617ce1856f",
              "IPY_MODEL_a62c1ecbc87e41ebbad92d3602fa71d7",
              "IPY_MODEL_02d95f9d08a94a2493985f30722ed59d"
            ],
            "layout": "IPY_MODEL_64f523a89fb44c80b7ae3ae7d7c467c7"
          }
        },
        "c114edaaab654a05a6a0141f31f2a982": {
          "model_module": "@jupyter-widgets/controls",
          "model_module_version": "1.5.0",
          "model_name": "ProgressStyleModel",
          "state": {
            "_model_module": "@jupyter-widgets/controls",
            "_model_module_version": "1.5.0",
            "_model_name": "ProgressStyleModel",
            "_view_count": null,
            "_view_module": "@jupyter-widgets/base",
            "_view_module_version": "1.2.0",
            "_view_name": "StyleView",
            "bar_color": null,
            "description_width": ""
          }
        },
        "c62f03ebe24c4026b26a877d9d9b4fdd": {
          "model_module": "@jupyter-widgets/controls",
          "model_module_version": "1.5.0",
          "model_name": "FloatProgressModel",
          "state": {
            "_dom_classes": [],
            "_model_module": "@jupyter-widgets/controls",
            "_model_module_version": "1.5.0",
            "_model_name": "FloatProgressModel",
            "_view_count": null,
            "_view_module": "@jupyter-widgets/controls",
            "_view_module_version": "1.5.0",
            "_view_name": "ProgressView",
            "bar_style": "success",
            "description": "",
            "description_tooltip": null,
            "layout": "IPY_MODEL_a350e24e05fc43a99e78ed5fa8a25043",
            "max": 29,
            "min": 0,
            "orientation": "horizontal",
            "style": "IPY_MODEL_01e695c70d8a4baab3cf1b11d2112021",
            "value": 29
          }
        },
        "c6e07cfd58fe4879a23a268888cde65e": {
          "model_module": "@jupyter-widgets/controls",
          "model_module_version": "1.5.0",
          "model_name": "DescriptionStyleModel",
          "state": {
            "_model_module": "@jupyter-widgets/controls",
            "_model_module_version": "1.5.0",
            "_model_name": "DescriptionStyleModel",
            "_view_count": null,
            "_view_module": "@jupyter-widgets/base",
            "_view_module_version": "1.2.0",
            "_view_name": "StyleView",
            "description_width": ""
          }
        },
        "d19f55ffefcb4ca28df2d1c5a514d9a3": {
          "model_module": "@jupyter-widgets/base",
          "model_module_version": "1.2.0",
          "model_name": "LayoutModel",
          "state": {
            "_model_module": "@jupyter-widgets/base",
            "_model_module_version": "1.2.0",
            "_model_name": "LayoutModel",
            "_view_count": null,
            "_view_module": "@jupyter-widgets/base",
            "_view_module_version": "1.2.0",
            "_view_name": "LayoutView",
            "align_content": null,
            "align_items": null,
            "align_self": null,
            "border": null,
            "bottom": null,
            "display": null,
            "flex": null,
            "flex_flow": null,
            "grid_area": null,
            "grid_auto_columns": null,
            "grid_auto_flow": null,
            "grid_auto_rows": null,
            "grid_column": null,
            "grid_gap": null,
            "grid_row": null,
            "grid_template_areas": null,
            "grid_template_columns": null,
            "grid_template_rows": null,
            "height": null,
            "justify_content": null,
            "justify_items": null,
            "left": null,
            "margin": null,
            "max_height": null,
            "max_width": null,
            "min_height": null,
            "min_width": null,
            "object_fit": null,
            "object_position": null,
            "order": null,
            "overflow": null,
            "overflow_x": null,
            "overflow_y": null,
            "padding": null,
            "right": null,
            "top": null,
            "visibility": null,
            "width": null
          }
        },
        "d37d262d0c424480887d116ae3e64f47": {
          "model_module": "@jupyter-widgets/controls",
          "model_module_version": "1.5.0",
          "model_name": "HTMLModel",
          "state": {
            "_dom_classes": [],
            "_model_module": "@jupyter-widgets/controls",
            "_model_module_version": "1.5.0",
            "_model_name": "HTMLModel",
            "_view_count": null,
            "_view_module": "@jupyter-widgets/controls",
            "_view_module_version": "1.5.0",
            "_view_name": "HTMLView",
            "description": "",
            "description_tooltip": null,
            "layout": "IPY_MODEL_d19f55ffefcb4ca28df2d1c5a514d9a3",
            "placeholder": "​",
            "style": "IPY_MODEL_0ecdc8007e7a4e6db2480fc3736545d2",
            "value": " 213k/213k [00:00&lt;00:00, 509kB/s]"
          }
        },
        "d3ca64723fae4a4b82def2c8708092c6": {
          "model_module": "@jupyter-widgets/base",
          "model_module_version": "1.2.0",
          "model_name": "LayoutModel",
          "state": {
            "_model_module": "@jupyter-widgets/base",
            "_model_module_version": "1.2.0",
            "_model_name": "LayoutModel",
            "_view_count": null,
            "_view_module": "@jupyter-widgets/base",
            "_view_module_version": "1.2.0",
            "_view_name": "LayoutView",
            "align_content": null,
            "align_items": null,
            "align_self": null,
            "border": null,
            "bottom": null,
            "display": null,
            "flex": null,
            "flex_flow": null,
            "grid_area": null,
            "grid_auto_columns": null,
            "grid_auto_flow": null,
            "grid_auto_rows": null,
            "grid_column": null,
            "grid_gap": null,
            "grid_row": null,
            "grid_template_areas": null,
            "grid_template_columns": null,
            "grid_template_rows": null,
            "height": null,
            "justify_content": null,
            "justify_items": null,
            "left": null,
            "margin": null,
            "max_height": null,
            "max_width": null,
            "min_height": null,
            "min_width": null,
            "object_fit": null,
            "object_position": null,
            "order": null,
            "overflow": null,
            "overflow_x": null,
            "overflow_y": null,
            "padding": null,
            "right": null,
            "top": null,
            "visibility": null,
            "width": null
          }
        },
        "f628df1424d84b8d8d9090ca5140a5fa": {
          "model_module": "@jupyter-widgets/controls",
          "model_module_version": "1.5.0",
          "model_name": "DescriptionStyleModel",
          "state": {
            "_model_module": "@jupyter-widgets/controls",
            "_model_module_version": "1.5.0",
            "_model_name": "DescriptionStyleModel",
            "_view_count": null,
            "_view_module": "@jupyter-widgets/base",
            "_view_module_version": "1.2.0",
            "_view_name": "StyleView",
            "description_width": ""
          }
        }
      }
    }
  },
  "nbformat": 4,
  "nbformat_minor": 0
}
